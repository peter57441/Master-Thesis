{
 "cells": [
  {
   "cell_type": "code",
   "execution_count": null,
   "metadata": {},
   "outputs": [],
   "source": [
    "import numpy as np\n",
    "import tensorflow as tf\n",
    "import matplotlib.pyplot as plt\n",
    "import pandas as pd\n",
    "from scipy.stats import norm\n",
    "import seaborn as sns\n",
    "sns.set(style=\"darkgrid\")\n",
    "from sklearn.model_selection import train_test_split\n",
    "from sklearn.preprocessing import StandardScaler, MinMaxScaler\n",
    "from keras.models import Sequential\n",
    "from keras.layers import Dense\n",
    "from keras.optimizers import Adam\n",
    "\n"
   ]
  },
  {
   "cell_type": "markdown",
   "metadata": {},
   "source": [
    "# Simulation 1 : Parameters are generated uniformly "
   ]
  },
  {
   "cell_type": "code",
   "execution_count": null,
   "metadata": {},
   "outputs": [],
   "source": [
    "# Black-Scholes formula for European call option\n",
    "def black_scholes_call(S, K, T, r, sigma):\n",
    "    d1 = (np.log(S / K) + (r + 0.5 * sigma ** 2) * T) / (sigma * np.sqrt(T))\n",
    "    d2 = d1 - sigma * np.sqrt(T)\n",
    "    return S * norm.cdf(d1) - K * np.exp(-r * T) * norm.cdf(d2)\n",
    "\n",
    "# Generate synthetic Black-Scholes option prices\n",
    "def generate_data(n_samples, seed=42):\n",
    "    np.random.seed(seed)\n",
    "    S = np.random.uniform(50, 200, n_samples)  # Stock price\n",
    "    K = np.random.uniform(50, 200, n_samples)  # Strike price\n",
    "    T = np.random.uniform(1/252, 2, n_samples)  # Time to maturity\n",
    "    r = np.random.uniform(0.01, 0.05, n_samples)  # Risk-free rate\n",
    "    sigma = np.random.uniform(0.1, 0.9, n_samples)  # Volatility\n",
    "    prices = black_scholes_call(S, K, T, r, sigma) / K\n",
    "    moneyness = S / K\n",
    "    \n",
    "    data = pd.DataFrame({'M': moneyness, 'S': S, 'K': K, 'T': T, 'r': r, 'sigma': sigma, 'C/K': prices})\n",
    "\n",
    "    return data\n"
   ]
  },
  {
   "cell_type": "code",
   "execution_count": null,
   "metadata": {},
   "outputs": [],
   "source": [
    "\n",
    "\n",
    "# split data into training and test sets\n",
    "\n",
    "# Generate synthetic data\n",
    "n_samples = 100000\n",
    "\n",
    "data = generate_data(n_samples)\n",
    "\n",
    "# Split data into training and test sets\n",
    "X = data[['M', 'T', 'r', 'sigma']]\n",
    "y = data['C/K']\n",
    "\n",
    "X_train, X_test, y_train, y_test = train_test_split(X, y, test_size=0.2, random_state=42)"
   ]
  },
  {
   "cell_type": "code",
   "execution_count": null,
   "metadata": {},
   "outputs": [],
   "source": [
    "\n",
    "\n",
    "# standardize data\n",
    "scaler = MinMaxScaler()\n",
    "X_train_scaled = scaler.fit_transform(X_train)\n",
    "X_test_scaled = scaler.transform(X_test)\n",
    "\n",
    "#y_scaler = MinMaxScaler()\n",
    "#y_train_scaled = y_scaler.fit_transform(y_train.values.reshape(-1, 1)).flatten()\n",
    "#y_test_scaled = y_scaler.transform(y_test.values.reshape(-1, 1)).flatten()\n",
    "\n",
    "# create a neural network model\n",
    "model = Sequential()\n",
    "model.add(Dense(128, activation='relu', input_shape=(4,)))\n",
    "model.add(Dense(128, activation='relu'))\n",
    "model.add(Dense(128, activation='relu'))\n",
    "model.add(Dense(128, activation='relu'))\n",
    "model.add(Dense(1, activation='relu'))\n",
    "\n",
    "optimizer = Adam(learning_rate=0.001)\n",
    "model.compile(optimizer=optimizer, loss='mse')\n",
    "\n",
    "# train the model\n",
    "model.fit(X_train_scaled, y_train, epochs=30, batch_size=64)\n",
    "\n",
    "# make predictions on the test set and rescale them\n",
    "#y_pred = y_scaler.inverse_transform(model.predict(X_test_scaled)).flatten()\n",
    "y_pred = model.predict(X_test_scaled).flatten()\n",
    "\n",
    "\n",
    "\n",
    "\n",
    "\n"
   ]
  },
  {
   "cell_type": "code",
   "execution_count": null,
   "metadata": {},
   "outputs": [],
   "source": [
    "\n",
    "def CheckAccuracy(y_true, y_pred):\n",
    "    stats = dict()\n",
    "    stats['diff'] = y_true - y_pred\n",
    "    stats['rmse'] = np.sqrt(np.mean(stats['diff']**2))\n",
    "    print(\"Root Mean Squared Error:   \" , stats['rmse'])\n",
    "    stats['mape'] = np.mean(np.abs(stats['diff'] / y_true)) \n",
    "    print(\"Mean Absolute Percentage Error:   \" , stats['mape'])\n",
    "    stats['mse'] = np.mean(stats['diff']**2)\n",
    "    print(\"Mean Squared Error:   \" , stats['mse'])\n",
    "    stats['mae'] = np.mean(np.abs(stats['diff']))\n",
    "    print(\"Mean Absolute Error:   \" , stats['mae'])\n",
    "    stats['r2'] = 1 - np.sum(stats['diff']**2) / np.sum((y_true - np.mean(y_true))**2)\n",
    "    print(\"R^2:   \" , stats['r2'])\n",
    "    return stats\n",
    "\n",
    "\n",
    "CheckAccuracy(y_test, y_pred)\n",
    "\n",
    "\n"
   ]
  },
  {
   "cell_type": "markdown",
   "metadata": {},
   "source": [
    "# Analysis"
   ]
  },
  {
   "cell_type": "code",
   "execution_count": null,
   "metadata": {},
   "outputs": [],
   "source": [
    "# plot option prices in a 3D plot as a function of time to maturity and stock price\n",
    "fig = plt.figure()\n",
    "ax = fig.add_subplot(111, projection='3d')\n",
    "ax.scatter(X['T'], X['M'], y)\n",
    "ax.set_xlabel('Time to maturity')\n",
    "ax.set_ylabel('Moneyness')\n",
    "ax.set_zlabel('Option price')\n",
    "plt.show()\n",
    "\n"
   ]
  },
  {
   "cell_type": "code",
   "execution_count": null,
   "metadata": {},
   "outputs": [],
   "source": [
    "\n",
    "\n",
    "# make a scatter plot of the residuals as a function of the true option price\n",
    "\n",
    "# residuals as absolute percentage error\n",
    "ANN_error = y_test - y_pred\n",
    "\n",
    "plt.figure(figsize=(10, 6))\n",
    "plt.hist(ANN_error, bins=50, color='black')\n",
    "plt.title('Out-of-sample pricing errors')\n",
    "plt.xlabel('Residuals')\n",
    "plt.ylabel('Frequency')\n",
    "plt.grid(True)\n",
    "plt.tight_layout()\n",
    "plt.show()\n",
    "\n",
    "# make a scatter of the real vs predicted values with a line y=x\n",
    "\n",
    "plt.figure(figsize=(10, 6))\n",
    "plt.scatter(y_test, y_pred, color='black', s=0.2)\n",
    "# add a red line x=y for reference\n",
    "plt.plot([0, 4], [0, 4], color='red', lw=1)\n",
    "plt.title('Actual vs. Predicted Option Prices')\n",
    "plt.xlabel('Actual Price (C/K)')\n",
    "plt.ylabel('Predicted Price ($\\hat{C/K}$)')\n",
    "plt.grid(True)\n",
    "plt.tight_layout()\n",
    "plt.show()\n",
    "\n"
   ]
  },
  {
   "cell_type": "code",
   "execution_count": null,
   "metadata": {},
   "outputs": [],
   "source": [
    "# plot the residuals as a function of monyness\n",
    "\n",
    "plt.figure(figsize=(10, 6))\n",
    "plt.scatter(X_test['M'], ANN_error, color='black', s=1)\n",
    "plt.title('Residuals vs. Moneyness')\n",
    "plt.xlabel('Moneyness')\n",
    "plt.axhline(y=0, color='red', lw=1)\n",
    "plt.ylabel('Residuals')\n",
    "plt.grid(True)\n",
    "plt.tight_layout()\n",
    "plt.show()"
   ]
  },
  {
   "cell_type": "code",
   "execution_count": null,
   "metadata": {},
   "outputs": [],
   "source": [
    "# plot the residuals as a function of time to maturity\n",
    "\n",
    "plt.figure(figsize=(10, 6))\n",
    "plt.scatter(X_test['T'], ANN_error, color='black', s=1)\n",
    "plt.title('Residuals vs. Time to Maturity')\n",
    "plt.xlabel('Time to Maturity')\n",
    "plt.axhline(y=0, color='red', lw=1)\n",
    "plt.ylabel('Residuals')\n",
    "plt.grid(True)\n",
    "plt.tight_layout()\n",
    "plt.show()"
   ]
  },
  {
   "cell_type": "code",
   "execution_count": null,
   "metadata": {},
   "outputs": [],
   "source": [
    "# plot the absolute percentage error as a function the call option price\n",
    "\n",
    "plt.figure(figsize=(10, 6))\n",
    "plt.scatter(y_test, np.abs(ANN_error/y_test), color='black', s=0.5)\n",
    "plt.title('Absolute Percentage Error by Option Price ($C/K$)') \n",
    "plt.xlabel('$C/K$')\n",
    "plt.ylabel('Absolute Percentage Error')\n",
    "plt.ylim(0, 10)\n",
    "plt.grid(True)\n",
    "plt.tight_layout()\n",
    "plt.show()"
   ]
  },
  {
   "cell_type": "code",
   "execution_count": null,
   "metadata": {},
   "outputs": [],
   "source": [
    "# make a latex table with the RMSE, MAPE, MAE, and R^2\n",
    "\n",
    "from tabulate import tabulate\n",
    "\n",
    "stats = CheckAccuracy(y_test, y_pred)\n",
    "\n",
    "print('')\n",
    "\n",
    "table = [['RMSE', 'MAPE', 'MAE', 'R^2'],\n",
    "            [round(stats['rmse'],5), round(stats['mape'],5), round(stats['mae'],5), round(stats['r2'],5)]]\n",
    "print(tabulate(table, headers='firstrow', tablefmt='latex'))\n",
    "\n",
    "\n"
   ]
  }
 ],
 "metadata": {
  "kernelspec": {
   "display_name": "base",
   "language": "python",
   "name": "python3"
  },
  "language_info": {
   "codemirror_mode": {
    "name": "ipython",
    "version": 3
   },
   "file_extension": ".py",
   "mimetype": "text/x-python",
   "name": "python",
   "nbconvert_exporter": "python",
   "pygments_lexer": "ipython3",
   "version": "3.11.4"
  }
 },
 "nbformat": 4,
 "nbformat_minor": 2
}
