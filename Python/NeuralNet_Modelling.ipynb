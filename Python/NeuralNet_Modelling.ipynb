{
 "cells": [
  {
   "cell_type": "code",
   "execution_count": 1,
   "metadata": {},
   "outputs": [
    {
     "name": "stderr",
     "output_type": "stream",
     "text": [
      "c:\\ProgramData\\anaconda3\\Lib\\site-packages\\pandas\\core\\arrays\\masked.py:60: UserWarning: Pandas requires version '1.3.6' or newer of 'bottleneck' (version '1.3.5' currently installed).\n",
      "  from pandas.core import (\n"
     ]
    }
   ],
   "source": [
    "import numpy as np\n",
    "import tensorflow as tf\n",
    "import matplotlib.pyplot as plt\n",
    "import pandas as pd\n",
    "from scipy.stats import norm\n",
    "from sklearn.model_selection import train_test_split\n",
    "from sklearn.preprocessing import RobustScaler, StandardScaler, MinMaxScaler\n",
    "from keras.models import Sequential\n",
    "from keras.layers import Dense, Dropout, LeakyReLU, Lambda\n",
    "from keras.optimizers import Adam\n",
    "from keras.regularizers import l2\n",
    "import time\n",
    "\n",
    "\n",
    "\n",
    "\n"
   ]
  },
  {
   "cell_type": "code",
   "execution_count": null,
   "metadata": {},
   "outputs": [],
   "source": [
    "\n",
    "print(tf.config.list_physical_devices('GPU'))\n",
    "\n",
    "\n",
    "\n",
    "\n"
   ]
  },
  {
   "cell_type": "markdown",
   "metadata": {},
   "source": [
    "## Option prices and BS-Price are divided by K"
   ]
  },
  {
   "cell_type": "code",
   "execution_count": 2,
   "metadata": {},
   "outputs": [],
   "source": [
    "\n",
    "def CheckAccuracy(y_true, y_pred):\n",
    "    stats = dict()\n",
    "    stats['diff'] = y_true - y_pred\n",
    "    stats['rmse'] = np.sqrt(np.mean(stats['diff']**2))\n",
    "    print(\"Root Mean Squared Error:   \" , stats['rmse'])\n",
    "    stats['mape'] = np.mean(np.abs(stats['diff'] / y_true)) \n",
    "    print(\"Mean Absolute Percentage Error:   \" , stats['mape'])\n",
    "    stats['mse'] = np.mean(stats['diff']**2)\n",
    "    print(\"Mean Squared Error:   \" , stats['mse'])\n",
    "    return stats\n",
    "\n",
    "\n"
   ]
  },
  {
   "cell_type": "code",
   "execution_count": 2,
   "metadata": {},
   "outputs": [
    {
     "data": {
      "text/html": [
       "<div>\n",
       "<style scoped>\n",
       "    .dataframe tbody tr th:only-of-type {\n",
       "        vertical-align: middle;\n",
       "    }\n",
       "\n",
       "    .dataframe tbody tr th {\n",
       "        vertical-align: top;\n",
       "    }\n",
       "\n",
       "    .dataframe thead th {\n",
       "        text-align: right;\n",
       "    }\n",
       "</style>\n",
       "<table border=\"1\" class=\"dataframe\">\n",
       "  <thead>\n",
       "    <tr style=\"text-align: right;\">\n",
       "      <th></th>\n",
       "      <th>Stock (S)</th>\n",
       "      <th>Strike (K)</th>\n",
       "      <th>Moneyness (M)</th>\n",
       "      <th>Time to maturity (T)</th>\n",
       "      <th>Risk free rate (r)</th>\n",
       "      <th>BS (vol10)</th>\n",
       "      <th>BS (vol30)</th>\n",
       "      <th>BS (vol60)</th>\n",
       "      <th>BS GARCH</th>\n",
       "      <th>BS VIX</th>\n",
       "      <th>vol10</th>\n",
       "      <th>vol30</th>\n",
       "      <th>vol60</th>\n",
       "      <th>GARCH</th>\n",
       "      <th>VIX</th>\n",
       "      <th>Option Price (C)</th>\n",
       "      <th>ID</th>\n",
       "      <th>Year</th>\n",
       "    </tr>\n",
       "  </thead>\n",
       "  <tbody>\n",
       "    <tr>\n",
       "      <th>2010-01-04</th>\n",
       "      <td>1132.99</td>\n",
       "      <td>1100.0</td>\n",
       "      <td>1.029991</td>\n",
       "      <td>0.010959</td>\n",
       "      <td>0.0008</td>\n",
       "      <td>3.002031e-02</td>\n",
       "      <td>3.006473e-02</td>\n",
       "      <td>0.030254</td>\n",
       "      <td>3.000093e-02</td>\n",
       "      <td>0.030765</td>\n",
       "      <td>0.111011</td>\n",
       "      <td>0.127922</td>\n",
       "      <td>0.158795</td>\n",
       "      <td>0.086052</td>\n",
       "      <td>0.2004</td>\n",
       "      <td>0.030273</td>\n",
       "      <td>46405649</td>\n",
       "      <td>2010</td>\n",
       "    </tr>\n",
       "    <tr>\n",
       "      <th>2010-01-04</th>\n",
       "      <td>1132.99</td>\n",
       "      <td>1150.0</td>\n",
       "      <td>0.985209</td>\n",
       "      <td>0.010959</td>\n",
       "      <td>0.0008</td>\n",
       "      <td>5.461026e-04</td>\n",
       "      <td>8.904219e-04</td>\n",
       "      <td>0.001670</td>\n",
       "      <td>1.830931e-04</td>\n",
       "      <td>0.002925</td>\n",
       "      <td>0.111011</td>\n",
       "      <td>0.127922</td>\n",
       "      <td>0.158795</td>\n",
       "      <td>0.086052</td>\n",
       "      <td>0.2004</td>\n",
       "      <td>0.001348</td>\n",
       "      <td>46014255</td>\n",
       "      <td>2010</td>\n",
       "    </tr>\n",
       "    <tr>\n",
       "      <th>2010-01-04</th>\n",
       "      <td>1132.99</td>\n",
       "      <td>1200.0</td>\n",
       "      <td>0.944158</td>\n",
       "      <td>0.010959</td>\n",
       "      <td>0.0008</td>\n",
       "      <td>8.148158e-10</td>\n",
       "      <td>2.470721e-08</td>\n",
       "      <td>0.000001</td>\n",
       "      <td>1.179291e-13</td>\n",
       "      <td>0.000019</td>\n",
       "      <td>0.111011</td>\n",
       "      <td>0.127922</td>\n",
       "      <td>0.158795</td>\n",
       "      <td>0.086052</td>\n",
       "      <td>0.2004</td>\n",
       "      <td>0.000104</td>\n",
       "      <td>46829953</td>\n",
       "      <td>2010</td>\n",
       "    </tr>\n",
       "    <tr>\n",
       "      <th>2010-01-04</th>\n",
       "      <td>1132.99</td>\n",
       "      <td>1125.0</td>\n",
       "      <td>1.007102</td>\n",
       "      <td>0.010959</td>\n",
       "      <td>0.0008</td>\n",
       "      <td>9.047122e-03</td>\n",
       "      <td>9.650321e-03</td>\n",
       "      <td>0.010806</td>\n",
       "      <td>8.223606e-03</td>\n",
       "      <td>0.012429</td>\n",
       "      <td>0.111011</td>\n",
       "      <td>0.127922</td>\n",
       "      <td>0.158795</td>\n",
       "      <td>0.086052</td>\n",
       "      <td>0.2004</td>\n",
       "      <td>0.010622</td>\n",
       "      <td>46343648</td>\n",
       "      <td>2010</td>\n",
       "    </tr>\n",
       "    <tr>\n",
       "      <th>2010-01-04</th>\n",
       "      <td>1132.99</td>\n",
       "      <td>1175.0</td>\n",
       "      <td>0.964247</td>\n",
       "      <td>0.010959</td>\n",
       "      <td>0.0008</td>\n",
       "      <td>2.713361e-06</td>\n",
       "      <td>1.313734e-05</td>\n",
       "      <td>0.000082</td>\n",
       "      <td>5.275442e-08</td>\n",
       "      <td>0.000346</td>\n",
       "      <td>0.111011</td>\n",
       "      <td>0.127922</td>\n",
       "      <td>0.158795</td>\n",
       "      <td>0.086052</td>\n",
       "      <td>0.2004</td>\n",
       "      <td>0.000149</td>\n",
       "      <td>45734175</td>\n",
       "      <td>2010</td>\n",
       "    </tr>\n",
       "  </tbody>\n",
       "</table>\n",
       "</div>"
      ],
      "text/plain": [
       "            Stock (S)  Strike (K)  Moneyness (M)  Time to maturity (T)  \\\n",
       "2010-01-04    1132.99      1100.0       1.029991              0.010959   \n",
       "2010-01-04    1132.99      1150.0       0.985209              0.010959   \n",
       "2010-01-04    1132.99      1200.0       0.944158              0.010959   \n",
       "2010-01-04    1132.99      1125.0       1.007102              0.010959   \n",
       "2010-01-04    1132.99      1175.0       0.964247              0.010959   \n",
       "\n",
       "            Risk free rate (r)    BS (vol10)    BS (vol30)  BS (vol60)  \\\n",
       "2010-01-04              0.0008  3.002031e-02  3.006473e-02    0.030254   \n",
       "2010-01-04              0.0008  5.461026e-04  8.904219e-04    0.001670   \n",
       "2010-01-04              0.0008  8.148158e-10  2.470721e-08    0.000001   \n",
       "2010-01-04              0.0008  9.047122e-03  9.650321e-03    0.010806   \n",
       "2010-01-04              0.0008  2.713361e-06  1.313734e-05    0.000082   \n",
       "\n",
       "                BS GARCH    BS VIX     vol10     vol30     vol60     GARCH  \\\n",
       "2010-01-04  3.000093e-02  0.030765  0.111011  0.127922  0.158795  0.086052   \n",
       "2010-01-04  1.830931e-04  0.002925  0.111011  0.127922  0.158795  0.086052   \n",
       "2010-01-04  1.179291e-13  0.000019  0.111011  0.127922  0.158795  0.086052   \n",
       "2010-01-04  8.223606e-03  0.012429  0.111011  0.127922  0.158795  0.086052   \n",
       "2010-01-04  5.275442e-08  0.000346  0.111011  0.127922  0.158795  0.086052   \n",
       "\n",
       "               VIX  Option Price (C)        ID  Year  \n",
       "2010-01-04  0.2004          0.030273  46405649  2010  \n",
       "2010-01-04  0.2004          0.001348  46014255  2010  \n",
       "2010-01-04  0.2004          0.000104  46829953  2010  \n",
       "2010-01-04  0.2004          0.010622  46343648  2010  \n",
       "2010-01-04  0.2004          0.000149  45734175  2010  "
      ]
     },
     "execution_count": 2,
     "metadata": {},
     "output_type": "execute_result"
    }
   ],
   "source": [
    "\n",
    "# import data\n",
    "df = pd.read_csv('C:/Users/User/Desktop/Data speciale/NeuralNet_data_v2.csv', parse_dates= True, index_col=0)\n",
    "\n",
    "df.dropna(inplace=True)\n"
   ]
  },
  {
   "cell_type": "code",
   "execution_count": 13,
   "metadata": {},
   "outputs": [
    {
     "data": {
      "text/html": [
       "<div>\n",
       "<style scoped>\n",
       "    .dataframe tbody tr th:only-of-type {\n",
       "        vertical-align: middle;\n",
       "    }\n",
       "\n",
       "    .dataframe tbody tr th {\n",
       "        vertical-align: top;\n",
       "    }\n",
       "\n",
       "    .dataframe thead th {\n",
       "        text-align: right;\n",
       "    }\n",
       "</style>\n",
       "<table border=\"1\" class=\"dataframe\">\n",
       "  <thead>\n",
       "    <tr style=\"text-align: right;\">\n",
       "      <th></th>\n",
       "      <th>Stock (S)</th>\n",
       "      <th>Strike (K)</th>\n",
       "      <th>Moneyness (M)</th>\n",
       "      <th>Time to maturity (T)</th>\n",
       "      <th>Risk free rate (r)</th>\n",
       "      <th>BS (vol10)</th>\n",
       "      <th>BS (vol30)</th>\n",
       "      <th>BS (vol60)</th>\n",
       "      <th>BS GARCH</th>\n",
       "      <th>BS VIX</th>\n",
       "      <th>vol10</th>\n",
       "      <th>vol30</th>\n",
       "      <th>vol60</th>\n",
       "      <th>GARCH</th>\n",
       "      <th>VIX</th>\n",
       "      <th>Option Price (C)</th>\n",
       "      <th>ID</th>\n",
       "      <th>Year</th>\n",
       "      <th>price</th>\n",
       "    </tr>\n",
       "  </thead>\n",
       "  <tbody>\n",
       "    <tr>\n",
       "      <th>2010-01-04</th>\n",
       "      <td>1132.99</td>\n",
       "      <td>1100.0</td>\n",
       "      <td>1.029991</td>\n",
       "      <td>0.010959</td>\n",
       "      <td>0.0008</td>\n",
       "      <td>3.002031e-02</td>\n",
       "      <td>3.006473e-02</td>\n",
       "      <td>0.030254</td>\n",
       "      <td>3.000093e-02</td>\n",
       "      <td>0.030765</td>\n",
       "      <td>0.111011</td>\n",
       "      <td>0.127922</td>\n",
       "      <td>0.158795</td>\n",
       "      <td>0.086052</td>\n",
       "      <td>0.2004</td>\n",
       "      <td>0.030273</td>\n",
       "      <td>46405649</td>\n",
       "      <td>2010</td>\n",
       "      <td>33.300</td>\n",
       "    </tr>\n",
       "    <tr>\n",
       "      <th>2010-01-04</th>\n",
       "      <td>1132.99</td>\n",
       "      <td>1150.0</td>\n",
       "      <td>0.985209</td>\n",
       "      <td>0.010959</td>\n",
       "      <td>0.0008</td>\n",
       "      <td>5.461026e-04</td>\n",
       "      <td>8.904219e-04</td>\n",
       "      <td>0.001670</td>\n",
       "      <td>1.830931e-04</td>\n",
       "      <td>0.002925</td>\n",
       "      <td>0.111011</td>\n",
       "      <td>0.127922</td>\n",
       "      <td>0.158795</td>\n",
       "      <td>0.086052</td>\n",
       "      <td>0.2004</td>\n",
       "      <td>0.001348</td>\n",
       "      <td>46014255</td>\n",
       "      <td>2010</td>\n",
       "      <td>1.550</td>\n",
       "    </tr>\n",
       "    <tr>\n",
       "      <th>2010-01-04</th>\n",
       "      <td>1132.99</td>\n",
       "      <td>1200.0</td>\n",
       "      <td>0.944158</td>\n",
       "      <td>0.010959</td>\n",
       "      <td>0.0008</td>\n",
       "      <td>8.148158e-10</td>\n",
       "      <td>2.470721e-08</td>\n",
       "      <td>0.000001</td>\n",
       "      <td>1.179291e-13</td>\n",
       "      <td>0.000019</td>\n",
       "      <td>0.111011</td>\n",
       "      <td>0.127922</td>\n",
       "      <td>0.158795</td>\n",
       "      <td>0.086052</td>\n",
       "      <td>0.2004</td>\n",
       "      <td>0.000104</td>\n",
       "      <td>46829953</td>\n",
       "      <td>2010</td>\n",
       "      <td>0.125</td>\n",
       "    </tr>\n",
       "    <tr>\n",
       "      <th>2010-01-04</th>\n",
       "      <td>1132.99</td>\n",
       "      <td>1125.0</td>\n",
       "      <td>1.007102</td>\n",
       "      <td>0.010959</td>\n",
       "      <td>0.0008</td>\n",
       "      <td>9.047122e-03</td>\n",
       "      <td>9.650321e-03</td>\n",
       "      <td>0.010806</td>\n",
       "      <td>8.223606e-03</td>\n",
       "      <td>0.012429</td>\n",
       "      <td>0.111011</td>\n",
       "      <td>0.127922</td>\n",
       "      <td>0.158795</td>\n",
       "      <td>0.086052</td>\n",
       "      <td>0.2004</td>\n",
       "      <td>0.010622</td>\n",
       "      <td>46343648</td>\n",
       "      <td>2010</td>\n",
       "      <td>11.950</td>\n",
       "    </tr>\n",
       "    <tr>\n",
       "      <th>2010-01-04</th>\n",
       "      <td>1132.99</td>\n",
       "      <td>1175.0</td>\n",
       "      <td>0.964247</td>\n",
       "      <td>0.010959</td>\n",
       "      <td>0.0008</td>\n",
       "      <td>2.713361e-06</td>\n",
       "      <td>1.313734e-05</td>\n",
       "      <td>0.000082</td>\n",
       "      <td>5.275442e-08</td>\n",
       "      <td>0.000346</td>\n",
       "      <td>0.111011</td>\n",
       "      <td>0.127922</td>\n",
       "      <td>0.158795</td>\n",
       "      <td>0.086052</td>\n",
       "      <td>0.2004</td>\n",
       "      <td>0.000149</td>\n",
       "      <td>45734175</td>\n",
       "      <td>2010</td>\n",
       "      <td>0.175</td>\n",
       "    </tr>\n",
       "  </tbody>\n",
       "</table>\n",
       "</div>"
      ],
      "text/plain": [
       "            Stock (S)  Strike (K)  Moneyness (M)  Time to maturity (T)  \\\n",
       "2010-01-04    1132.99      1100.0       1.029991              0.010959   \n",
       "2010-01-04    1132.99      1150.0       0.985209              0.010959   \n",
       "2010-01-04    1132.99      1200.0       0.944158              0.010959   \n",
       "2010-01-04    1132.99      1125.0       1.007102              0.010959   \n",
       "2010-01-04    1132.99      1175.0       0.964247              0.010959   \n",
       "\n",
       "            Risk free rate (r)    BS (vol10)    BS (vol30)  BS (vol60)  \\\n",
       "2010-01-04              0.0008  3.002031e-02  3.006473e-02    0.030254   \n",
       "2010-01-04              0.0008  5.461026e-04  8.904219e-04    0.001670   \n",
       "2010-01-04              0.0008  8.148158e-10  2.470721e-08    0.000001   \n",
       "2010-01-04              0.0008  9.047122e-03  9.650321e-03    0.010806   \n",
       "2010-01-04              0.0008  2.713361e-06  1.313734e-05    0.000082   \n",
       "\n",
       "                BS GARCH    BS VIX     vol10     vol30     vol60     GARCH  \\\n",
       "2010-01-04  3.000093e-02  0.030765  0.111011  0.127922  0.158795  0.086052   \n",
       "2010-01-04  1.830931e-04  0.002925  0.111011  0.127922  0.158795  0.086052   \n",
       "2010-01-04  1.179291e-13  0.000019  0.111011  0.127922  0.158795  0.086052   \n",
       "2010-01-04  8.223606e-03  0.012429  0.111011  0.127922  0.158795  0.086052   \n",
       "2010-01-04  5.275442e-08  0.000346  0.111011  0.127922  0.158795  0.086052   \n",
       "\n",
       "               VIX  Option Price (C)        ID  Year   price  \n",
       "2010-01-04  0.2004          0.030273  46405649  2010  33.300  \n",
       "2010-01-04  0.2004          0.001348  46014255  2010   1.550  \n",
       "2010-01-04  0.2004          0.000104  46829953  2010   0.125  \n",
       "2010-01-04  0.2004          0.010622  46343648  2010  11.950  \n",
       "2010-01-04  0.2004          0.000149  45734175  2010   0.175  "
      ]
     },
     "execution_count": 13,
     "metadata": {},
     "output_type": "execute_result"
    }
   ],
   "source": [
    "df['price'] = df['Option Price (C)']*df['Strike (K)']\n",
    "\n",
    "df.head()"
   ]
  },
  {
   "cell_type": "code",
   "execution_count": 18,
   "metadata": {},
   "outputs": [
    {
     "name": "stderr",
     "output_type": "stream",
     "text": [
      "C:\\Users\\User\\AppData\\Local\\Temp\\ipykernel_18648\\2927700145.py:10: FutureWarning: Series.__getitem__ treating keys as positions is deprecated. In a future version, integer keys will always be treated as labels (consistent with DataFrame behavior). To access a value by position, use `ser.iloc[pos]`\n",
      "  intrinsic_value = max(df['Stock (S)'][i] - df['Strike (K)'][i], 0)  # For call option\n",
      "C:\\Users\\User\\AppData\\Local\\Temp\\ipykernel_18648\\2927700145.py:11: FutureWarning: Series.__getitem__ treating keys as positions is deprecated. In a future version, integer keys will always be treated as labels (consistent with DataFrame behavior). To access a value by position, use `ser.iloc[pos]`\n",
      "  if df['price'][i] < intrinsic_value:\n",
      "C:\\Users\\User\\AppData\\Local\\Temp\\ipykernel_18648\\2927700145.py:16: FutureWarning: Series.__getitem__ treating keys as positions is deprecated. In a future version, integer keys will always be treated as labels (consistent with DataFrame behavior). To access a value by position, use `ser.iloc[pos]`\n",
      "  df['price'][i],\n",
      "C:\\Users\\User\\AppData\\Local\\Temp\\ipykernel_18648\\2927700145.py:17: FutureWarning: Series.__getitem__ treating keys as positions is deprecated. In a future version, integer keys will always be treated as labels (consistent with DataFrame behavior). To access a value by position, use `ser.iloc[pos]`\n",
      "  df['Stock (S)'][i],\n",
      "C:\\Users\\User\\AppData\\Local\\Temp\\ipykernel_18648\\2927700145.py:18: FutureWarning: Series.__getitem__ treating keys as positions is deprecated. In a future version, integer keys will always be treated as labels (consistent with DataFrame behavior). To access a value by position, use `ser.iloc[pos]`\n",
      "  df['Strike (K)'][i],\n",
      "C:\\Users\\User\\AppData\\Local\\Temp\\ipykernel_18648\\2927700145.py:19: FutureWarning: Series.__getitem__ treating keys as positions is deprecated. In a future version, integer keys will always be treated as labels (consistent with DataFrame behavior). To access a value by position, use `ser.iloc[pos]`\n",
      "  df['Time to maturity (T)'][i],\n",
      "C:\\Users\\User\\AppData\\Local\\Temp\\ipykernel_18648\\2927700145.py:20: FutureWarning: Series.__getitem__ treating keys as positions is deprecated. In a future version, integer keys will always be treated as labels (consistent with DataFrame behavior). To access a value by position, use `ser.iloc[pos]`\n",
      "  df['Risk free rate (r)'][i],\n"
     ]
    },
    {
     "ename": "KeyboardInterrupt",
     "evalue": "",
     "output_type": "error",
     "traceback": [
      "\u001b[1;31m---------------------------------------------------------------------------\u001b[0m",
      "\u001b[1;31mKeyboardInterrupt\u001b[0m                         Traceback (most recent call last)",
      "Cell \u001b[1;32mIn[18], line 15\u001b[0m\n\u001b[0;32m     13\u001b[0m \u001b[38;5;28;01melse\u001b[39;00m:\n\u001b[0;32m     14\u001b[0m     \u001b[38;5;28;01mtry\u001b[39;00m:\n\u001b[1;32m---> 15\u001b[0m         iv\u001b[38;5;241m.\u001b[39mappend(implied_volatility(\n\u001b[0;32m     16\u001b[0m             df[\u001b[38;5;124m'\u001b[39m\u001b[38;5;124mprice\u001b[39m\u001b[38;5;124m'\u001b[39m][i],\n\u001b[0;32m     17\u001b[0m             df[\u001b[38;5;124m'\u001b[39m\u001b[38;5;124mStock (S)\u001b[39m\u001b[38;5;124m'\u001b[39m][i],\n\u001b[0;32m     18\u001b[0m             df[\u001b[38;5;124m'\u001b[39m\u001b[38;5;124mStrike (K)\u001b[39m\u001b[38;5;124m'\u001b[39m][i],\n\u001b[0;32m     19\u001b[0m             df[\u001b[38;5;124m'\u001b[39m\u001b[38;5;124mTime to maturity (T)\u001b[39m\u001b[38;5;124m'\u001b[39m][i],\n\u001b[0;32m     20\u001b[0m             df[\u001b[38;5;124m'\u001b[39m\u001b[38;5;124mRisk free rate (r)\u001b[39m\u001b[38;5;124m'\u001b[39m][i],\n\u001b[0;32m     21\u001b[0m             flag\u001b[38;5;241m=\u001b[39m\u001b[38;5;124m'\u001b[39m\u001b[38;5;124mc\u001b[39m\u001b[38;5;124m'\u001b[39m\n\u001b[0;32m     22\u001b[0m         ))\n\u001b[0;32m     23\u001b[0m     \u001b[38;5;28;01mexcept\u001b[39;00m \u001b[38;5;167;01mException\u001b[39;00m \u001b[38;5;28;01mas\u001b[39;00m e:\n\u001b[0;32m     24\u001b[0m         iv\u001b[38;5;241m.\u001b[39mappend(np\u001b[38;5;241m.\u001b[39mnan)  \u001b[38;5;66;03m# Handle other exceptions gracefully\u001b[39;00m\n",
      "File \u001b[1;32mc:\\ProgramData\\anaconda3\\Lib\\site-packages\\py_vollib\\black_scholes\\implied_volatility.py:91\u001b[0m, in \u001b[0;36mimplied_volatility\u001b[1;34m(price, S, K, t, r, flag)\u001b[0m\n\u001b[0;32m     89\u001b[0m undiscounted_option_price \u001b[38;5;241m=\u001b[39m price \u001b[38;5;241m/\u001b[39m deflater\n\u001b[0;32m     90\u001b[0m F \u001b[38;5;241m=\u001b[39m forward_price(S, t, r)\n\u001b[1;32m---> 91\u001b[0m sigma_calc \u001b[38;5;241m=\u001b[39m iv(undiscounted_option_price, F, K, t, binary_flag[flag])\n\u001b[0;32m     92\u001b[0m \u001b[38;5;28;01mif\u001b[39;00m sigma_calc \u001b[38;5;241m==\u001b[39m FLOAT_MAX:\n\u001b[0;32m     93\u001b[0m     \u001b[38;5;28;01mraise\u001b[39;00m PriceIsAboveMaximum()\n",
      "File \u001b[1;32mc:\\ProgramData\\anaconda3\\Lib\\site-packages\\py_lets_be_rational\\lets_be_rational.py:652\u001b[0m, in \u001b[0;36mimplied_volatility_from_a_transformed_rational_guess\u001b[1;34m(price, F, K, T, q)\u001b[0m\n\u001b[0;32m    635\u001b[0m \u001b[38;5;28;01mdef\u001b[39;00m \u001b[38;5;21mimplied_volatility_from_a_transformed_rational_guess\u001b[39m(price, F, K, T, q):\n\u001b[0;32m    636\u001b[0m \u001b[38;5;250m    \u001b[39m\u001b[38;5;124;03m\"\"\"\u001b[39;00m\n\u001b[0;32m    637\u001b[0m \n\u001b[0;32m    638\u001b[0m \u001b[38;5;124;03m    :param price:\u001b[39;00m\n\u001b[1;32m   (...)\u001b[0m\n\u001b[0;32m    650\u001b[0m \u001b[38;5;124;03m    :rtype: float\u001b[39;00m\n\u001b[0;32m    651\u001b[0m \u001b[38;5;124;03m    \"\"\"\u001b[39;00m\n\u001b[1;32m--> 652\u001b[0m     \u001b[38;5;28;01mreturn\u001b[39;00m implied_volatility_from_a_transformed_rational_guess_with_limited_iterations(\n\u001b[0;32m    653\u001b[0m         price, F, K, T, q, implied_volatility_maximum_iterations)\n",
      "File \u001b[1;32mc:\\ProgramData\\anaconda3\\Lib\\site-packages\\py_lets_be_rational\\lets_be_rational.py:612\u001b[0m, in \u001b[0;36mimplied_volatility_from_a_transformed_rational_guess_with_limited_iterations\u001b[1;34m(price, F, K, T, q, N)\u001b[0m\n\u001b[0;32m    610\u001b[0m     price \u001b[38;5;241m=\u001b[39m fabs(\u001b[38;5;28mmax\u001b[39m(price \u001b[38;5;241m-\u001b[39m intrinsic, \u001b[38;5;241m0.0\u001b[39m))\n\u001b[0;32m    611\u001b[0m     q \u001b[38;5;241m=\u001b[39m \u001b[38;5;241m-\u001b[39mq\n\u001b[1;32m--> 612\u001b[0m \u001b[38;5;28;01mreturn\u001b[39;00m _unchecked_normalised_implied_volatility_from_a_transformed_rational_guess_with_limited_iterations(\n\u001b[0;32m    613\u001b[0m     price \u001b[38;5;241m/\u001b[39m (sqrt(F) \u001b[38;5;241m*\u001b[39m sqrt(K)), x, q, N) \u001b[38;5;241m/\u001b[39m sqrt(T)\n",
      "File \u001b[1;32mc:\\ProgramData\\anaconda3\\Lib\\site-packages\\py_lets_be_rational\\lets_be_rational.py:444\u001b[0m, in \u001b[0;36m_unchecked_normalised_implied_volatility_from_a_transformed_rational_guess_with_limited_iterations\u001b[1;34m(beta, x, q, N)\u001b[0m\n\u001b[0;32m    442\u001b[0m    b_hh3 \u001b[38;5;241m=\u001b[39m b_halley\u001b[38;5;241m*\u001b[39mb_halley\u001b[38;5;241m-\u001b[39m \u001b[38;5;241m3\u001b[39m \u001b[38;5;241m*\u001b[39m _square(h \u001b[38;5;241m/\u001b[39m s) \u001b[38;5;241m-\u001b[39m \u001b[38;5;241m0.25\u001b[39m\n\u001b[0;32m    443\u001b[0m    hh3 \u001b[38;5;241m=\u001b[39m b_hh3\u001b[38;5;241m+\u001b[39m \u001b[38;5;241m2\u001b[39m \u001b[38;5;241m*\u001b[39m _square(bpob) \u001b[38;5;241m*\u001b[39m (\u001b[38;5;241m1\u001b[39m \u001b[38;5;241m+\u001b[39m \u001b[38;5;241m3\u001b[39m \u001b[38;5;241m/\u001b[39m ln_b \u001b[38;5;241m*\u001b[39m (\u001b[38;5;241m1\u001b[39m \u001b[38;5;241m+\u001b[39m \u001b[38;5;241m1\u001b[39m \u001b[38;5;241m/\u001b[39m ln_b)) \u001b[38;5;241m-\u001b[39m \u001b[38;5;241m3\u001b[39m \u001b[38;5;241m*\u001b[39m b_halley \u001b[38;5;241m*\u001b[39m bpob \u001b[38;5;241m*\u001b[39m (\u001b[38;5;241m1\u001b[39m \u001b[38;5;241m+\u001b[39m \u001b[38;5;241m2\u001b[39m \u001b[38;5;241m/\u001b[39m ln_b)\n\u001b[1;32m--> 444\u001b[0m    ds \u001b[38;5;241m=\u001b[39m newton \u001b[38;5;241m*\u001b[39m _householder_factor(newton, halley, hh3)\n\u001b[0;32m    445\u001b[0m ds \u001b[38;5;241m=\u001b[39m \u001b[38;5;28mmax\u001b[39m(\u001b[38;5;241m-\u001b[39m\u001b[38;5;241m0.5\u001b[39m\u001b[38;5;241m*\u001b[39ms , ds)\n\u001b[0;32m    446\u001b[0m s \u001b[38;5;241m+\u001b[39m\u001b[38;5;241m=\u001b[39m ds\n",
      "\u001b[1;31mKeyboardInterrupt\u001b[0m: "
     ]
    }
   ],
   "source": [
    "# volatility smile\n",
    "\n",
    "import py_vollib \n",
    "from py_vollib.black_scholes.implied_volatility import implied_volatility as implied_volatility\n",
    "\n",
    "# calculate the implied volatility of the options using the Black-Scholes formula\n",
    "\n",
    "iv = []\n",
    "for i in range(len(df)):\n",
    "    intrinsic_value = max(df['Stock (S)'][i] - df['Strike (K)'][i], 0)  # For call option\n",
    "    if df['price'][i] < intrinsic_value:\n",
    "        iv.append(np.nan)  # Mark as NaN if price is below intrinsic value\n",
    "    else:\n",
    "        try:\n",
    "            iv.append(implied_volatility(\n",
    "                df['price'][i],\n",
    "                df['Stock (S)'][i],\n",
    "                df['Strike (K)'][i],\n",
    "                df['Time to maturity (T)'][i],\n",
    "                df['Risk free rate (r)'][i],\n",
    "                flag='c'\n",
    "            ))\n",
    "        except Exception as e:\n",
    "            iv.append(np.nan)  # Handle other exceptions gracefully\n",
    "\n",
    "df['implied volatility'] = iv\n",
    "\n",
    "\n",
    "\n"
   ]
  },
  {
   "cell_type": "code",
   "execution_count": 4,
   "metadata": {},
   "outputs": [],
   "source": [
    "\n",
    "# select the rows where year is greater than 2022 \n",
    "#df = df[df['Year'] >= 2022]\n",
    "\n",
    "df = df.sort_index()\n",
    "df.dropna(inplace=True)\n",
    "\n",
    "\n",
    "unique_dates = df.index.unique()\n",
    "\n",
    "# Split into train 80% train 10% val 10% test based on index\n",
    "#train_size = int(0.80 * len(df))\n",
    "#val_size = int(0.10 * len(df))\n",
    "train_size = int(0.80 * len(unique_dates))\n",
    "val_size = int(0.10 * len(unique_dates))\n",
    "\n",
    "# Get unique dates for each split\n",
    "train_dates = unique_dates[:train_size]\n",
    "val_dates = unique_dates[train_size:train_size + val_size]\n",
    "test_dates = unique_dates[train_size+val_size:]\n",
    "\n",
    "\n",
    "\n",
    "# Split the dataset by the determined dates\n",
    "X_train = df.loc[train_dates, ['Moneyness (M)', 'Time to maturity (T)', 'Risk free rate (r)', \n",
    "                               'BS (vol10)', 'BS (vol30)', 'BS (vol60)', 'BS GARCH', 'BS VIX',\n",
    "                               'vol10', 'vol30', 'vol60', 'GARCH', 'VIX', 'Year', 'Strike (K)']].values\n",
    "X_val = df.loc[val_dates, ['Moneyness (M)', 'Time to maturity (T)', 'Risk free rate (r)', \n",
    "                                'BS (vol10)', 'BS (vol30)', 'BS (vol60)', 'BS GARCH', 'BS VIX',\n",
    "                                'vol10', 'vol30', 'vol60', 'GARCH', 'VIX', 'Year', 'Strike (K)']].values\n",
    "X_test = df.loc[test_dates, ['Moneyness (M)', 'Time to maturity (T)', 'Risk free rate (r)', \n",
    "                               'BS (vol10)', 'BS (vol30)', 'BS (vol60)', 'BS GARCH', 'BS VIX',\n",
    "                               'vol10', 'vol30', 'vol60', 'GARCH', 'VIX', 'Year', 'Strike (K)']].values\n",
    "\n",
    "\n",
    "\n",
    "y_train = df.loc[train_dates, ['Option Price (C)']].values\n",
    "y_val = df.loc[val_dates, ['Option Price (C)']].values\n",
    "y_test = df.loc[test_dates, ['Option Price (C)']].values\n",
    "strike_train = X_train[:, -1]\n",
    "strike_val = X_val[:, -1]\n",
    "strike_test = X_test[:, -1]\n",
    "year_train = X_train[:, -2]\n",
    "year_val = X_val[:, -2]\n",
    "year_test = X_test[:, -2]\n",
    "BSM_train = X_train[:, 3:8]\n",
    "BSM_val = X_val[:, 3:8]\n",
    "BSM_test = X_test[:, 3:8]\n",
    "vol_train = X_train[:, 8:13]\n",
    "vol_val = X_val[:, 8:13]\n",
    "vol_test = X_test[:, 8:13]\n",
    "X_train = X_train[:, 0:3]\n",
    "X_val = X_val[:, 0:3]\n",
    "X_test = X_test[:, 0:3]\n",
    "\n",
    "\n",
    "\n",
    "\n",
    "X_train_val = np.concatenate((X_train, X_val), axis=0)\n",
    "y_train_val = np.concatenate((y_train, y_val), axis=0)\n",
    "vol_train_val = np.concatenate((vol_train, vol_val), axis=0)\n",
    "\n"
   ]
  },
  {
   "cell_type": "code",
   "execution_count": 5,
   "metadata": {},
   "outputs": [],
   "source": [
    "df = df.sort_index()\n",
    "df.dropna(inplace=True)\n",
    "\n",
    "# Define the sizes for each split\n",
    "train_size = int(0.80 * len(df))\n",
    "val_size = int(0.10 * len(df))\n",
    "test_size = len(df) - train_size - val_size  # Remaining data for testing\n",
    "\n",
    "# Split the data based on the calculated sizes\n",
    "train_df = df.iloc[:train_size]\n",
    "val_df = df.iloc[train_size:train_size + val_size]\n",
    "test_df = df.iloc[train_size + val_size:]\n",
    "\n",
    "# Selecting features and targets for each dataset\n",
    "features = ['Moneyness (M)', 'Time to maturity (T)', 'Risk free rate (r)', \n",
    "            'BS (vol10)', 'BS (vol30)', 'BS (vol60)', 'BS GARCH', 'BS VIX',\n",
    "            'vol10', 'vol30', 'vol60', 'GARCH', 'VIX', 'Year', 'Strike (K)']\n",
    "target = ['Option Price (C)']\n",
    "\n",
    "# Separate X and y for each split\n",
    "X_train = train_df[features].values\n",
    "X_val = val_df[features].values\n",
    "X_test = test_df[features].values\n",
    "\n",
    "y_train = train_df[target].values\n",
    "y_val = val_df[target].values\n",
    "y_test = test_df[target].values\n",
    "\n",
    "# Extract specific columns for additional variables as required\n",
    "strike_train, strike_val, strike_test = X_train[:, -1], X_val[:, -1], X_test[:, -1]\n",
    "year_train, year_val, year_test = X_train[:, -2], X_val[:, -2], X_test[:, -2]\n",
    "BSM_train, BSM_val, BSM_test = X_train[:, 3:8], X_val[:, 3:8], X_test[:, 3:8]\n",
    "vol_train, vol_val, vol_test = X_train[:, 8:13], X_val[:, 8:13], X_test[:, 8:13]\n",
    "\n",
    "# Narrow down to the first three columns for X_train, X_val, and X_test as desired\n",
    "X_train = X_train[:, :3]\n",
    "X_val = X_val[:, :3]\n",
    "X_test = X_test[:, :3]\n",
    "\n",
    "# (Optional) Combine train and validation data for full training/validation set\n",
    "X_train_val = np.concatenate((X_train, X_val), axis=0)\n",
    "y_train_val = np.concatenate((y_train, y_val), axis=0)\n",
    "vol_train_val = np.concatenate((vol_train, vol_val), axis=0)"
   ]
  },
  {
   "cell_type": "code",
   "execution_count": 4,
   "metadata": {},
   "outputs": [
    {
     "ename": "NameError",
     "evalue": "name 'CheckAccuracy' is not defined",
     "output_type": "error",
     "traceback": [
      "\u001b[1;31m---------------------------------------------------------------------------\u001b[0m",
      "\u001b[1;31mNameError\u001b[0m                                 Traceback (most recent call last)",
      "Cell \u001b[1;32mIn[4], line 3\u001b[0m\n\u001b[0;32m      1\u001b[0m \u001b[38;5;66;03m# check accuracy of the BSM models on the test set\u001b[39;00m\n\u001b[1;32m----> 3\u001b[0m CheckAccuracy(y_test\u001b[38;5;241m.\u001b[39mflatten(), BSM_test[:, \u001b[38;5;241m0\u001b[39m]\u001b[38;5;241m.\u001b[39mflatten())\n\u001b[0;32m      4\u001b[0m CheckAccuracy(y_test\u001b[38;5;241m.\u001b[39mflatten(), BSM_test[:, \u001b[38;5;241m1\u001b[39m]\u001b[38;5;241m.\u001b[39mflatten())\n\u001b[0;32m      5\u001b[0m CheckAccuracy(y_test\u001b[38;5;241m.\u001b[39mflatten(), BSM_test[:, \u001b[38;5;241m2\u001b[39m]\u001b[38;5;241m.\u001b[39mflatten())\n",
      "\u001b[1;31mNameError\u001b[0m: name 'CheckAccuracy' is not defined"
     ]
    }
   ],
   "source": [
    "# check accuracy of the BSM models on the test set\n",
    "\n",
    "CheckAccuracy(y_test.flatten(), BSM_test[:, 0].flatten())\n",
    "CheckAccuracy(y_test.flatten(), BSM_test[:, 1].flatten())\n",
    "CheckAccuracy(y_test.flatten(), BSM_test[:, 2].flatten())\n",
    "CheckAccuracy(y_test.flatten(), BSM_test[:, 3].flatten())\n",
    "CheckAccuracy(y_test.flatten(), BSM_test[:, 4].flatten())\n",
    "\n"
   ]
  },
  {
   "cell_type": "code",
   "execution_count": null,
   "metadata": {},
   "outputs": [],
   "source": [
    "# make train_dates into a numpy array\n",
    "train_dates = np.array(train_dates)\n",
    "test_dates = np.array(test_dates)\n",
    "val_dates = np.array(val_dates)"
   ]
  },
  {
   "cell_type": "code",
   "execution_count": 16,
   "metadata": {},
   "outputs": [],
   "source": [
    "\n",
    "# Scale the data\n",
    "scaler = StandardScaler()\n",
    "X_train_scaled = scaler.fit_transform(X_train)\n",
    "X_val_scaled = scaler.transform(X_val)\n",
    "X_test_scaled = scaler.transform(X_test)\n",
    "X_train_val_scaled = scaler.transform(X_train_val)\n",
    "\n",
    "scaler_y = StandardScaler()\n",
    "y_train_scaled = scaler_y.fit_transform(y_train)\n",
    "y_val_scaled = scaler_y.transform(y_val)\n",
    "y_test_scaled = scaler_y.transform(y_test)\n",
    "y_train_val_scaled = scaler_y.transform(y_train_val)\n",
    "\n",
    "scaler_vol = StandardScaler()\n",
    "vol_train_scaled = scaler_vol.fit_transform(vol_train)\n",
    "vol_val_scaled = scaler_vol.transform(vol_val)\n",
    "vol_test_scaled = scaler_vol.transform(vol_test)\n",
    "vol_train_val_scaled = scaler_vol.transform(vol_train_val)\n",
    "\n",
    "#X_train_sc = np.append(X_train_scaled, np.resize(vol_train_scaled[:,0], (len(vol_train_scaled),1)), axis=1)\n",
    "#X_val_sc = np.append(X_val_scaled, np.resize(vol_val_scaled[:,0], (len(vol_val_scaled),1)), axis=1)\n",
    "#X_test_sc = np.append(X_test_scaled, np.resize(vol_test_scaled[:,0], (len(vol_test_scaled),1)), axis=1)\n",
    "\n",
    "\n",
    "\n",
    "\n",
    "\n",
    "\n",
    "\n",
    "\n",
    "\n"
   ]
  },
  {
   "cell_type": "code",
   "execution_count": 23,
   "metadata": {},
   "outputs": [
    {
     "name": "stdout",
     "output_type": "stream",
     "text": [
      "Epoch 1/2\n",
      "\u001b[1m30543/30543\u001b[0m \u001b[32m━━━━━━━━━━━━━━━━━━━━\u001b[0m\u001b[37m\u001b[0m \u001b[1m50s\u001b[0m 2ms/step - loss: 0.0791\n",
      "Epoch 2/2\n",
      "\u001b[1m30543/30543\u001b[0m \u001b[32m━━━━━━━━━━━━━━━━━━━━\u001b[0m\u001b[37m\u001b[0m \u001b[1m50s\u001b[0m 2ms/step - loss: 0.0302\n",
      "\u001b[1m27812/27812\u001b[0m \u001b[32m━━━━━━━━━━━━━━━━━━━━\u001b[0m\u001b[37m\u001b[0m \u001b[1m23s\u001b[0m 833us/step\n"
     ]
    }
   ],
   "source": [
    "# Define the exponential decay schedule\n",
    "initial_learning_rate = 0.001\n",
    "lr_schedule = tf.keras.optimizers.schedules.ExponentialDecay(\n",
    "    initial_learning_rate=initial_learning_rate,\n",
    "    decay_steps=4000,   # Adjust this to suit your data size\n",
    "    decay_rate=0.96,     # The rate at which the learning rate decays\n",
    "    staircase=True       # If True, the learning rate decays in discrete steps\n",
    ")\n",
    "\n",
    "\n",
    "\n",
    "model = create_model(num_layers=4, nodes=128, dropout_rate=True, learning_rate_schedule=0.001)\n",
    "\n",
    "\n",
    "X_train_val_sc = np.append(X_train_val, np.resize(vol_train_val[:,4], (len(vol_train_val),1)), axis=1)\n",
    "X_test_sc = np.append(X_test, np.resize(vol_test[:,4], (len(vol_test),1)), axis=1)\n",
    "X_train_sc = np.append(X_train, np.resize(vol_train[:,4], (len(vol_train),1)), axis=1)\n",
    "\n",
    "# fit the model\n",
    "model.fit(X_train_sc, y_train_scaled, epochs=2, batch_size=64, verbose=1)\n",
    "\n",
    "#y_test_pred = model.predict(X_test_sc).flatten()\n",
    "\n",
    "\n",
    "y_test_pred = scaler_y.inverse_transform(model.predict(X_test_sc)).flatten()\n",
    "\n",
    "\n",
    "\n",
    "#model.save('C:/Users/User/Desktop/Data speciale/NeuralNetModels/NeuralNet_model.h5')"
   ]
  },
  {
   "cell_type": "code",
   "execution_count": 13,
   "metadata": {},
   "outputs": [
    {
     "name": "stderr",
     "output_type": "stream",
     "text": [
      "c:\\ProgramData\\anaconda3\\Lib\\site-packages\\keras\\src\\layers\\core\\dense.py:87: UserWarning: Do not pass an `input_shape`/`input_dim` argument to a layer. When using Sequential models, prefer using an `Input(shape)` object as the first layer in the model instead.\n",
      "  super().__init__(activity_regularizer=activity_regularizer, **kwargs)\n"
     ]
    },
    {
     "name": "stdout",
     "output_type": "stream",
     "text": [
      "Epoch 1/20\n",
      "\u001b[1m2768/2768\u001b[0m \u001b[32m━━━━━━━━━━━━━━━━━━━━\u001b[0m\u001b[37m\u001b[0m \u001b[1m9s\u001b[0m 3ms/step - loss: 0.0394\n",
      "Epoch 2/20\n",
      "\u001b[1m2768/2768\u001b[0m \u001b[32m━━━━━━━━━━━━━━━━━━━━\u001b[0m\u001b[37m\u001b[0m \u001b[1m7s\u001b[0m 2ms/step - loss: 0.0022\n",
      "Epoch 3/20\n",
      "\u001b[1m2768/2768\u001b[0m \u001b[32m━━━━━━━━━━━━━━━━━━━━\u001b[0m\u001b[37m\u001b[0m \u001b[1m7s\u001b[0m 2ms/step - loss: 0.0014\n",
      "Epoch 4/20\n",
      "\u001b[1m2768/2768\u001b[0m \u001b[32m━━━━━━━━━━━━━━━━━━━━\u001b[0m\u001b[37m\u001b[0m \u001b[1m7s\u001b[0m 2ms/step - loss: 0.0011\n",
      "Epoch 5/20\n",
      "\u001b[1m2768/2768\u001b[0m \u001b[32m━━━━━━━━━━━━━━━━━━━━\u001b[0m\u001b[37m\u001b[0m \u001b[1m7s\u001b[0m 2ms/step - loss: 9.5704e-04\n",
      "Epoch 6/20\n",
      "\u001b[1m2768/2768\u001b[0m \u001b[32m━━━━━━━━━━━━━━━━━━━━\u001b[0m\u001b[37m\u001b[0m \u001b[1m7s\u001b[0m 3ms/step - loss: 8.4931e-04\n",
      "Epoch 7/20\n",
      "\u001b[1m2768/2768\u001b[0m \u001b[32m━━━━━━━━━━━━━━━━━━━━\u001b[0m\u001b[37m\u001b[0m \u001b[1m8s\u001b[0m 3ms/step - loss: 7.8229e-04\n",
      "Epoch 8/20\n",
      "\u001b[1m2768/2768\u001b[0m \u001b[32m━━━━━━━━━━━━━━━━━━━━\u001b[0m\u001b[37m\u001b[0m \u001b[1m7s\u001b[0m 3ms/step - loss: 7.3406e-04\n",
      "Epoch 9/20\n",
      "\u001b[1m2768/2768\u001b[0m \u001b[32m━━━━━━━━━━━━━━━━━━━━\u001b[0m\u001b[37m\u001b[0m \u001b[1m7s\u001b[0m 3ms/step - loss: 6.9922e-04\n",
      "Epoch 10/20\n",
      "\u001b[1m2768/2768\u001b[0m \u001b[32m━━━━━━━━━━━━━━━━━━━━\u001b[0m\u001b[37m\u001b[0m \u001b[1m8s\u001b[0m 3ms/step - loss: 6.7173e-04\n",
      "Epoch 11/20\n",
      "\u001b[1m2768/2768\u001b[0m \u001b[32m━━━━━━━━━━━━━━━━━━━━\u001b[0m\u001b[37m\u001b[0m \u001b[1m7s\u001b[0m 2ms/step - loss: 6.4849e-04\n",
      "Epoch 12/20\n",
      "\u001b[1m2768/2768\u001b[0m \u001b[32m━━━━━━━━━━━━━━━━━━━━\u001b[0m\u001b[37m\u001b[0m \u001b[1m7s\u001b[0m 2ms/step - loss: 6.2592e-04\n",
      "Epoch 13/20\n",
      "\u001b[1m2768/2768\u001b[0m \u001b[32m━━━━━━━━━━━━━━━━━━━━\u001b[0m\u001b[37m\u001b[0m \u001b[1m7s\u001b[0m 3ms/step - loss: 6.0506e-04\n",
      "Epoch 14/20\n",
      "\u001b[1m2768/2768\u001b[0m \u001b[32m━━━━━━━━━━━━━━━━━━━━\u001b[0m\u001b[37m\u001b[0m \u001b[1m7s\u001b[0m 2ms/step - loss: 5.8956e-04\n",
      "Epoch 15/20\n",
      "\u001b[1m2768/2768\u001b[0m \u001b[32m━━━━━━━━━━━━━━━━━━━━\u001b[0m\u001b[37m\u001b[0m \u001b[1m7s\u001b[0m 3ms/step - loss: 5.7877e-04\n",
      "Epoch 16/20\n",
      "\u001b[1m2768/2768\u001b[0m \u001b[32m━━━━━━━━━━━━━━━━━━━━\u001b[0m\u001b[37m\u001b[0m \u001b[1m11s\u001b[0m 3ms/step - loss: 5.6760e-04\n",
      "Epoch 17/20\n",
      "\u001b[1m2768/2768\u001b[0m \u001b[32m━━━━━━━━━━━━━━━━━━━━\u001b[0m\u001b[37m\u001b[0m \u001b[1m7s\u001b[0m 2ms/step - loss: 5.5785e-04\n",
      "Epoch 18/20\n",
      "\u001b[1m2768/2768\u001b[0m \u001b[32m━━━━━━━━━━━━━━━━━━━━\u001b[0m\u001b[37m\u001b[0m \u001b[1m7s\u001b[0m 2ms/step - loss: 5.5080e-04\n",
      "Epoch 19/20\n",
      "\u001b[1m2768/2768\u001b[0m \u001b[32m━━━━━━━━━━━━━━━━━━━━\u001b[0m\u001b[37m\u001b[0m \u001b[1m7s\u001b[0m 3ms/step - loss: 5.4402e-04\n",
      "Epoch 20/20\n",
      "\u001b[1m2768/2768\u001b[0m \u001b[32m━━━━━━━━━━━━━━━━━━━━\u001b[0m\u001b[37m\u001b[0m \u001b[1m7s\u001b[0m 3ms/step - loss: 5.3699e-04\n",
      "\u001b[1m11069/11069\u001b[0m \u001b[32m━━━━━━━━━━━━━━━━━━━━\u001b[0m\u001b[37m\u001b[0m \u001b[1m8s\u001b[0m 731us/step\n",
      "\u001b[1m11069/11069\u001b[0m \u001b[32m━━━━━━━━━━━━━━━━━━━━\u001b[0m\u001b[37m\u001b[0m \u001b[1m8s\u001b[0m 741us/step\n"
     ]
    }
   ],
   "source": [
    "# Define the exponential decay schedule\n",
    "initial_learning_rate = 0.001\n",
    "lr_schedule = tf.keras.optimizers.schedules.ExponentialDecay(\n",
    "    initial_learning_rate=initial_learning_rate,\n",
    "    decay_steps=4000,   # Adjust this to suit your data size\n",
    "    decay_rate=0.96,     # The rate at which the learning rate decays\n",
    "    staircase=True       # If True, the learning rate decays in discrete steps\n",
    ")\n",
    "\n",
    "model = create_model(num_layers=3, nodes=64, dropout_rate=True, learning_rate_schedule=lr_schedule)\n",
    "\n",
    "\n",
    "X_train_sc = np.append(X_train_scaled, np.resize(vol_train_scaled[:,4], (len(vol_train_scaled),1)), axis=1)\n",
    "X_val_sc = np.append(X_val_scaled, np.resize(vol_val_scaled[:,4], (len(vol_val_scaled),1)), axis=1)\n",
    "X_test_sc = np.append(X_test_scaled, np.resize(vol_test_scaled[:,4], (len(vol_test_scaled),1)), axis=1)\n",
    "\n",
    "# fit the model\n",
    "model.fit(X_train_sc, y_train_scaled, epochs=20, batch_size=1024, verbose=1)\n",
    "\n",
    "\n",
    "y_val_pred = scaler_y.inverse_transform(model.predict(X_val_sc)).flatten()\n",
    "y_test_pred = scaler_y.inverse_transform(model.predict(X_test_sc)).flatten()"
   ]
  },
  {
   "cell_type": "code",
   "execution_count": 6,
   "metadata": {},
   "outputs": [
    {
     "name": "stdout",
     "output_type": "stream",
     "text": [
      "Root Mean Squared Error:    0.007803689292289851\n",
      "Mean Absolute Percentage Error:    0.5982953771745367\n",
      "Mean Squared Error:    6.089756657059927e-05\n",
      "Root Mean Squared Error:    0.0060686629424632045\n",
      "Mean Absolute Percentage Error:    1.2239572932833214\n",
      "Mean Squared Error:    3.682866990922616e-05\n",
      " \n",
      "Test set:\n",
      "RMSE: 0.007803689292289851\n",
      "MAPE: 0.5982953771745367\n",
      "BS VIX RMSE: 0.0060686629424632045\n",
      "BS VIX MAPE: 1.2239572932833214\n"
     ]
    }
   ],
   "source": [
    "\n",
    "\n",
    "# calculate the accuracy\n",
    "#stats_val = CheckAccuracy(y_val.flatten(), y_val_pred.flatten())\n",
    "\n",
    "stats_test = CheckAccuracy(y_test.flatten(), y_test_pred.flatten())\n",
    "\n",
    "\n",
    "# check the accuracy of the BS vol10 model\n",
    "#stats_val_BSM = CheckAccuracy(y_val.flatten(), BSM_val[:,4].flatten())\n",
    "\n",
    "stats_test_BSM = CheckAccuracy(y_test.flatten(), BSM_test[:,4].flatten())\n",
    "\n",
    "# print the results\n",
    "#print('Val set:')\n",
    "#print('RMSE:', stats_val['rmse'])\n",
    "#print('MAPE:', stats_val['mape'])\n",
    "#print('BS VIX RMSE:', stats_val_BSM['rmse'])\n",
    "#print('BS VIX MAPE:', stats_val_BSM['mape'])\n",
    "print(' ')\n",
    "print('Test set:')\n",
    "print('RMSE:', stats_test['rmse'])\n",
    "print('MAPE:', stats_test['mape'])\n",
    "print('BS VIX RMSE:', stats_test_BSM['rmse'])\n",
    "print('BS VIX MAPE:', stats_test_BSM['mape'])\n"
   ]
  },
  {
   "cell_type": "code",
   "execution_count": 5,
   "metadata": {},
   "outputs": [
    {
     "name": "stderr",
     "output_type": "stream",
     "text": [
      "c:\\ProgramData\\anaconda3\\Lib\\site-packages\\keras\\src\\layers\\core\\dense.py:87: UserWarning: Do not pass an `input_shape`/`input_dim` argument to a layer. When using Sequential models, prefer using an `Input(shape)` object as the first layer in the model instead.\n",
      "  super().__init__(activity_regularizer=activity_regularizer, **kwargs)\n",
      "c:\\ProgramData\\anaconda3\\Lib\\site-packages\\keras\\src\\layers\\activations\\leaky_relu.py:41: UserWarning: Argument `alpha` is deprecated. Use `negative_slope` instead.\n",
      "  warnings.warn(\n"
     ]
    },
    {
     "name": "stdout",
     "output_type": "stream",
     "text": [
      "Epoch 1/30\n",
      "\u001b[1m648/648\u001b[0m \u001b[32m━━━━━━━━━━━━━━━━━━━━\u001b[0m\u001b[37m\u001b[0m \u001b[1m8s\u001b[0m 10ms/step - loss: 0.0380\n",
      "Epoch 2/30\n",
      "\u001b[1m648/648\u001b[0m \u001b[32m━━━━━━━━━━━━━━━━━━━━\u001b[0m\u001b[37m\u001b[0m \u001b[1m6s\u001b[0m 9ms/step - loss: 0.0025\n",
      "Epoch 3/30\n",
      "\u001b[1m648/648\u001b[0m \u001b[32m━━━━━━━━━━━━━━━━━━━━\u001b[0m\u001b[37m\u001b[0m \u001b[1m6s\u001b[0m 9ms/step - loss: 7.0049e-04\n",
      "Epoch 4/30\n",
      "\u001b[1m648/648\u001b[0m \u001b[32m━━━━━━━━━━━━━━━━━━━━\u001b[0m\u001b[37m\u001b[0m \u001b[1m6s\u001b[0m 9ms/step - loss: 3.9495e-04\n",
      "Epoch 5/30\n",
      "\u001b[1m648/648\u001b[0m \u001b[32m━━━━━━━━━━━━━━━━━━━━\u001b[0m\u001b[37m\u001b[0m \u001b[1m7s\u001b[0m 11ms/step - loss: 2.8078e-04\n",
      "Epoch 6/30\n",
      "\u001b[1m648/648\u001b[0m \u001b[32m━━━━━━━━━━━━━━━━━━━━\u001b[0m\u001b[37m\u001b[0m \u001b[1m6s\u001b[0m 9ms/step - loss: 2.1139e-04\n",
      "Epoch 7/30\n",
      "\u001b[1m648/648\u001b[0m \u001b[32m━━━━━━━━━━━━━━━━━━━━\u001b[0m\u001b[37m\u001b[0m \u001b[1m6s\u001b[0m 9ms/step - loss: 1.7420e-04\n",
      "Epoch 8/30\n",
      "\u001b[1m648/648\u001b[0m \u001b[32m━━━━━━━━━━━━━━━━━━━━\u001b[0m\u001b[37m\u001b[0m \u001b[1m6s\u001b[0m 9ms/step - loss: 1.4721e-04\n",
      "Epoch 9/30\n",
      "\u001b[1m648/648\u001b[0m \u001b[32m━━━━━━━━━━━━━━━━━━━━\u001b[0m\u001b[37m\u001b[0m \u001b[1m6s\u001b[0m 10ms/step - loss: 1.2182e-04\n",
      "Epoch 10/30\n",
      "\u001b[1m648/648\u001b[0m \u001b[32m━━━━━━━━━━━━━━━━━━━━\u001b[0m\u001b[37m\u001b[0m \u001b[1m6s\u001b[0m 10ms/step - loss: 1.0595e-04\n",
      "Epoch 11/30\n",
      "\u001b[1m648/648\u001b[0m \u001b[32m━━━━━━━━━━━━━━━━━━━━\u001b[0m\u001b[37m\u001b[0m \u001b[1m6s\u001b[0m 9ms/step - loss: 9.5753e-05\n",
      "Epoch 12/30\n",
      "\u001b[1m648/648\u001b[0m \u001b[32m━━━━━━━━━━━━━━━━━━━━\u001b[0m\u001b[37m\u001b[0m \u001b[1m6s\u001b[0m 10ms/step - loss: 8.8090e-05\n",
      "Epoch 13/30\n",
      "\u001b[1m648/648\u001b[0m \u001b[32m━━━━━━━━━━━━━━━━━━━━\u001b[0m\u001b[37m\u001b[0m \u001b[1m7s\u001b[0m 10ms/step - loss: 8.1114e-05\n",
      "Epoch 14/30\n",
      "\u001b[1m648/648\u001b[0m \u001b[32m━━━━━━━━━━━━━━━━━━━━\u001b[0m\u001b[37m\u001b[0m \u001b[1m6s\u001b[0m 9ms/step - loss: 7.5503e-05\n",
      "Epoch 15/30\n",
      "\u001b[1m648/648\u001b[0m \u001b[32m━━━━━━━━━━━━━━━━━━━━\u001b[0m\u001b[37m\u001b[0m \u001b[1m6s\u001b[0m 9ms/step - loss: 6.8692e-05\n",
      "Epoch 16/30\n",
      "\u001b[1m648/648\u001b[0m \u001b[32m━━━━━━━━━━━━━━━━━━━━\u001b[0m\u001b[37m\u001b[0m \u001b[1m6s\u001b[0m 9ms/step - loss: 6.3791e-05\n",
      "Epoch 17/30\n",
      "\u001b[1m648/648\u001b[0m \u001b[32m━━━━━━━━━━━━━━━━━━━━\u001b[0m\u001b[37m\u001b[0m \u001b[1m6s\u001b[0m 9ms/step - loss: 5.9424e-05\n",
      "Epoch 18/30\n",
      "\u001b[1m648/648\u001b[0m \u001b[32m━━━━━━━━━━━━━━━━━━━━\u001b[0m\u001b[37m\u001b[0m \u001b[1m6s\u001b[0m 9ms/step - loss: 5.5637e-05\n",
      "Epoch 19/30\n",
      "\u001b[1m648/648\u001b[0m \u001b[32m━━━━━━━━━━━━━━━━━━━━\u001b[0m\u001b[37m\u001b[0m \u001b[1m6s\u001b[0m 9ms/step - loss: 5.2151e-05\n",
      "Epoch 20/30\n",
      "\u001b[1m648/648\u001b[0m \u001b[32m━━━━━━━━━━━━━━━━━━━━\u001b[0m\u001b[37m\u001b[0m \u001b[1m6s\u001b[0m 9ms/step - loss: 4.9058e-05\n",
      "Epoch 21/30\n",
      "\u001b[1m648/648\u001b[0m \u001b[32m━━━━━━━━━━━━━━━━━━━━\u001b[0m\u001b[37m\u001b[0m \u001b[1m6s\u001b[0m 9ms/step - loss: 4.5689e-05\n",
      "Epoch 22/30\n",
      "\u001b[1m648/648\u001b[0m \u001b[32m━━━━━━━━━━━━━━━━━━━━\u001b[0m\u001b[37m\u001b[0m \u001b[1m7s\u001b[0m 11ms/step - loss: 4.2271e-05\n",
      "Epoch 23/30\n",
      "\u001b[1m648/648\u001b[0m \u001b[32m━━━━━━━━━━━━━━━━━━━━\u001b[0m\u001b[37m\u001b[0m \u001b[1m6s\u001b[0m 9ms/step - loss: 3.8947e-05\n",
      "Epoch 24/30\n",
      "\u001b[1m648/648\u001b[0m \u001b[32m━━━━━━━━━━━━━━━━━━━━\u001b[0m\u001b[37m\u001b[0m \u001b[1m6s\u001b[0m 9ms/step - loss: 3.6232e-05\n",
      "Epoch 25/30\n",
      "\u001b[1m648/648\u001b[0m \u001b[32m━━━━━━━━━━━━━━━━━━━━\u001b[0m\u001b[37m\u001b[0m \u001b[1m6s\u001b[0m 9ms/step - loss: 3.3354e-05\n",
      "Epoch 26/30\n",
      "\u001b[1m648/648\u001b[0m \u001b[32m━━━━━━━━━━━━━━━━━━━━\u001b[0m\u001b[37m\u001b[0m \u001b[1m6s\u001b[0m 8ms/step - loss: 3.0979e-05\n",
      "Epoch 27/30\n",
      "\u001b[1m648/648\u001b[0m \u001b[32m━━━━━━━━━━━━━━━━━━━━\u001b[0m\u001b[37m\u001b[0m \u001b[1m6s\u001b[0m 9ms/step - loss: 2.9252e-05\n",
      "Epoch 28/30\n",
      "\u001b[1m648/648\u001b[0m \u001b[32m━━━━━━━━━━━━━━━━━━━━\u001b[0m\u001b[37m\u001b[0m \u001b[1m6s\u001b[0m 8ms/step - loss: 2.7582e-05\n",
      "Epoch 29/30\n",
      "\u001b[1m648/648\u001b[0m \u001b[32m━━━━━━━━━━━━━━━━━━━━\u001b[0m\u001b[37m\u001b[0m \u001b[1m6s\u001b[0m 9ms/step - loss: 2.5928e-05\n",
      "Epoch 30/30\n",
      "\u001b[1m648/648\u001b[0m \u001b[32m━━━━━━━━━━━━━━━━━━━━\u001b[0m\u001b[37m\u001b[0m \u001b[1m11s\u001b[0m 9ms/step - loss: 2.5068e-05\n",
      "\u001b[1m27812/27812\u001b[0m \u001b[32m━━━━━━━━━━━━━━━━━━━━\u001b[0m\u001b[37m\u001b[0m \u001b[1m21s\u001b[0m 752us/step\n"
     ]
    }
   ],
   "source": [
    "\n",
    "# build a model that has 4 hidden layers with 100 nodes each the first layer is leaky relu, then ELu, Relu, Elu and finanlly an exponential output layer\n",
    "\n",
    "# Define the model\n",
    "model = Sequential()\n",
    "# First hidden layer with LeakyReLU\n",
    "model.add(Dense(100, input_dim=4))\n",
    "model.add(LeakyReLU(alpha=0.01))  # LeakyReLU with alpha=0.01 (default value)\n",
    "model.add(Dropout(0.2))\n",
    "# Second hidden layer with ELU\n",
    "model.add(Dense(100, activation='elu'))\n",
    "model.add(Dropout(0.2))\n",
    "# Third hidden layer with ReLU\n",
    "model.add(Dense(100, activation='relu'))\n",
    "model.add(Dropout(0.2))\n",
    "# Fourth hidden layer with ELU\n",
    "model.add(Dense(100, activation='elu'))\n",
    "model.add(Dropout(0.2))\n",
    "# Output layer with exponential activation\n",
    "model.add(Dense(1, activation='exponential'))\n",
    "\n",
    "optimizer = Adam(learning_rate=0.001)\n",
    "model.compile(optimizer=optimizer, loss='mean_squared_error')\n",
    "\n",
    "\n",
    "X_train_val = np.append(X_train_val, np.resize(vol_train_val[:,4], (len(vol_train_val),1)), axis=1)\n",
    "X_test = np.append(X_test, np.resize(vol_test[:,4], (len(vol_test),1)), axis=1)\n",
    "\n",
    "# fit the model\n",
    "model.fit(X_train_val, y_train_val, epochs=30, batch_size=4096, verbose=1)\n",
    "\n",
    "#y_test_pred = model.predict(X_test_sc).flatten()\n",
    "\n",
    "\n",
    "y_test_pred = model.predict(X_test).flatten()"
   ]
  },
  {
   "cell_type": "markdown",
   "metadata": {},
   "source": [
    "\n",
    "# build the model\n",
    "model = Sequential()\n",
    "model.add(Dense(128, input_dim=X_train_scaled.shape[1], activation='relu'))\n",
    "model.add(Dropout(0.2))\n",
    "model.add(Dense(64, activation='relu'))\n",
    "\n"
   ]
  },
  {
   "cell_type": "code",
   "execution_count": 15,
   "metadata": {},
   "outputs": [],
   "source": [
    "\n",
    "param_grid = {\n",
    "    'n_hidden': [1, 2, 3],\n",
    "    'n_neurons': [32, 64, 128],\n",
    "    'use_dropout': [True, False]\n",
    "}"
   ]
  },
  {
   "cell_type": "code",
   "execution_count": 17,
   "metadata": {},
   "outputs": [],
   "source": [
    "\n",
    "\n",
    "\n",
    "\n",
    "\n",
    "\n",
    "def create_model(num_layers=2, nodes=64, dropout_rate=True, learning_rate_schedule=None):\n",
    "    model = Sequential()\n",
    "\n",
    "      \n",
    "    # Input Layer\n",
    "    model.add(Dense(nodes, input_dim=4, activation='relu', kernel_regularizer=l2(0.0001)))\n",
    "\n",
    "    if dropout_rate == True:\n",
    "        model.add(Dropout(0.2))\n",
    "\n",
    "    # Hidden Layers\n",
    "    for _ in range(num_layers-1):\n",
    "        model.add(Dense(nodes, activation='relu', kernel_regularizer=l2(0.0001)))\n",
    "        if dropout_rate == True:\n",
    "            model.add(Dropout(0.2))\n",
    "\n",
    "    # Output Layer\n",
    "    model.add(Dense(1, activation='linear')) # Output layer is the price of the option. This is non negative as the price of an option cannot be negative\n",
    "\n",
    "    # Compile model\n",
    "    optimizer = Adam(learning_rate=learning_rate_schedule)\n",
    "    model.compile(optimizer=optimizer, loss='mean_squared_error')\n",
    "    \n",
    "    \n",
    "    return model\n",
    "\n",
    "\n",
    "\n"
   ]
  },
  {
   "cell_type": "code",
   "execution_count": 19,
   "metadata": {},
   "outputs": [
    {
     "name": "stderr",
     "output_type": "stream",
     "text": [
      "c:\\ProgramData\\anaconda3\\Lib\\site-packages\\keras\\src\\layers\\core\\dense.py:87: UserWarning: Do not pass an `input_shape`/`input_dim` argument to a layer. When using Sequential models, prefer using an `Input(shape)` object as the first layer in the model instead.\n",
      "  super().__init__(activity_regularizer=activity_regularizer, **kwargs)\n"
     ]
    },
    {
     "name": "stdout",
     "output_type": "stream",
     "text": [
      "\u001b[1m11069/11069\u001b[0m \u001b[32m━━━━━━━━━━━━━━━━━━━━\u001b[0m\u001b[37m\u001b[0m \u001b[1m7s\u001b[0m 671us/step\n",
      "\u001b[1m11069/11069\u001b[0m \u001b[32m━━━━━━━━━━━━━━━━━━━━\u001b[0m\u001b[37m\u001b[0m \u001b[1m8s\u001b[0m 729us/step\n"
     ]
    },
    {
     "name": "stderr",
     "output_type": "stream",
     "text": [
      "WARNING:absl:You are saving your model as an HDF5 file via `model.save()` or `keras.saving.save_model(model)`. This file format is considered legacy. We recommend using instead the native Keras format, e.g. `model.save('my_model.keras')` or `keras.saving.save_model(model, 'my_model.keras')`. \n"
     ]
    },
    {
     "name": "stdout",
     "output_type": "stream",
     "text": [
      "Model completed: vol10\n",
      "Layers: 1 Nodes: 32 Dropout: True\n",
      "ANN Val MSE: 1.351370182295033e-05 MAPE: 0.39884645769243804\n",
      "ANN Test MSE: 9.247834150822315e-06 MAPE: 0.38933823233155695\n",
      "Saving Model\n",
      "Model saved\n",
      "Execution time: 40.53041076660156\n"
     ]
    },
    {
     "name": "stderr",
     "output_type": "stream",
     "text": [
      "c:\\ProgramData\\anaconda3\\Lib\\site-packages\\keras\\src\\layers\\core\\dense.py:87: UserWarning: Do not pass an `input_shape`/`input_dim` argument to a layer. When using Sequential models, prefer using an `Input(shape)` object as the first layer in the model instead.\n",
      "  super().__init__(activity_regularizer=activity_regularizer, **kwargs)\n"
     ]
    },
    {
     "name": "stdout",
     "output_type": "stream",
     "text": [
      "\u001b[1m11069/11069\u001b[0m \u001b[32m━━━━━━━━━━━━━━━━━━━━\u001b[0m\u001b[37m\u001b[0m \u001b[1m7s\u001b[0m 664us/step\n",
      "\u001b[1m11069/11069\u001b[0m \u001b[32m━━━━━━━━━━━━━━━━━━━━\u001b[0m\u001b[37m\u001b[0m \u001b[1m7s\u001b[0m 639us/step\n"
     ]
    },
    {
     "name": "stderr",
     "output_type": "stream",
     "text": [
      "WARNING:absl:You are saving your model as an HDF5 file via `model.save()` or `keras.saving.save_model(model)`. This file format is considered legacy. We recommend using instead the native Keras format, e.g. `model.save('my_model.keras')` or `keras.saving.save_model(model, 'my_model.keras')`. \n"
     ]
    },
    {
     "name": "stdout",
     "output_type": "stream",
     "text": [
      "Model completed: vol10\n",
      "Layers: 1 Nodes: 32 Dropout: False\n",
      "ANN Val MSE: 1.1442337523923651e-05 MAPE: 0.5567107227946668\n",
      "ANN Test MSE: 3.5698964461924488e-06 MAPE: 0.3338496914656722\n",
      "Saving Model\n",
      "Model saved\n",
      "Execution time: 34.409324169158936\n"
     ]
    },
    {
     "name": "stderr",
     "output_type": "stream",
     "text": [
      "c:\\ProgramData\\anaconda3\\Lib\\site-packages\\keras\\src\\layers\\core\\dense.py:87: UserWarning: Do not pass an `input_shape`/`input_dim` argument to a layer. When using Sequential models, prefer using an `Input(shape)` object as the first layer in the model instead.\n",
      "  super().__init__(activity_regularizer=activity_regularizer, **kwargs)\n"
     ]
    },
    {
     "name": "stdout",
     "output_type": "stream",
     "text": [
      "\u001b[1m11069/11069\u001b[0m \u001b[32m━━━━━━━━━━━━━━━━━━━━\u001b[0m\u001b[37m\u001b[0m \u001b[1m7s\u001b[0m 645us/step\n",
      "\u001b[1m11069/11069\u001b[0m \u001b[32m━━━━━━━━━━━━━━━━━━━━\u001b[0m\u001b[37m\u001b[0m \u001b[1m7s\u001b[0m 647us/step\n"
     ]
    },
    {
     "name": "stderr",
     "output_type": "stream",
     "text": [
      "WARNING:absl:You are saving your model as an HDF5 file via `model.save()` or `keras.saving.save_model(model)`. This file format is considered legacy. We recommend using instead the native Keras format, e.g. `model.save('my_model.keras')` or `keras.saving.save_model(model, 'my_model.keras')`. \n"
     ]
    },
    {
     "name": "stdout",
     "output_type": "stream",
     "text": [
      "Model completed: vol10\n",
      "Layers: 1 Nodes: 64 Dropout: True\n",
      "ANN Val MSE: 1.3294024007031282e-05 MAPE: 0.5036953953431719\n",
      "ANN Test MSE: 6.753693108555779e-06 MAPE: 0.3973478102091434\n",
      "Saving Model\n",
      "Model saved\n",
      "Execution time: 41.25946831703186\n"
     ]
    },
    {
     "name": "stderr",
     "output_type": "stream",
     "text": [
      "c:\\ProgramData\\anaconda3\\Lib\\site-packages\\keras\\src\\layers\\core\\dense.py:87: UserWarning: Do not pass an `input_shape`/`input_dim` argument to a layer. When using Sequential models, prefer using an `Input(shape)` object as the first layer in the model instead.\n",
      "  super().__init__(activity_regularizer=activity_regularizer, **kwargs)\n"
     ]
    },
    {
     "name": "stdout",
     "output_type": "stream",
     "text": [
      "\u001b[1m11069/11069\u001b[0m \u001b[32m━━━━━━━━━━━━━━━━━━━━\u001b[0m\u001b[37m\u001b[0m \u001b[1m7s\u001b[0m 666us/step\n",
      "\u001b[1m11069/11069\u001b[0m \u001b[32m━━━━━━━━━━━━━━━━━━━━\u001b[0m\u001b[37m\u001b[0m \u001b[1m8s\u001b[0m 708us/step\n"
     ]
    },
    {
     "name": "stderr",
     "output_type": "stream",
     "text": [
      "WARNING:absl:You are saving your model as an HDF5 file via `model.save()` or `keras.saving.save_model(model)`. This file format is considered legacy. We recommend using instead the native Keras format, e.g. `model.save('my_model.keras')` or `keras.saving.save_model(model, 'my_model.keras')`. \n"
     ]
    },
    {
     "name": "stdout",
     "output_type": "stream",
     "text": [
      "Model completed: vol10\n",
      "Layers: 1 Nodes: 64 Dropout: False\n",
      "ANN Val MSE: 0.0024797725505845843 MAPE: 0.9745008921824218\n",
      "ANN Test MSE: 0.0029165828069693226 MAPE: 0.9678430552423055\n",
      "Saving Model\n",
      "Model saved\n",
      "Execution time: 37.739062547683716\n"
     ]
    },
    {
     "name": "stderr",
     "output_type": "stream",
     "text": [
      "c:\\ProgramData\\anaconda3\\Lib\\site-packages\\keras\\src\\layers\\core\\dense.py:87: UserWarning: Do not pass an `input_shape`/`input_dim` argument to a layer. When using Sequential models, prefer using an `Input(shape)` object as the first layer in the model instead.\n",
      "  super().__init__(activity_regularizer=activity_regularizer, **kwargs)\n"
     ]
    },
    {
     "name": "stdout",
     "output_type": "stream",
     "text": [
      "\u001b[1m11069/11069\u001b[0m \u001b[32m━━━━━━━━━━━━━━━━━━━━\u001b[0m\u001b[37m\u001b[0m \u001b[1m8s\u001b[0m 684us/step\n",
      "\u001b[1m11069/11069\u001b[0m \u001b[32m━━━━━━━━━━━━━━━━━━━━\u001b[0m\u001b[37m\u001b[0m \u001b[1m7s\u001b[0m 672us/step\n"
     ]
    },
    {
     "name": "stderr",
     "output_type": "stream",
     "text": [
      "WARNING:absl:You are saving your model as an HDF5 file via `model.save()` or `keras.saving.save_model(model)`. This file format is considered legacy. We recommend using instead the native Keras format, e.g. `model.save('my_model.keras')` or `keras.saving.save_model(model, 'my_model.keras')`. \n"
     ]
    },
    {
     "name": "stdout",
     "output_type": "stream",
     "text": [
      "Model completed: vol10\n",
      "Layers: 1 Nodes: 128 Dropout: True\n",
      "ANN Val MSE: 8.96032969476128e-06 MAPE: 0.3262441867904891\n",
      "ANN Test MSE: 4.514336274881343e-06 MAPE: 0.33055961392046695\n",
      "Saving Model\n",
      "Model saved\n",
      "Execution time: 44.27767038345337\n"
     ]
    },
    {
     "name": "stderr",
     "output_type": "stream",
     "text": [
      "c:\\ProgramData\\anaconda3\\Lib\\site-packages\\keras\\src\\layers\\core\\dense.py:87: UserWarning: Do not pass an `input_shape`/`input_dim` argument to a layer. When using Sequential models, prefer using an `Input(shape)` object as the first layer in the model instead.\n",
      "  super().__init__(activity_regularizer=activity_regularizer, **kwargs)\n"
     ]
    },
    {
     "name": "stdout",
     "output_type": "stream",
     "text": [
      "\u001b[1m11069/11069\u001b[0m \u001b[32m━━━━━━━━━━━━━━━━━━━━\u001b[0m\u001b[37m\u001b[0m \u001b[1m8s\u001b[0m 733us/step\n",
      "\u001b[1m11069/11069\u001b[0m \u001b[32m━━━━━━━━━━━━━━━━━━━━\u001b[0m\u001b[37m\u001b[0m \u001b[1m7s\u001b[0m 654us/step\n"
     ]
    },
    {
     "name": "stderr",
     "output_type": "stream",
     "text": [
      "WARNING:absl:You are saving your model as an HDF5 file via `model.save()` or `keras.saving.save_model(model)`. This file format is considered legacy. We recommend using instead the native Keras format, e.g. `model.save('my_model.keras')` or `keras.saving.save_model(model, 'my_model.keras')`. \n"
     ]
    },
    {
     "name": "stdout",
     "output_type": "stream",
     "text": [
      "Model completed: vol10\n",
      "Layers: 1 Nodes: 128 Dropout: False\n",
      "ANN Val MSE: 5.064230788306142e-06 MAPE: 0.3416113659356044\n",
      "ANN Test MSE: 4.916694909163502e-06 MAPE: 0.3605173626110706\n",
      "Saving Model\n",
      "Model saved\n",
      "Execution time: 38.412344455718994\n"
     ]
    },
    {
     "name": "stderr",
     "output_type": "stream",
     "text": [
      "c:\\ProgramData\\anaconda3\\Lib\\site-packages\\keras\\src\\layers\\core\\dense.py:87: UserWarning: Do not pass an `input_shape`/`input_dim` argument to a layer. When using Sequential models, prefer using an `Input(shape)` object as the first layer in the model instead.\n",
      "  super().__init__(activity_regularizer=activity_regularizer, **kwargs)\n"
     ]
    },
    {
     "name": "stdout",
     "output_type": "stream",
     "text": [
      "\u001b[1m11069/11069\u001b[0m \u001b[32m━━━━━━━━━━━━━━━━━━━━\u001b[0m\u001b[37m\u001b[0m \u001b[1m8s\u001b[0m 685us/step\n",
      "\u001b[1m11069/11069\u001b[0m \u001b[32m━━━━━━━━━━━━━━━━━━━━\u001b[0m\u001b[37m\u001b[0m \u001b[1m7s\u001b[0m 652us/step\n"
     ]
    },
    {
     "name": "stderr",
     "output_type": "stream",
     "text": [
      "WARNING:absl:You are saving your model as an HDF5 file via `model.save()` or `keras.saving.save_model(model)`. This file format is considered legacy. We recommend using instead the native Keras format, e.g. `model.save('my_model.keras')` or `keras.saving.save_model(model, 'my_model.keras')`. \n"
     ]
    },
    {
     "name": "stdout",
     "output_type": "stream",
     "text": [
      "Model completed: vol10\n",
      "Layers: 2 Nodes: 32 Dropout: True\n",
      "ANN Val MSE: 2.3731321287286147e-05 MAPE: 0.8663158523006583\n",
      "ANN Test MSE: 1.1568695983428653e-05 MAPE: 0.3936087004392797\n",
      "Saving Model\n",
      "Model saved\n",
      "Execution time: 42.96741485595703\n"
     ]
    },
    {
     "name": "stderr",
     "output_type": "stream",
     "text": [
      "c:\\ProgramData\\anaconda3\\Lib\\site-packages\\keras\\src\\layers\\core\\dense.py:87: UserWarning: Do not pass an `input_shape`/`input_dim` argument to a layer. When using Sequential models, prefer using an `Input(shape)` object as the first layer in the model instead.\n",
      "  super().__init__(activity_regularizer=activity_regularizer, **kwargs)\n"
     ]
    },
    {
     "name": "stdout",
     "output_type": "stream",
     "text": [
      "\u001b[1m11069/11069\u001b[0m \u001b[32m━━━━━━━━━━━━━━━━━━━━\u001b[0m\u001b[37m\u001b[0m \u001b[1m8s\u001b[0m 678us/step\n",
      "\u001b[1m11069/11069\u001b[0m \u001b[32m━━━━━━━━━━━━━━━━━━━━\u001b[0m\u001b[37m\u001b[0m \u001b[1m8s\u001b[0m 725us/step\n"
     ]
    },
    {
     "name": "stderr",
     "output_type": "stream",
     "text": [
      "WARNING:absl:You are saving your model as an HDF5 file via `model.save()` or `keras.saving.save_model(model)`. This file format is considered legacy. We recommend using instead the native Keras format, e.g. `model.save('my_model.keras')` or `keras.saving.save_model(model, 'my_model.keras')`. \n",
      "c:\\ProgramData\\anaconda3\\Lib\\site-packages\\keras\\src\\layers\\core\\dense.py:87: UserWarning: Do not pass an `input_shape`/`input_dim` argument to a layer. When using Sequential models, prefer using an `Input(shape)` object as the first layer in the model instead.\n",
      "  super().__init__(activity_regularizer=activity_regularizer, **kwargs)\n"
     ]
    },
    {
     "name": "stdout",
     "output_type": "stream",
     "text": [
      "Model completed: vol10\n",
      "Layers: 2 Nodes: 32 Dropout: False\n",
      "ANN Val MSE: 8.512629201968172e-06 MAPE: 0.5712452149567633\n",
      "ANN Test MSE: 3.946151536523466e-06 MAPE: 0.4600703981776623\n",
      "Saving Model\n",
      "Model saved\n",
      "Execution time: 38.336206912994385\n",
      "\u001b[1m11069/11069\u001b[0m \u001b[32m━━━━━━━━━━━━━━━━━━━━\u001b[0m\u001b[37m\u001b[0m \u001b[1m7s\u001b[0m 641us/step\n",
      "\u001b[1m11069/11069\u001b[0m \u001b[32m━━━━━━━━━━━━━━━━━━━━\u001b[0m\u001b[37m\u001b[0m \u001b[1m7s\u001b[0m 638us/step\n"
     ]
    },
    {
     "name": "stderr",
     "output_type": "stream",
     "text": [
      "WARNING:absl:You are saving your model as an HDF5 file via `model.save()` or `keras.saving.save_model(model)`. This file format is considered legacy. We recommend using instead the native Keras format, e.g. `model.save('my_model.keras')` or `keras.saving.save_model(model, 'my_model.keras')`. \n"
     ]
    },
    {
     "name": "stdout",
     "output_type": "stream",
     "text": [
      "Model completed: vol10\n",
      "Layers: 2 Nodes: 64 Dropout: True\n",
      "ANN Val MSE: 1.6835850691119975e-05 MAPE: 1.0800528814445447\n",
      "ANN Test MSE: 1.4478090697551623e-05 MAPE: 1.1370279810646653\n",
      "Saving Model\n",
      "Model saved\n",
      "Execution time: 45.898038148880005\n"
     ]
    },
    {
     "name": "stderr",
     "output_type": "stream",
     "text": [
      "c:\\ProgramData\\anaconda3\\Lib\\site-packages\\keras\\src\\layers\\core\\dense.py:87: UserWarning: Do not pass an `input_shape`/`input_dim` argument to a layer. When using Sequential models, prefer using an `Input(shape)` object as the first layer in the model instead.\n",
      "  super().__init__(activity_regularizer=activity_regularizer, **kwargs)\n"
     ]
    },
    {
     "name": "stdout",
     "output_type": "stream",
     "text": [
      "\u001b[1m11069/11069\u001b[0m \u001b[32m━━━━━━━━━━━━━━━━━━━━\u001b[0m\u001b[37m\u001b[0m \u001b[1m7s\u001b[0m 646us/step\n",
      "\u001b[1m11069/11069\u001b[0m \u001b[32m━━━━━━━━━━━━━━━━━━━━\u001b[0m\u001b[37m\u001b[0m \u001b[1m8s\u001b[0m 681us/step\n"
     ]
    },
    {
     "name": "stderr",
     "output_type": "stream",
     "text": [
      "WARNING:absl:You are saving your model as an HDF5 file via `model.save()` or `keras.saving.save_model(model)`. This file format is considered legacy. We recommend using instead the native Keras format, e.g. `model.save('my_model.keras')` or `keras.saving.save_model(model, 'my_model.keras')`. \n"
     ]
    },
    {
     "name": "stdout",
     "output_type": "stream",
     "text": [
      "Model completed: vol10\n",
      "Layers: 2 Nodes: 64 Dropout: False\n",
      "ANN Val MSE: 6.863155787436585e-06 MAPE: 0.5583833629665448\n",
      "ANN Test MSE: 3.785097290647863e-06 MAPE: 0.38211175280163534\n",
      "Saving Model\n",
      "Model saved\n",
      "Execution time: 38.60814452171326\n"
     ]
    },
    {
     "name": "stderr",
     "output_type": "stream",
     "text": [
      "c:\\ProgramData\\anaconda3\\Lib\\site-packages\\keras\\src\\layers\\core\\dense.py:87: UserWarning: Do not pass an `input_shape`/`input_dim` argument to a layer. When using Sequential models, prefer using an `Input(shape)` object as the first layer in the model instead.\n",
      "  super().__init__(activity_regularizer=activity_regularizer, **kwargs)\n"
     ]
    },
    {
     "name": "stdout",
     "output_type": "stream",
     "text": [
      "\u001b[1m11069/11069\u001b[0m \u001b[32m━━━━━━━━━━━━━━━━━━━━\u001b[0m\u001b[37m\u001b[0m \u001b[1m8s\u001b[0m 695us/step\n",
      "\u001b[1m11069/11069\u001b[0m \u001b[32m━━━━━━━━━━━━━━━━━━━━\u001b[0m\u001b[37m\u001b[0m \u001b[1m8s\u001b[0m 690us/step\n"
     ]
    },
    {
     "name": "stderr",
     "output_type": "stream",
     "text": [
      "WARNING:absl:You are saving your model as an HDF5 file via `model.save()` or `keras.saving.save_model(model)`. This file format is considered legacy. We recommend using instead the native Keras format, e.g. `model.save('my_model.keras')` or `keras.saving.save_model(model, 'my_model.keras')`. \n"
     ]
    },
    {
     "name": "stdout",
     "output_type": "stream",
     "text": [
      "Model completed: vol10\n",
      "Layers: 2 Nodes: 128 Dropout: True\n",
      "ANN Val MSE: 8.542591333244848e-06 MAPE: 1.3164775253377685\n",
      "ANN Test MSE: 1.3714859790143222e-05 MAPE: 0.9007008798494551\n",
      "Saving Model\n",
      "Model saved\n",
      "Execution time: 54.85716104507446\n"
     ]
    },
    {
     "name": "stderr",
     "output_type": "stream",
     "text": [
      "c:\\ProgramData\\anaconda3\\Lib\\site-packages\\keras\\src\\layers\\core\\dense.py:87: UserWarning: Do not pass an `input_shape`/`input_dim` argument to a layer. When using Sequential models, prefer using an `Input(shape)` object as the first layer in the model instead.\n",
      "  super().__init__(activity_regularizer=activity_regularizer, **kwargs)\n"
     ]
    },
    {
     "name": "stdout",
     "output_type": "stream",
     "text": [
      "\u001b[1m11069/11069\u001b[0m \u001b[32m━━━━━━━━━━━━━━━━━━━━\u001b[0m\u001b[37m\u001b[0m \u001b[1m8s\u001b[0m 675us/step\n",
      "\u001b[1m11069/11069\u001b[0m \u001b[32m━━━━━━━━━━━━━━━━━━━━\u001b[0m\u001b[37m\u001b[0m \u001b[1m8s\u001b[0m 679us/step\n"
     ]
    },
    {
     "name": "stderr",
     "output_type": "stream",
     "text": [
      "WARNING:absl:You are saving your model as an HDF5 file via `model.save()` or `keras.saving.save_model(model)`. This file format is considered legacy. We recommend using instead the native Keras format, e.g. `model.save('my_model.keras')` or `keras.saving.save_model(model, 'my_model.keras')`. \n"
     ]
    },
    {
     "name": "stdout",
     "output_type": "stream",
     "text": [
      "Model completed: vol10\n",
      "Layers: 2 Nodes: 128 Dropout: False\n",
      "ANN Val MSE: 0.0024797725505845843 MAPE: 0.9745008921824218\n",
      "ANN Test MSE: 0.0029165828069693226 MAPE: 0.9678430552423055\n",
      "Saving Model\n",
      "Model saved\n",
      "Execution time: 43.1104953289032\n"
     ]
    },
    {
     "name": "stderr",
     "output_type": "stream",
     "text": [
      "c:\\ProgramData\\anaconda3\\Lib\\site-packages\\keras\\src\\layers\\core\\dense.py:87: UserWarning: Do not pass an `input_shape`/`input_dim` argument to a layer. When using Sequential models, prefer using an `Input(shape)` object as the first layer in the model instead.\n",
      "  super().__init__(activity_regularizer=activity_regularizer, **kwargs)\n"
     ]
    },
    {
     "name": "stdout",
     "output_type": "stream",
     "text": [
      "\u001b[1m11069/11069\u001b[0m \u001b[32m━━━━━━━━━━━━━━━━━━━━\u001b[0m\u001b[37m\u001b[0m \u001b[1m7s\u001b[0m 658us/step\n",
      "\u001b[1m11069/11069\u001b[0m \u001b[32m━━━━━━━━━━━━━━━━━━━━\u001b[0m\u001b[37m\u001b[0m \u001b[1m7s\u001b[0m 661us/step\n"
     ]
    },
    {
     "name": "stderr",
     "output_type": "stream",
     "text": [
      "WARNING:absl:You are saving your model as an HDF5 file via `model.save()` or `keras.saving.save_model(model)`. This file format is considered legacy. We recommend using instead the native Keras format, e.g. `model.save('my_model.keras')` or `keras.saving.save_model(model, 'my_model.keras')`. \n"
     ]
    },
    {
     "name": "stdout",
     "output_type": "stream",
     "text": [
      "Model completed: vol10\n",
      "Layers: 3 Nodes: 32 Dropout: True\n",
      "ANN Val MSE: 1.9463436067918936e-05 MAPE: 3.834364291911115\n",
      "ANN Test MSE: 1.7267364471942416e-05 MAPE: 5.147921018504802\n",
      "Saving Model\n",
      "Model saved\n",
      "Execution time: 47.47872018814087\n"
     ]
    },
    {
     "name": "stderr",
     "output_type": "stream",
     "text": [
      "c:\\ProgramData\\anaconda3\\Lib\\site-packages\\keras\\src\\layers\\core\\dense.py:87: UserWarning: Do not pass an `input_shape`/`input_dim` argument to a layer. When using Sequential models, prefer using an `Input(shape)` object as the first layer in the model instead.\n",
      "  super().__init__(activity_regularizer=activity_regularizer, **kwargs)\n"
     ]
    },
    {
     "name": "stdout",
     "output_type": "stream",
     "text": [
      "\u001b[1m11069/11069\u001b[0m \u001b[32m━━━━━━━━━━━━━━━━━━━━\u001b[0m\u001b[37m\u001b[0m \u001b[1m8s\u001b[0m 699us/step\n",
      "\u001b[1m11069/11069\u001b[0m \u001b[32m━━━━━━━━━━━━━━━━━━━━\u001b[0m\u001b[37m\u001b[0m \u001b[1m7s\u001b[0m 659us/step\n"
     ]
    },
    {
     "name": "stderr",
     "output_type": "stream",
     "text": [
      "WARNING:absl:You are saving your model as an HDF5 file via `model.save()` or `keras.saving.save_model(model)`. This file format is considered legacy. We recommend using instead the native Keras format, e.g. `model.save('my_model.keras')` or `keras.saving.save_model(model, 'my_model.keras')`. \n"
     ]
    },
    {
     "name": "stdout",
     "output_type": "stream",
     "text": [
      "Model completed: vol10\n",
      "Layers: 3 Nodes: 32 Dropout: False\n",
      "ANN Val MSE: 1.1025315950533003e-05 MAPE: 0.7473852862828565\n",
      "ANN Test MSE: 5.087717152845286e-06 MAPE: 1.1371018564992381\n",
      "Saving Model\n",
      "Model saved\n",
      "Execution time: 39.03435301780701\n"
     ]
    },
    {
     "name": "stderr",
     "output_type": "stream",
     "text": [
      "c:\\ProgramData\\anaconda3\\Lib\\site-packages\\keras\\src\\layers\\core\\dense.py:87: UserWarning: Do not pass an `input_shape`/`input_dim` argument to a layer. When using Sequential models, prefer using an `Input(shape)` object as the first layer in the model instead.\n",
      "  super().__init__(activity_regularizer=activity_regularizer, **kwargs)\n"
     ]
    },
    {
     "name": "stdout",
     "output_type": "stream",
     "text": [
      "\u001b[1m11069/11069\u001b[0m \u001b[32m━━━━━━━━━━━━━━━━━━━━\u001b[0m\u001b[37m\u001b[0m \u001b[1m8s\u001b[0m 682us/step\n",
      "\u001b[1m11069/11069\u001b[0m \u001b[32m━━━━━━━━━━━━━━━━━━━━\u001b[0m\u001b[37m\u001b[0m \u001b[1m8s\u001b[0m 682us/step\n"
     ]
    },
    {
     "name": "stderr",
     "output_type": "stream",
     "text": [
      "WARNING:absl:You are saving your model as an HDF5 file via `model.save()` or `keras.saving.save_model(model)`. This file format is considered legacy. We recommend using instead the native Keras format, e.g. `model.save('my_model.keras')` or `keras.saving.save_model(model, 'my_model.keras')`. \n"
     ]
    },
    {
     "name": "stdout",
     "output_type": "stream",
     "text": [
      "Model completed: vol10\n",
      "Layers: 3 Nodes: 64 Dropout: True\n",
      "ANN Val MSE: 2.4550656751873547e-05 MAPE: 4.371880415434581\n",
      "ANN Test MSE: 7.5103665165059415e-06 MAPE: 2.281024632523165\n",
      "Saving Model\n",
      "Model saved\n",
      "Execution time: 54.87502980232239\n"
     ]
    },
    {
     "name": "stderr",
     "output_type": "stream",
     "text": [
      "c:\\ProgramData\\anaconda3\\Lib\\site-packages\\keras\\src\\layers\\core\\dense.py:87: UserWarning: Do not pass an `input_shape`/`input_dim` argument to a layer. When using Sequential models, prefer using an `Input(shape)` object as the first layer in the model instead.\n",
      "  super().__init__(activity_regularizer=activity_regularizer, **kwargs)\n"
     ]
    },
    {
     "name": "stdout",
     "output_type": "stream",
     "text": [
      "\u001b[1m11069/11069\u001b[0m \u001b[32m━━━━━━━━━━━━━━━━━━━━\u001b[0m\u001b[37m\u001b[0m \u001b[1m8s\u001b[0m 685us/step\n",
      "\u001b[1m11069/11069\u001b[0m \u001b[32m━━━━━━━━━━━━━━━━━━━━\u001b[0m\u001b[37m\u001b[0m \u001b[1m7s\u001b[0m 654us/step\n"
     ]
    },
    {
     "name": "stderr",
     "output_type": "stream",
     "text": [
      "WARNING:absl:You are saving your model as an HDF5 file via `model.save()` or `keras.saving.save_model(model)`. This file format is considered legacy. We recommend using instead the native Keras format, e.g. `model.save('my_model.keras')` or `keras.saving.save_model(model, 'my_model.keras')`. \n"
     ]
    },
    {
     "name": "stdout",
     "output_type": "stream",
     "text": [
      "Model completed: vol10\n",
      "Layers: 3 Nodes: 64 Dropout: False\n",
      "ANN Val MSE: 8.05564678410328e-06 MAPE: 0.8164356272221224\n",
      "ANN Test MSE: 5.395906421264823e-06 MAPE: 1.3948729084194613\n",
      "Saving Model\n",
      "Model saved\n",
      "Execution time: 41.94388437271118\n"
     ]
    },
    {
     "name": "stderr",
     "output_type": "stream",
     "text": [
      "c:\\ProgramData\\anaconda3\\Lib\\site-packages\\keras\\src\\layers\\core\\dense.py:87: UserWarning: Do not pass an `input_shape`/`input_dim` argument to a layer. When using Sequential models, prefer using an `Input(shape)` object as the first layer in the model instead.\n",
      "  super().__init__(activity_regularizer=activity_regularizer, **kwargs)\n"
     ]
    },
    {
     "name": "stdout",
     "output_type": "stream",
     "text": [
      "\u001b[1m11069/11069\u001b[0m \u001b[32m━━━━━━━━━━━━━━━━━━━━\u001b[0m\u001b[37m\u001b[0m \u001b[1m8s\u001b[0m 710us/step\n",
      "\u001b[1m11069/11069\u001b[0m \u001b[32m━━━━━━━━━━━━━━━━━━━━\u001b[0m\u001b[37m\u001b[0m \u001b[1m8s\u001b[0m 722us/step\n"
     ]
    },
    {
     "name": "stderr",
     "output_type": "stream",
     "text": [
      "WARNING:absl:You are saving your model as an HDF5 file via `model.save()` or `keras.saving.save_model(model)`. This file format is considered legacy. We recommend using instead the native Keras format, e.g. `model.save('my_model.keras')` or `keras.saving.save_model(model, 'my_model.keras')`. \n"
     ]
    },
    {
     "name": "stdout",
     "output_type": "stream",
     "text": [
      "Model completed: vol10\n",
      "Layers: 3 Nodes: 128 Dropout: True\n",
      "ANN Val MSE: 1.2729957315086242e-05 MAPE: 2.2917819333394447\n",
      "ANN Test MSE: 1.14757985712109e-05 MAPE: 3.2275441033261667\n",
      "Saving Model\n",
      "Model saved\n",
      "Execution time: 65.83263039588928\n"
     ]
    },
    {
     "name": "stderr",
     "output_type": "stream",
     "text": [
      "c:\\ProgramData\\anaconda3\\Lib\\site-packages\\keras\\src\\layers\\core\\dense.py:87: UserWarning: Do not pass an `input_shape`/`input_dim` argument to a layer. When using Sequential models, prefer using an `Input(shape)` object as the first layer in the model instead.\n",
      "  super().__init__(activity_regularizer=activity_regularizer, **kwargs)\n"
     ]
    },
    {
     "name": "stdout",
     "output_type": "stream",
     "text": [
      "\u001b[1m11069/11069\u001b[0m \u001b[32m━━━━━━━━━━━━━━━━━━━━\u001b[0m\u001b[37m\u001b[0m \u001b[1m10s\u001b[0m 859us/step\n",
      "\u001b[1m11069/11069\u001b[0m \u001b[32m━━━━━━━━━━━━━━━━━━━━\u001b[0m\u001b[37m\u001b[0m \u001b[1m8s\u001b[0m 687us/step\n"
     ]
    },
    {
     "name": "stderr",
     "output_type": "stream",
     "text": [
      "WARNING:absl:You are saving your model as an HDF5 file via `model.save()` or `keras.saving.save_model(model)`. This file format is considered legacy. We recommend using instead the native Keras format, e.g. `model.save('my_model.keras')` or `keras.saving.save_model(model, 'my_model.keras')`. \n"
     ]
    },
    {
     "name": "stdout",
     "output_type": "stream",
     "text": [
      "Model completed: vol10\n",
      "Layers: 3 Nodes: 128 Dropout: False\n",
      "ANN Val MSE: 9.928676412812835e-06 MAPE: 0.5695504209025408\n",
      "ANN Test MSE: 5.1259640693607265e-06 MAPE: 0.414035512096707\n",
      "Saving Model\n",
      "Model saved\n",
      "Execution time: 50.06676912307739\n"
     ]
    },
    {
     "name": "stderr",
     "output_type": "stream",
     "text": [
      "c:\\ProgramData\\anaconda3\\Lib\\site-packages\\keras\\src\\layers\\core\\dense.py:87: UserWarning: Do not pass an `input_shape`/`input_dim` argument to a layer. When using Sequential models, prefer using an `Input(shape)` object as the first layer in the model instead.\n",
      "  super().__init__(activity_regularizer=activity_regularizer, **kwargs)\n"
     ]
    },
    {
     "name": "stdout",
     "output_type": "stream",
     "text": [
      "\u001b[1m11069/11069\u001b[0m \u001b[32m━━━━━━━━━━━━━━━━━━━━\u001b[0m\u001b[37m\u001b[0m \u001b[1m7s\u001b[0m 628us/step\n",
      "\u001b[1m11069/11069\u001b[0m \u001b[32m━━━━━━━━━━━━━━━━━━━━\u001b[0m\u001b[37m\u001b[0m \u001b[1m7s\u001b[0m 632us/step\n"
     ]
    },
    {
     "name": "stderr",
     "output_type": "stream",
     "text": [
      "WARNING:absl:You are saving your model as an HDF5 file via `model.save()` or `keras.saving.save_model(model)`. This file format is considered legacy. We recommend using instead the native Keras format, e.g. `model.save('my_model.keras')` or `keras.saving.save_model(model, 'my_model.keras')`. \n"
     ]
    },
    {
     "name": "stdout",
     "output_type": "stream",
     "text": [
      "Model completed: vol30\n",
      "Layers: 1 Nodes: 32 Dropout: True\n",
      "ANN Val MSE: 1.2163683537257229e-05 MAPE: 0.3915845675158787\n",
      "ANN Test MSE: 9.087733350397301e-06 MAPE: 0.3800709472221987\n",
      "Saving Model\n",
      "Model saved\n",
      "Execution time: 35.956687688827515\n"
     ]
    },
    {
     "name": "stderr",
     "output_type": "stream",
     "text": [
      "c:\\ProgramData\\anaconda3\\Lib\\site-packages\\keras\\src\\layers\\core\\dense.py:87: UserWarning: Do not pass an `input_shape`/`input_dim` argument to a layer. When using Sequential models, prefer using an `Input(shape)` object as the first layer in the model instead.\n",
      "  super().__init__(activity_regularizer=activity_regularizer, **kwargs)\n"
     ]
    },
    {
     "name": "stdout",
     "output_type": "stream",
     "text": [
      "\u001b[1m11069/11069\u001b[0m \u001b[32m━━━━━━━━━━━━━━━━━━━━\u001b[0m\u001b[37m\u001b[0m \u001b[1m8s\u001b[0m 701us/step\n",
      "\u001b[1m11069/11069\u001b[0m \u001b[32m━━━━━━━━━━━━━━━━━━━━\u001b[0m\u001b[37m\u001b[0m \u001b[1m7s\u001b[0m 629us/step\n"
     ]
    },
    {
     "name": "stderr",
     "output_type": "stream",
     "text": [
      "WARNING:absl:You are saving your model as an HDF5 file via `model.save()` or `keras.saving.save_model(model)`. This file format is considered legacy. We recommend using instead the native Keras format, e.g. `model.save('my_model.keras')` or `keras.saving.save_model(model, 'my_model.keras')`. \n"
     ]
    },
    {
     "name": "stdout",
     "output_type": "stream",
     "text": [
      "Model completed: vol30\n",
      "Layers: 1 Nodes: 32 Dropout: False\n",
      "ANN Val MSE: 5.022202845446251e-06 MAPE: 0.3684447803275518\n",
      "ANN Test MSE: 3.3076678205641026e-06 MAPE: 0.2870734829497763\n",
      "Saving Model\n",
      "Model saved\n",
      "Execution time: 35.384745359420776\n"
     ]
    },
    {
     "name": "stderr",
     "output_type": "stream",
     "text": [
      "c:\\ProgramData\\anaconda3\\Lib\\site-packages\\keras\\src\\layers\\core\\dense.py:87: UserWarning: Do not pass an `input_shape`/`input_dim` argument to a layer. When using Sequential models, prefer using an `Input(shape)` object as the first layer in the model instead.\n",
      "  super().__init__(activity_regularizer=activity_regularizer, **kwargs)\n"
     ]
    },
    {
     "name": "stdout",
     "output_type": "stream",
     "text": [
      "\u001b[1m11069/11069\u001b[0m \u001b[32m━━━━━━━━━━━━━━━━━━━━\u001b[0m\u001b[37m\u001b[0m \u001b[1m7s\u001b[0m 619us/step\n",
      "\u001b[1m11069/11069\u001b[0m \u001b[32m━━━━━━━━━━━━━━━━━━━━\u001b[0m\u001b[37m\u001b[0m \u001b[1m8s\u001b[0m 692us/step\n"
     ]
    },
    {
     "name": "stderr",
     "output_type": "stream",
     "text": [
      "WARNING:absl:You are saving your model as an HDF5 file via `model.save()` or `keras.saving.save_model(model)`. This file format is considered legacy. We recommend using instead the native Keras format, e.g. `model.save('my_model.keras')` or `keras.saving.save_model(model, 'my_model.keras')`. \n"
     ]
    },
    {
     "name": "stdout",
     "output_type": "stream",
     "text": [
      "Model completed: vol30\n",
      "Layers: 1 Nodes: 64 Dropout: True\n",
      "ANN Val MSE: 1.0202756040942165e-05 MAPE: 0.42062609757790836\n",
      "ANN Test MSE: 6.021007658490897e-06 MAPE: 0.33816909410972595\n",
      "Saving Model\n",
      "Model saved\n",
      "Execution time: 39.27976703643799\n"
     ]
    },
    {
     "name": "stderr",
     "output_type": "stream",
     "text": [
      "c:\\ProgramData\\anaconda3\\Lib\\site-packages\\keras\\src\\layers\\core\\dense.py:87: UserWarning: Do not pass an `input_shape`/`input_dim` argument to a layer. When using Sequential models, prefer using an `Input(shape)` object as the first layer in the model instead.\n",
      "  super().__init__(activity_regularizer=activity_regularizer, **kwargs)\n"
     ]
    },
    {
     "name": "stdout",
     "output_type": "stream",
     "text": [
      "\u001b[1m11069/11069\u001b[0m \u001b[32m━━━━━━━━━━━━━━━━━━━━\u001b[0m\u001b[37m\u001b[0m \u001b[1m7s\u001b[0m 627us/step\n",
      "\u001b[1m11069/11069\u001b[0m \u001b[32m━━━━━━━━━━━━━━━━━━━━\u001b[0m\u001b[37m\u001b[0m \u001b[1m7s\u001b[0m 639us/step\n"
     ]
    },
    {
     "name": "stderr",
     "output_type": "stream",
     "text": [
      "WARNING:absl:You are saving your model as an HDF5 file via `model.save()` or `keras.saving.save_model(model)`. This file format is considered legacy. We recommend using instead the native Keras format, e.g. `model.save('my_model.keras')` or `keras.saving.save_model(model, 'my_model.keras')`. \n"
     ]
    },
    {
     "name": "stdout",
     "output_type": "stream",
     "text": [
      "Model completed: vol30\n",
      "Layers: 1 Nodes: 64 Dropout: False\n",
      "ANN Val MSE: 7.223188081225817e-06 MAPE: 0.44575383167344734\n",
      "ANN Test MSE: 4.925561382204031e-06 MAPE: 0.3034423480798239\n",
      "Saving Model\n",
      "Model saved\n",
      "Execution time: 35.09838318824768\n"
     ]
    },
    {
     "name": "stderr",
     "output_type": "stream",
     "text": [
      "c:\\ProgramData\\anaconda3\\Lib\\site-packages\\keras\\src\\layers\\core\\dense.py:87: UserWarning: Do not pass an `input_shape`/`input_dim` argument to a layer. When using Sequential models, prefer using an `Input(shape)` object as the first layer in the model instead.\n",
      "  super().__init__(activity_regularizer=activity_regularizer, **kwargs)\n"
     ]
    },
    {
     "name": "stdout",
     "output_type": "stream",
     "text": [
      "\u001b[1m11069/11069\u001b[0m \u001b[32m━━━━━━━━━━━━━━━━━━━━\u001b[0m\u001b[37m\u001b[0m \u001b[1m7s\u001b[0m 649us/step\n",
      "\u001b[1m11069/11069\u001b[0m \u001b[32m━━━━━━━━━━━━━━━━━━━━\u001b[0m\u001b[37m\u001b[0m \u001b[1m7s\u001b[0m 598us/step\n"
     ]
    },
    {
     "name": "stderr",
     "output_type": "stream",
     "text": [
      "WARNING:absl:You are saving your model as an HDF5 file via `model.save()` or `keras.saving.save_model(model)`. This file format is considered legacy. We recommend using instead the native Keras format, e.g. `model.save('my_model.keras')` or `keras.saving.save_model(model, 'my_model.keras')`. \n"
     ]
    },
    {
     "name": "stdout",
     "output_type": "stream",
     "text": [
      "Model completed: vol30\n",
      "Layers: 1 Nodes: 128 Dropout: True\n",
      "ANN Val MSE: 5.452259363277414e-06 MAPE: 0.32824979241080443\n",
      "ANN Test MSE: 7.089625824515452e-06 MAPE: 0.49241332158752393\n",
      "Saving Model\n",
      "Model saved\n",
      "Execution time: 41.22750663757324\n"
     ]
    },
    {
     "name": "stderr",
     "output_type": "stream",
     "text": [
      "c:\\ProgramData\\anaconda3\\Lib\\site-packages\\keras\\src\\layers\\core\\dense.py:87: UserWarning: Do not pass an `input_shape`/`input_dim` argument to a layer. When using Sequential models, prefer using an `Input(shape)` object as the first layer in the model instead.\n",
      "  super().__init__(activity_regularizer=activity_regularizer, **kwargs)\n"
     ]
    },
    {
     "name": "stdout",
     "output_type": "stream",
     "text": [
      "\u001b[1m11069/11069\u001b[0m \u001b[32m━━━━━━━━━━━━━━━━━━━━\u001b[0m\u001b[37m\u001b[0m \u001b[1m7s\u001b[0m 610us/step\n",
      "\u001b[1m11069/11069\u001b[0m \u001b[32m━━━━━━━━━━━━━━━━━━━━\u001b[0m\u001b[37m\u001b[0m \u001b[1m7s\u001b[0m 627us/step\n"
     ]
    },
    {
     "name": "stderr",
     "output_type": "stream",
     "text": [
      "WARNING:absl:You are saving your model as an HDF5 file via `model.save()` or `keras.saving.save_model(model)`. This file format is considered legacy. We recommend using instead the native Keras format, e.g. `model.save('my_model.keras')` or `keras.saving.save_model(model, 'my_model.keras')`. \n"
     ]
    },
    {
     "name": "stdout",
     "output_type": "stream",
     "text": [
      "Model completed: vol30\n",
      "Layers: 1 Nodes: 128 Dropout: False\n",
      "ANN Val MSE: 6.650913846611304e-06 MAPE: 0.3347853449425328\n",
      "ANN Test MSE: 3.8095960548420734e-06 MAPE: 0.2878041263357434\n",
      "Saving Model\n",
      "Model saved\n",
      "Execution time: 34.74273419380188\n"
     ]
    },
    {
     "name": "stderr",
     "output_type": "stream",
     "text": [
      "c:\\ProgramData\\anaconda3\\Lib\\site-packages\\keras\\src\\layers\\core\\dense.py:87: UserWarning: Do not pass an `input_shape`/`input_dim` argument to a layer. When using Sequential models, prefer using an `Input(shape)` object as the first layer in the model instead.\n",
      "  super().__init__(activity_regularizer=activity_regularizer, **kwargs)\n"
     ]
    },
    {
     "name": "stdout",
     "output_type": "stream",
     "text": [
      "\u001b[1m11069/11069\u001b[0m \u001b[32m━━━━━━━━━━━━━━━━━━━━\u001b[0m\u001b[37m\u001b[0m \u001b[1m8s\u001b[0m 675us/step\n",
      "\u001b[1m11069/11069\u001b[0m \u001b[32m━━━━━━━━━━━━━━━━━━━━\u001b[0m\u001b[37m\u001b[0m \u001b[1m8s\u001b[0m 691us/step\n"
     ]
    },
    {
     "name": "stderr",
     "output_type": "stream",
     "text": [
      "WARNING:absl:You are saving your model as an HDF5 file via `model.save()` or `keras.saving.save_model(model)`. This file format is considered legacy. We recommend using instead the native Keras format, e.g. `model.save('my_model.keras')` or `keras.saving.save_model(model, 'my_model.keras')`. \n"
     ]
    },
    {
     "name": "stdout",
     "output_type": "stream",
     "text": [
      "Model completed: vol30\n",
      "Layers: 2 Nodes: 32 Dropout: True\n",
      "ANN Val MSE: 2.0951916077904136e-05 MAPE: 0.47755056053172656\n",
      "ANN Test MSE: 1.106364728774742e-05 MAPE: 0.38556150101771275\n",
      "Saving Model\n",
      "Model saved\n",
      "Execution time: 41.128520011901855\n"
     ]
    },
    {
     "name": "stderr",
     "output_type": "stream",
     "text": [
      "c:\\ProgramData\\anaconda3\\Lib\\site-packages\\keras\\src\\layers\\core\\dense.py:87: UserWarning: Do not pass an `input_shape`/`input_dim` argument to a layer. When using Sequential models, prefer using an `Input(shape)` object as the first layer in the model instead.\n",
      "  super().__init__(activity_regularizer=activity_regularizer, **kwargs)\n"
     ]
    },
    {
     "name": "stdout",
     "output_type": "stream",
     "text": [
      "\u001b[1m11069/11069\u001b[0m \u001b[32m━━━━━━━━━━━━━━━━━━━━\u001b[0m\u001b[37m\u001b[0m \u001b[1m7s\u001b[0m 667us/step\n",
      "\u001b[1m11069/11069\u001b[0m \u001b[32m━━━━━━━━━━━━━━━━━━━━\u001b[0m\u001b[37m\u001b[0m \u001b[1m8s\u001b[0m 679us/step\n"
     ]
    },
    {
     "name": "stderr",
     "output_type": "stream",
     "text": [
      "WARNING:absl:You are saving your model as an HDF5 file via `model.save()` or `keras.saving.save_model(model)`. This file format is considered legacy. We recommend using instead the native Keras format, e.g. `model.save('my_model.keras')` or `keras.saving.save_model(model, 'my_model.keras')`. \n"
     ]
    },
    {
     "name": "stdout",
     "output_type": "stream",
     "text": [
      "Model completed: vol30\n",
      "Layers: 2 Nodes: 32 Dropout: False\n",
      "ANN Val MSE: 9.031577387142982e-06 MAPE: 0.45616994372597863\n",
      "ANN Test MSE: 7.770347879767976e-06 MAPE: 0.6002944577998125\n",
      "Saving Model\n",
      "Model saved\n",
      "Execution time: 36.26672697067261\n"
     ]
    },
    {
     "name": "stderr",
     "output_type": "stream",
     "text": [
      "c:\\ProgramData\\anaconda3\\Lib\\site-packages\\keras\\src\\layers\\core\\dense.py:87: UserWarning: Do not pass an `input_shape`/`input_dim` argument to a layer. When using Sequential models, prefer using an `Input(shape)` object as the first layer in the model instead.\n",
      "  super().__init__(activity_regularizer=activity_regularizer, **kwargs)\n"
     ]
    },
    {
     "name": "stdout",
     "output_type": "stream",
     "text": [
      "\u001b[1m11069/11069\u001b[0m \u001b[32m━━━━━━━━━━━━━━━━━━━━\u001b[0m\u001b[37m\u001b[0m \u001b[1m7s\u001b[0m 645us/step\n",
      "\u001b[1m11069/11069\u001b[0m \u001b[32m━━━━━━━━━━━━━━━━━━━━\u001b[0m\u001b[37m\u001b[0m \u001b[1m7s\u001b[0m 644us/step\n"
     ]
    },
    {
     "name": "stderr",
     "output_type": "stream",
     "text": [
      "WARNING:absl:You are saving your model as an HDF5 file via `model.save()` or `keras.saving.save_model(model)`. This file format is considered legacy. We recommend using instead the native Keras format, e.g. `model.save('my_model.keras')` or `keras.saving.save_model(model, 'my_model.keras')`. \n"
     ]
    },
    {
     "name": "stdout",
     "output_type": "stream",
     "text": [
      "Model completed: vol30\n",
      "Layers: 2 Nodes: 64 Dropout: True\n",
      "ANN Val MSE: 1.150696671874959e-05 MAPE: 1.5791331084439784\n",
      "ANN Test MSE: 1.1215320642018826e-05 MAPE: 0.6825550931222707\n",
      "Saving Model\n",
      "Model saved\n",
      "Execution time: 45.58006978034973\n"
     ]
    },
    {
     "name": "stderr",
     "output_type": "stream",
     "text": [
      "c:\\ProgramData\\anaconda3\\Lib\\site-packages\\keras\\src\\layers\\core\\dense.py:87: UserWarning: Do not pass an `input_shape`/`input_dim` argument to a layer. When using Sequential models, prefer using an `Input(shape)` object as the first layer in the model instead.\n",
      "  super().__init__(activity_regularizer=activity_regularizer, **kwargs)\n"
     ]
    },
    {
     "name": "stdout",
     "output_type": "stream",
     "text": [
      "\u001b[1m11069/11069\u001b[0m \u001b[32m━━━━━━━━━━━━━━━━━━━━\u001b[0m\u001b[37m\u001b[0m \u001b[1m7s\u001b[0m 640us/step\n",
      "\u001b[1m11069/11069\u001b[0m \u001b[32m━━━━━━━━━━━━━━━━━━━━\u001b[0m\u001b[37m\u001b[0m \u001b[1m7s\u001b[0m 632us/step\n"
     ]
    },
    {
     "name": "stderr",
     "output_type": "stream",
     "text": [
      "WARNING:absl:You are saving your model as an HDF5 file via `model.save()` or `keras.saving.save_model(model)`. This file format is considered legacy. We recommend using instead the native Keras format, e.g. `model.save('my_model.keras')` or `keras.saving.save_model(model, 'my_model.keras')`. \n"
     ]
    },
    {
     "name": "stdout",
     "output_type": "stream",
     "text": [
      "Model completed: vol30\n",
      "Layers: 2 Nodes: 64 Dropout: False\n",
      "ANN Val MSE: 7.209352489963782e-06 MAPE: 0.4679036599410449\n",
      "ANN Test MSE: 4.996350234964279e-06 MAPE: 0.35761280571771714\n",
      "Saving Model\n",
      "Model saved\n",
      "Execution time: 37.34130334854126\n"
     ]
    },
    {
     "name": "stderr",
     "output_type": "stream",
     "text": [
      "c:\\ProgramData\\anaconda3\\Lib\\site-packages\\keras\\src\\layers\\core\\dense.py:87: UserWarning: Do not pass an `input_shape`/`input_dim` argument to a layer. When using Sequential models, prefer using an `Input(shape)` object as the first layer in the model instead.\n",
      "  super().__init__(activity_regularizer=activity_regularizer, **kwargs)\n"
     ]
    },
    {
     "name": "stdout",
     "output_type": "stream",
     "text": [
      "\u001b[1m11069/11069\u001b[0m \u001b[32m━━━━━━━━━━━━━━━━━━━━\u001b[0m\u001b[37m\u001b[0m \u001b[1m7s\u001b[0m 668us/step\n",
      "\u001b[1m11069/11069\u001b[0m \u001b[32m━━━━━━━━━━━━━━━━━━━━\u001b[0m\u001b[37m\u001b[0m \u001b[1m7s\u001b[0m 644us/step\n"
     ]
    },
    {
     "name": "stderr",
     "output_type": "stream",
     "text": [
      "WARNING:absl:You are saving your model as an HDF5 file via `model.save()` or `keras.saving.save_model(model)`. This file format is considered legacy. We recommend using instead the native Keras format, e.g. `model.save('my_model.keras')` or `keras.saving.save_model(model, 'my_model.keras')`. \n"
     ]
    },
    {
     "name": "stdout",
     "output_type": "stream",
     "text": [
      "Model completed: vol30\n",
      "Layers: 2 Nodes: 128 Dropout: True\n",
      "ANN Val MSE: 8.4016768186478e-06 MAPE: 1.5447178521193623\n",
      "ANN Test MSE: 1.7828440374109607e-05 MAPE: 2.3093269256387203\n",
      "Saving Model\n",
      "Model saved\n",
      "Execution time: 50.72008442878723\n"
     ]
    },
    {
     "name": "stderr",
     "output_type": "stream",
     "text": [
      "c:\\ProgramData\\anaconda3\\Lib\\site-packages\\keras\\src\\layers\\core\\dense.py:87: UserWarning: Do not pass an `input_shape`/`input_dim` argument to a layer. When using Sequential models, prefer using an `Input(shape)` object as the first layer in the model instead.\n",
      "  super().__init__(activity_regularizer=activity_regularizer, **kwargs)\n"
     ]
    },
    {
     "name": "stdout",
     "output_type": "stream",
     "text": [
      "\u001b[1m11069/11069\u001b[0m \u001b[32m━━━━━━━━━━━━━━━━━━━━\u001b[0m\u001b[37m\u001b[0m \u001b[1m7s\u001b[0m 637us/step\n",
      "\u001b[1m11069/11069\u001b[0m \u001b[32m━━━━━━━━━━━━━━━━━━━━\u001b[0m\u001b[37m\u001b[0m \u001b[1m7s\u001b[0m 628us/step\n"
     ]
    },
    {
     "name": "stderr",
     "output_type": "stream",
     "text": [
      "WARNING:absl:You are saving your model as an HDF5 file via `model.save()` or `keras.saving.save_model(model)`. This file format is considered legacy. We recommend using instead the native Keras format, e.g. `model.save('my_model.keras')` or `keras.saving.save_model(model, 'my_model.keras')`. \n"
     ]
    },
    {
     "name": "stdout",
     "output_type": "stream",
     "text": [
      "Model completed: vol30\n",
      "Layers: 2 Nodes: 128 Dropout: False\n",
      "ANN Val MSE: 1.836980177249061e-05 MAPE: 0.3950782057168735\n",
      "ANN Test MSE: 3.953889481860419e-06 MAPE: 0.5565568876056887\n",
      "Saving Model\n",
      "Model saved\n",
      "Execution time: 39.97105574607849\n"
     ]
    },
    {
     "name": "stderr",
     "output_type": "stream",
     "text": [
      "c:\\ProgramData\\anaconda3\\Lib\\site-packages\\keras\\src\\layers\\core\\dense.py:87: UserWarning: Do not pass an `input_shape`/`input_dim` argument to a layer. When using Sequential models, prefer using an `Input(shape)` object as the first layer in the model instead.\n",
      "  super().__init__(activity_regularizer=activity_regularizer, **kwargs)\n"
     ]
    },
    {
     "name": "stdout",
     "output_type": "stream",
     "text": [
      "\u001b[1m11069/11069\u001b[0m \u001b[32m━━━━━━━━━━━━━━━━━━━━\u001b[0m\u001b[37m\u001b[0m \u001b[1m7s\u001b[0m 634us/step\n",
      "\u001b[1m11069/11069\u001b[0m \u001b[32m━━━━━━━━━━━━━━━━━━━━\u001b[0m\u001b[37m\u001b[0m \u001b[1m7s\u001b[0m 648us/step\n"
     ]
    },
    {
     "name": "stderr",
     "output_type": "stream",
     "text": [
      "WARNING:absl:You are saving your model as an HDF5 file via `model.save()` or `keras.saving.save_model(model)`. This file format is considered legacy. We recommend using instead the native Keras format, e.g. `model.save('my_model.keras')` or `keras.saving.save_model(model, 'my_model.keras')`. \n"
     ]
    },
    {
     "name": "stdout",
     "output_type": "stream",
     "text": [
      "Model completed: vol30\n",
      "Layers: 3 Nodes: 32 Dropout: True\n",
      "ANN Val MSE: 4.852145355146541e-05 MAPE: 1.8832200493434583\n",
      "ANN Test MSE: 5.82864986887864e-05 MAPE: 1.138307310604327\n",
      "Saving Model\n",
      "Model saved\n",
      "Execution time: 44.545307636260986\n"
     ]
    },
    {
     "name": "stderr",
     "output_type": "stream",
     "text": [
      "c:\\ProgramData\\anaconda3\\Lib\\site-packages\\keras\\src\\layers\\core\\dense.py:87: UserWarning: Do not pass an `input_shape`/`input_dim` argument to a layer. When using Sequential models, prefer using an `Input(shape)` object as the first layer in the model instead.\n",
      "  super().__init__(activity_regularizer=activity_regularizer, **kwargs)\n"
     ]
    },
    {
     "name": "stdout",
     "output_type": "stream",
     "text": [
      "\u001b[1m11069/11069\u001b[0m \u001b[32m━━━━━━━━━━━━━━━━━━━━\u001b[0m\u001b[37m\u001b[0m \u001b[1m7s\u001b[0m 642us/step\n",
      "\u001b[1m11069/11069\u001b[0m \u001b[32m━━━━━━━━━━━━━━━━━━━━\u001b[0m\u001b[37m\u001b[0m \u001b[1m8s\u001b[0m 703us/step\n"
     ]
    },
    {
     "name": "stderr",
     "output_type": "stream",
     "text": [
      "WARNING:absl:You are saving your model as an HDF5 file via `model.save()` or `keras.saving.save_model(model)`. This file format is considered legacy. We recommend using instead the native Keras format, e.g. `model.save('my_model.keras')` or `keras.saving.save_model(model, 'my_model.keras')`. \n"
     ]
    },
    {
     "name": "stdout",
     "output_type": "stream",
     "text": [
      "Model completed: vol30\n",
      "Layers: 3 Nodes: 32 Dropout: False\n",
      "ANN Val MSE: 0.0024797725505845843 MAPE: 0.9745008921824218\n",
      "ANN Test MSE: 0.0029165828069693226 MAPE: 0.9678430552423055\n",
      "Saving Model\n",
      "Model saved\n",
      "Execution time: 38.11639451980591\n"
     ]
    },
    {
     "name": "stderr",
     "output_type": "stream",
     "text": [
      "c:\\ProgramData\\anaconda3\\Lib\\site-packages\\keras\\src\\layers\\core\\dense.py:87: UserWarning: Do not pass an `input_shape`/`input_dim` argument to a layer. When using Sequential models, prefer using an `Input(shape)` object as the first layer in the model instead.\n",
      "  super().__init__(activity_regularizer=activity_regularizer, **kwargs)\n"
     ]
    },
    {
     "name": "stdout",
     "output_type": "stream",
     "text": [
      "\u001b[1m11069/11069\u001b[0m \u001b[32m━━━━━━━━━━━━━━━━━━━━\u001b[0m\u001b[37m\u001b[0m \u001b[1m7s\u001b[0m 646us/step\n",
      "\u001b[1m11069/11069\u001b[0m \u001b[32m━━━━━━━━━━━━━━━━━━━━\u001b[0m\u001b[37m\u001b[0m \u001b[1m7s\u001b[0m 638us/step\n"
     ]
    },
    {
     "name": "stderr",
     "output_type": "stream",
     "text": [
      "WARNING:absl:You are saving your model as an HDF5 file via `model.save()` or `keras.saving.save_model(model)`. This file format is considered legacy. We recommend using instead the native Keras format, e.g. `model.save('my_model.keras')` or `keras.saving.save_model(model, 'my_model.keras')`. \n"
     ]
    },
    {
     "name": "stdout",
     "output_type": "stream",
     "text": [
      "Model completed: vol30\n",
      "Layers: 3 Nodes: 64 Dropout: True\n",
      "ANN Val MSE: 1.8418908324480313e-05 MAPE: 2.776557534039835\n",
      "ANN Test MSE: 9.9729693782315e-06 MAPE: 3.6346719221803805\n",
      "Saving Model\n",
      "Model saved\n",
      "Execution time: 51.32232117652893\n"
     ]
    },
    {
     "name": "stderr",
     "output_type": "stream",
     "text": [
      "c:\\ProgramData\\anaconda3\\Lib\\site-packages\\keras\\src\\layers\\core\\dense.py:87: UserWarning: Do not pass an `input_shape`/`input_dim` argument to a layer. When using Sequential models, prefer using an `Input(shape)` object as the first layer in the model instead.\n",
      "  super().__init__(activity_regularizer=activity_regularizer, **kwargs)\n"
     ]
    },
    {
     "name": "stdout",
     "output_type": "stream",
     "text": [
      "\u001b[1m11069/11069\u001b[0m \u001b[32m━━━━━━━━━━━━━━━━━━━━\u001b[0m\u001b[37m\u001b[0m \u001b[1m7s\u001b[0m 650us/step\n",
      "\u001b[1m11069/11069\u001b[0m \u001b[32m━━━━━━━━━━━━━━━━━━━━\u001b[0m\u001b[37m\u001b[0m \u001b[1m7s\u001b[0m 645us/step\n"
     ]
    },
    {
     "name": "stderr",
     "output_type": "stream",
     "text": [
      "WARNING:absl:You are saving your model as an HDF5 file via `model.save()` or `keras.saving.save_model(model)`. This file format is considered legacy. We recommend using instead the native Keras format, e.g. `model.save('my_model.keras')` or `keras.saving.save_model(model, 'my_model.keras')`. \n"
     ]
    },
    {
     "name": "stdout",
     "output_type": "stream",
     "text": [
      "Model completed: vol30\n",
      "Layers: 3 Nodes: 64 Dropout: False\n",
      "ANN Val MSE: 1.2355953648904041e-05 MAPE: 0.5520181146181883\n",
      "ANN Test MSE: 6.778077274228158e-06 MAPE: 0.4228173634930699\n",
      "Saving Model\n",
      "Model saved\n",
      "Execution time: 40.41696095466614\n"
     ]
    },
    {
     "name": "stderr",
     "output_type": "stream",
     "text": [
      "c:\\ProgramData\\anaconda3\\Lib\\site-packages\\keras\\src\\layers\\core\\dense.py:87: UserWarning: Do not pass an `input_shape`/`input_dim` argument to a layer. When using Sequential models, prefer using an `Input(shape)` object as the first layer in the model instead.\n",
      "  super().__init__(activity_regularizer=activity_regularizer, **kwargs)\n"
     ]
    },
    {
     "name": "stdout",
     "output_type": "stream",
     "text": [
      "\u001b[1m11069/11069\u001b[0m \u001b[32m━━━━━━━━━━━━━━━━━━━━\u001b[0m\u001b[37m\u001b[0m \u001b[1m8s\u001b[0m 677us/step\n",
      "\u001b[1m11069/11069\u001b[0m \u001b[32m━━━━━━━━━━━━━━━━━━━━\u001b[0m\u001b[37m\u001b[0m \u001b[1m7s\u001b[0m 672us/step\n"
     ]
    },
    {
     "name": "stderr",
     "output_type": "stream",
     "text": [
      "WARNING:absl:You are saving your model as an HDF5 file via `model.save()` or `keras.saving.save_model(model)`. This file format is considered legacy. We recommend using instead the native Keras format, e.g. `model.save('my_model.keras')` or `keras.saving.save_model(model, 'my_model.keras')`. \n"
     ]
    },
    {
     "name": "stdout",
     "output_type": "stream",
     "text": [
      "Model completed: vol30\n",
      "Layers: 3 Nodes: 128 Dropout: True\n",
      "ANN Val MSE: 1.4824054523438238e-05 MAPE: 3.2064378437714476\n",
      "ANN Test MSE: 2.101692089332911e-05 MAPE: 3.5721237294609156\n",
      "Saving Model\n",
      "Model saved\n",
      "Execution time: 61.47506499290466\n"
     ]
    },
    {
     "name": "stderr",
     "output_type": "stream",
     "text": [
      "c:\\ProgramData\\anaconda3\\Lib\\site-packages\\keras\\src\\layers\\core\\dense.py:87: UserWarning: Do not pass an `input_shape`/`input_dim` argument to a layer. When using Sequential models, prefer using an `Input(shape)` object as the first layer in the model instead.\n",
      "  super().__init__(activity_regularizer=activity_regularizer, **kwargs)\n"
     ]
    },
    {
     "name": "stdout",
     "output_type": "stream",
     "text": [
      "\u001b[1m11069/11069\u001b[0m \u001b[32m━━━━━━━━━━━━━━━━━━━━\u001b[0m\u001b[37m\u001b[0m \u001b[1m7s\u001b[0m 652us/step\n",
      "\u001b[1m11069/11069\u001b[0m \u001b[32m━━━━━━━━━━━━━━━━━━━━\u001b[0m\u001b[37m\u001b[0m \u001b[1m8s\u001b[0m 715us/step\n"
     ]
    },
    {
     "name": "stderr",
     "output_type": "stream",
     "text": [
      "WARNING:absl:You are saving your model as an HDF5 file via `model.save()` or `keras.saving.save_model(model)`. This file format is considered legacy. We recommend using instead the native Keras format, e.g. `model.save('my_model.keras')` or `keras.saving.save_model(model, 'my_model.keras')`. \n"
     ]
    },
    {
     "name": "stdout",
     "output_type": "stream",
     "text": [
      "Model completed: vol30\n",
      "Layers: 3 Nodes: 128 Dropout: False\n",
      "ANN Val MSE: 1.8681051673835017e-05 MAPE: 0.5030795523347716\n",
      "ANN Test MSE: 4.975295636120787e-06 MAPE: 0.48495608680211727\n",
      "Saving Model\n",
      "Model saved\n",
      "Execution time: 46.19631004333496\n"
     ]
    },
    {
     "name": "stderr",
     "output_type": "stream",
     "text": [
      "c:\\ProgramData\\anaconda3\\Lib\\site-packages\\keras\\src\\layers\\core\\dense.py:87: UserWarning: Do not pass an `input_shape`/`input_dim` argument to a layer. When using Sequential models, prefer using an `Input(shape)` object as the first layer in the model instead.\n",
      "  super().__init__(activity_regularizer=activity_regularizer, **kwargs)\n"
     ]
    },
    {
     "name": "stdout",
     "output_type": "stream",
     "text": [
      "\u001b[1m11069/11069\u001b[0m \u001b[32m━━━━━━━━━━━━━━━━━━━━\u001b[0m\u001b[37m\u001b[0m \u001b[1m7s\u001b[0m 595us/step\n",
      "\u001b[1m11069/11069\u001b[0m \u001b[32m━━━━━━━━━━━━━━━━━━━━\u001b[0m\u001b[37m\u001b[0m \u001b[1m7s\u001b[0m 664us/step\n"
     ]
    },
    {
     "name": "stderr",
     "output_type": "stream",
     "text": [
      "WARNING:absl:You are saving your model as an HDF5 file via `model.save()` or `keras.saving.save_model(model)`. This file format is considered legacy. We recommend using instead the native Keras format, e.g. `model.save('my_model.keras')` or `keras.saving.save_model(model, 'my_model.keras')`. \n"
     ]
    },
    {
     "name": "stdout",
     "output_type": "stream",
     "text": [
      "Model completed: vol60\n",
      "Layers: 1 Nodes: 32 Dropout: True\n",
      "ANN Val MSE: 1.5606993208433608e-05 MAPE: 0.41314238994373076\n",
      "ANN Test MSE: 1.0321759490078563e-05 MAPE: 0.392333136503327\n",
      "Saving Model\n",
      "Model saved\n",
      "Execution time: 35.74294137954712\n"
     ]
    },
    {
     "name": "stderr",
     "output_type": "stream",
     "text": [
      "c:\\ProgramData\\anaconda3\\Lib\\site-packages\\keras\\src\\layers\\core\\dense.py:87: UserWarning: Do not pass an `input_shape`/`input_dim` argument to a layer. When using Sequential models, prefer using an `Input(shape)` object as the first layer in the model instead.\n",
      "  super().__init__(activity_regularizer=activity_regularizer, **kwargs)\n"
     ]
    },
    {
     "name": "stdout",
     "output_type": "stream",
     "text": [
      "\u001b[1m11069/11069\u001b[0m \u001b[32m━━━━━━━━━━━━━━━━━━━━\u001b[0m\u001b[37m\u001b[0m \u001b[1m7s\u001b[0m 615us/step\n",
      "\u001b[1m11069/11069\u001b[0m \u001b[32m━━━━━━━━━━━━━━━━━━━━\u001b[0m\u001b[37m\u001b[0m \u001b[1m7s\u001b[0m 615us/step\n"
     ]
    },
    {
     "name": "stderr",
     "output_type": "stream",
     "text": [
      "WARNING:absl:You are saving your model as an HDF5 file via `model.save()` or `keras.saving.save_model(model)`. This file format is considered legacy. We recommend using instead the native Keras format, e.g. `model.save('my_model.keras')` or `keras.saving.save_model(model, 'my_model.keras')`. \n"
     ]
    },
    {
     "name": "stdout",
     "output_type": "stream",
     "text": [
      "Model completed: vol60\n",
      "Layers: 1 Nodes: 32 Dropout: False\n",
      "ANN Val MSE: 8.403477896467749e-06 MAPE: 0.4096078837924297\n",
      "ANN Test MSE: 4.765195877349603e-06 MAPE: 0.35738574701346154\n",
      "Saving Model\n",
      "Model saved\n",
      "Execution time: 33.77243661880493\n"
     ]
    },
    {
     "name": "stderr",
     "output_type": "stream",
     "text": [
      "c:\\ProgramData\\anaconda3\\Lib\\site-packages\\keras\\src\\layers\\core\\dense.py:87: UserWarning: Do not pass an `input_shape`/`input_dim` argument to a layer. When using Sequential models, prefer using an `Input(shape)` object as the first layer in the model instead.\n",
      "  super().__init__(activity_regularizer=activity_regularizer, **kwargs)\n"
     ]
    },
    {
     "name": "stdout",
     "output_type": "stream",
     "text": [
      "\u001b[1m11069/11069\u001b[0m \u001b[32m━━━━━━━━━━━━━━━━━━━━\u001b[0m\u001b[37m\u001b[0m \u001b[1m7s\u001b[0m 623us/step\n",
      "\u001b[1m11069/11069\u001b[0m \u001b[32m━━━━━━━━━━━━━━━━━━━━\u001b[0m\u001b[37m\u001b[0m \u001b[1m7s\u001b[0m 595us/step\n"
     ]
    },
    {
     "name": "stderr",
     "output_type": "stream",
     "text": [
      "WARNING:absl:You are saving your model as an HDF5 file via `model.save()` or `keras.saving.save_model(model)`. This file format is considered legacy. We recommend using instead the native Keras format, e.g. `model.save('my_model.keras')` or `keras.saving.save_model(model, 'my_model.keras')`. \n"
     ]
    },
    {
     "name": "stdout",
     "output_type": "stream",
     "text": [
      "Model completed: vol60\n",
      "Layers: 1 Nodes: 64 Dropout: True\n",
      "ANN Val MSE: 1.0073223352649101e-05 MAPE: 0.3580847114333736\n",
      "ANN Test MSE: 6.105921316086185e-06 MAPE: 0.357034384424577\n",
      "Saving Model\n",
      "Model saved\n",
      "Execution time: 37.420104026794434\n"
     ]
    },
    {
     "name": "stderr",
     "output_type": "stream",
     "text": [
      "c:\\ProgramData\\anaconda3\\Lib\\site-packages\\keras\\src\\layers\\core\\dense.py:87: UserWarning: Do not pass an `input_shape`/`input_dim` argument to a layer. When using Sequential models, prefer using an `Input(shape)` object as the first layer in the model instead.\n",
      "  super().__init__(activity_regularizer=activity_regularizer, **kwargs)\n"
     ]
    },
    {
     "name": "stdout",
     "output_type": "stream",
     "text": [
      "\u001b[1m11069/11069\u001b[0m \u001b[32m━━━━━━━━━━━━━━━━━━━━\u001b[0m\u001b[37m\u001b[0m \u001b[1m7s\u001b[0m 619us/step\n",
      "\u001b[1m11069/11069\u001b[0m \u001b[32m━━━━━━━━━━━━━━━━━━━━\u001b[0m\u001b[37m\u001b[0m \u001b[1m7s\u001b[0m 669us/step\n"
     ]
    },
    {
     "name": "stderr",
     "output_type": "stream",
     "text": [
      "WARNING:absl:You are saving your model as an HDF5 file via `model.save()` or `keras.saving.save_model(model)`. This file format is considered legacy. We recommend using instead the native Keras format, e.g. `model.save('my_model.keras')` or `keras.saving.save_model(model, 'my_model.keras')`. \n"
     ]
    },
    {
     "name": "stdout",
     "output_type": "stream",
     "text": [
      "Model completed: vol60\n",
      "Layers: 1 Nodes: 64 Dropout: False\n",
      "ANN Val MSE: 6.6966199372631e-06 MAPE: 0.3570513583597271\n",
      "ANN Test MSE: 3.7255683420649493e-06 MAPE: 0.3115648078671703\n",
      "Saving Model\n",
      "Model saved\n",
      "Execution time: 34.55245566368103\n"
     ]
    },
    {
     "name": "stderr",
     "output_type": "stream",
     "text": [
      "c:\\ProgramData\\anaconda3\\Lib\\site-packages\\keras\\src\\layers\\core\\dense.py:87: UserWarning: Do not pass an `input_shape`/`input_dim` argument to a layer. When using Sequential models, prefer using an `Input(shape)` object as the first layer in the model instead.\n",
      "  super().__init__(activity_regularizer=activity_regularizer, **kwargs)\n"
     ]
    },
    {
     "name": "stdout",
     "output_type": "stream",
     "text": [
      "\u001b[1m11069/11069\u001b[0m \u001b[32m━━━━━━━━━━━━━━━━━━━━\u001b[0m\u001b[37m\u001b[0m \u001b[1m7s\u001b[0m 629us/step\n",
      "\u001b[1m11069/11069\u001b[0m \u001b[32m━━━━━━━━━━━━━━━━━━━━\u001b[0m\u001b[37m\u001b[0m \u001b[1m7s\u001b[0m 660us/step\n"
     ]
    },
    {
     "name": "stderr",
     "output_type": "stream",
     "text": [
      "WARNING:absl:You are saving your model as an HDF5 file via `model.save()` or `keras.saving.save_model(model)`. This file format is considered legacy. We recommend using instead the native Keras format, e.g. `model.save('my_model.keras')` or `keras.saving.save_model(model, 'my_model.keras')`. \n"
     ]
    },
    {
     "name": "stdout",
     "output_type": "stream",
     "text": [
      "Model completed: vol60\n",
      "Layers: 1 Nodes: 128 Dropout: True\n",
      "ANN Val MSE: 7.77298320643024e-06 MAPE: 0.3882205624521684\n",
      "ANN Test MSE: 5.484744110815415e-06 MAPE: 0.3345467823025038\n",
      "Saving Model\n",
      "Model saved\n",
      "Execution time: 41.590476989746094\n"
     ]
    },
    {
     "name": "stderr",
     "output_type": "stream",
     "text": [
      "c:\\ProgramData\\anaconda3\\Lib\\site-packages\\keras\\src\\layers\\core\\dense.py:87: UserWarning: Do not pass an `input_shape`/`input_dim` argument to a layer. When using Sequential models, prefer using an `Input(shape)` object as the first layer in the model instead.\n",
      "  super().__init__(activity_regularizer=activity_regularizer, **kwargs)\n"
     ]
    },
    {
     "name": "stdout",
     "output_type": "stream",
     "text": [
      "\u001b[1m11069/11069\u001b[0m \u001b[32m━━━━━━━━━━━━━━━━━━━━\u001b[0m\u001b[37m\u001b[0m \u001b[1m7s\u001b[0m 642us/step\n",
      "\u001b[1m11069/11069\u001b[0m \u001b[32m━━━━━━━━━━━━━━━━━━━━\u001b[0m\u001b[37m\u001b[0m \u001b[1m7s\u001b[0m 618us/step\n"
     ]
    },
    {
     "name": "stderr",
     "output_type": "stream",
     "text": [
      "WARNING:absl:You are saving your model as an HDF5 file via `model.save()` or `keras.saving.save_model(model)`. This file format is considered legacy. We recommend using instead the native Keras format, e.g. `model.save('my_model.keras')` or `keras.saving.save_model(model, 'my_model.keras')`. \n"
     ]
    },
    {
     "name": "stdout",
     "output_type": "stream",
     "text": [
      "Model completed: vol60\n",
      "Layers: 1 Nodes: 128 Dropout: False\n",
      "ANN Val MSE: 4.9365441272192305e-06 MAPE: 0.31999047178036977\n",
      "ANN Test MSE: 3.4575011288784966e-06 MAPE: 0.27069761754356575\n",
      "Saving Model\n",
      "Model saved\n",
      "Execution time: 35.383686780929565\n"
     ]
    },
    {
     "name": "stderr",
     "output_type": "stream",
     "text": [
      "c:\\ProgramData\\anaconda3\\Lib\\site-packages\\keras\\src\\layers\\core\\dense.py:87: UserWarning: Do not pass an `input_shape`/`input_dim` argument to a layer. When using Sequential models, prefer using an `Input(shape)` object as the first layer in the model instead.\n",
      "  super().__init__(activity_regularizer=activity_regularizer, **kwargs)\n"
     ]
    },
    {
     "name": "stdout",
     "output_type": "stream",
     "text": [
      "\u001b[1m11069/11069\u001b[0m \u001b[32m━━━━━━━━━━━━━━━━━━━━\u001b[0m\u001b[37m\u001b[0m \u001b[1m8s\u001b[0m 679us/step\n",
      "\u001b[1m11069/11069\u001b[0m \u001b[32m━━━━━━━━━━━━━━━━━━━━\u001b[0m\u001b[37m\u001b[0m \u001b[1m7s\u001b[0m 641us/step\n"
     ]
    },
    {
     "name": "stderr",
     "output_type": "stream",
     "text": [
      "WARNING:absl:You are saving your model as an HDF5 file via `model.save()` or `keras.saving.save_model(model)`. This file format is considered legacy. We recommend using instead the native Keras format, e.g. `model.save('my_model.keras')` or `keras.saving.save_model(model, 'my_model.keras')`. \n"
     ]
    },
    {
     "name": "stdout",
     "output_type": "stream",
     "text": [
      "Model completed: vol60\n",
      "Layers: 2 Nodes: 32 Dropout: True\n",
      "ANN Val MSE: 2.0109418671714034e-05 MAPE: 0.8098261701578625\n",
      "ANN Test MSE: 1.3756646694869239e-05 MAPE: 0.3865316585964987\n",
      "Saving Model\n",
      "Model saved\n",
      "Execution time: 41.21065664291382\n"
     ]
    },
    {
     "name": "stderr",
     "output_type": "stream",
     "text": [
      "c:\\ProgramData\\anaconda3\\Lib\\site-packages\\keras\\src\\layers\\core\\dense.py:87: UserWarning: Do not pass an `input_shape`/`input_dim` argument to a layer. When using Sequential models, prefer using an `Input(shape)` object as the first layer in the model instead.\n",
      "  super().__init__(activity_regularizer=activity_regularizer, **kwargs)\n"
     ]
    },
    {
     "name": "stdout",
     "output_type": "stream",
     "text": [
      "\u001b[1m11069/11069\u001b[0m \u001b[32m━━━━━━━━━━━━━━━━━━━━\u001b[0m\u001b[37m\u001b[0m \u001b[1m7s\u001b[0m 656us/step\n",
      "\u001b[1m11069/11069\u001b[0m \u001b[32m━━━━━━━━━━━━━━━━━━━━\u001b[0m\u001b[37m\u001b[0m \u001b[1m8s\u001b[0m 682us/step\n"
     ]
    },
    {
     "name": "stderr",
     "output_type": "stream",
     "text": [
      "WARNING:absl:You are saving your model as an HDF5 file via `model.save()` or `keras.saving.save_model(model)`. This file format is considered legacy. We recommend using instead the native Keras format, e.g. `model.save('my_model.keras')` or `keras.saving.save_model(model, 'my_model.keras')`. \n"
     ]
    },
    {
     "name": "stdout",
     "output_type": "stream",
     "text": [
      "Model completed: vol60\n",
      "Layers: 2 Nodes: 32 Dropout: False\n",
      "ANN Val MSE: 0.0024797725505845843 MAPE: 0.9745008921824218\n",
      "ANN Test MSE: 0.0029165828069693226 MAPE: 0.9678430552423055\n",
      "Saving Model\n",
      "Model saved\n",
      "Execution time: 36.38428735733032\n"
     ]
    },
    {
     "name": "stderr",
     "output_type": "stream",
     "text": [
      "c:\\ProgramData\\anaconda3\\Lib\\site-packages\\keras\\src\\layers\\core\\dense.py:87: UserWarning: Do not pass an `input_shape`/`input_dim` argument to a layer. When using Sequential models, prefer using an `Input(shape)` object as the first layer in the model instead.\n",
      "  super().__init__(activity_regularizer=activity_regularizer, **kwargs)\n"
     ]
    },
    {
     "name": "stdout",
     "output_type": "stream",
     "text": [
      "\u001b[1m11069/11069\u001b[0m \u001b[32m━━━━━━━━━━━━━━━━━━━━\u001b[0m\u001b[37m\u001b[0m \u001b[1m7s\u001b[0m 630us/step\n",
      "\u001b[1m11069/11069\u001b[0m \u001b[32m━━━━━━━━━━━━━━━━━━━━\u001b[0m\u001b[37m\u001b[0m \u001b[1m7s\u001b[0m 647us/step\n"
     ]
    },
    {
     "name": "stderr",
     "output_type": "stream",
     "text": [
      "WARNING:absl:You are saving your model as an HDF5 file via `model.save()` or `keras.saving.save_model(model)`. This file format is considered legacy. We recommend using instead the native Keras format, e.g. `model.save('my_model.keras')` or `keras.saving.save_model(model, 'my_model.keras')`. \n"
     ]
    },
    {
     "name": "stdout",
     "output_type": "stream",
     "text": [
      "Model completed: vol60\n",
      "Layers: 2 Nodes: 64 Dropout: True\n",
      "ANN Val MSE: 1.555310717705504e-05 MAPE: 1.0451286239491686\n",
      "ANN Test MSE: 6.150939633694155e-06 MAPE: 0.5503647077329487\n",
      "Saving Model\n",
      "Model saved\n",
      "Execution time: 45.90780854225159\n"
     ]
    },
    {
     "name": "stderr",
     "output_type": "stream",
     "text": [
      "c:\\ProgramData\\anaconda3\\Lib\\site-packages\\keras\\src\\layers\\core\\dense.py:87: UserWarning: Do not pass an `input_shape`/`input_dim` argument to a layer. When using Sequential models, prefer using an `Input(shape)` object as the first layer in the model instead.\n",
      "  super().__init__(activity_regularizer=activity_regularizer, **kwargs)\n"
     ]
    },
    {
     "name": "stdout",
     "output_type": "stream",
     "text": [
      "\u001b[1m11069/11069\u001b[0m \u001b[32m━━━━━━━━━━━━━━━━━━━━\u001b[0m\u001b[37m\u001b[0m \u001b[1m8s\u001b[0m 684us/step\n",
      "\u001b[1m11069/11069\u001b[0m \u001b[32m━━━━━━━━━━━━━━━━━━━━\u001b[0m\u001b[37m\u001b[0m \u001b[1m7s\u001b[0m 647us/step\n"
     ]
    },
    {
     "name": "stderr",
     "output_type": "stream",
     "text": [
      "WARNING:absl:You are saving your model as an HDF5 file via `model.save()` or `keras.saving.save_model(model)`. This file format is considered legacy. We recommend using instead the native Keras format, e.g. `model.save('my_model.keras')` or `keras.saving.save_model(model, 'my_model.keras')`. \n"
     ]
    },
    {
     "name": "stdout",
     "output_type": "stream",
     "text": [
      "Model completed: vol60\n",
      "Layers: 2 Nodes: 64 Dropout: False\n",
      "ANN Val MSE: 1.7769406775259827e-05 MAPE: 0.41013530509312185\n",
      "ANN Test MSE: 3.8038350977520675e-06 MAPE: 0.4121466318762069\n",
      "Saving Model\n",
      "Model saved\n",
      "Execution time: 38.7236225605011\n"
     ]
    },
    {
     "name": "stderr",
     "output_type": "stream",
     "text": [
      "c:\\ProgramData\\anaconda3\\Lib\\site-packages\\keras\\src\\layers\\core\\dense.py:87: UserWarning: Do not pass an `input_shape`/`input_dim` argument to a layer. When using Sequential models, prefer using an `Input(shape)` object as the first layer in the model instead.\n",
      "  super().__init__(activity_regularizer=activity_regularizer, **kwargs)\n"
     ]
    },
    {
     "name": "stdout",
     "output_type": "stream",
     "text": [
      "\u001b[1m11069/11069\u001b[0m \u001b[32m━━━━━━━━━━━━━━━━━━━━\u001b[0m\u001b[37m\u001b[0m \u001b[1m7s\u001b[0m 662us/step\n",
      "\u001b[1m11069/11069\u001b[0m \u001b[32m━━━━━━━━━━━━━━━━━━━━\u001b[0m\u001b[37m\u001b[0m \u001b[1m7s\u001b[0m 649us/step\n"
     ]
    },
    {
     "name": "stderr",
     "output_type": "stream",
     "text": [
      "WARNING:absl:You are saving your model as an HDF5 file via `model.save()` or `keras.saving.save_model(model)`. This file format is considered legacy. We recommend using instead the native Keras format, e.g. `model.save('my_model.keras')` or `keras.saving.save_model(model, 'my_model.keras')`. \n"
     ]
    },
    {
     "name": "stdout",
     "output_type": "stream",
     "text": [
      "Model completed: vol60\n",
      "Layers: 2 Nodes: 128 Dropout: True\n",
      "ANN Val MSE: 1.2360329978486708e-05 MAPE: 1.2725869852445724\n",
      "ANN Test MSE: 6.397465627094646e-06 MAPE: 0.8540715670458756\n",
      "Saving Model\n",
      "Model saved\n",
      "Execution time: 52.65353560447693\n"
     ]
    },
    {
     "name": "stderr",
     "output_type": "stream",
     "text": [
      "c:\\ProgramData\\anaconda3\\Lib\\site-packages\\keras\\src\\layers\\core\\dense.py:87: UserWarning: Do not pass an `input_shape`/`input_dim` argument to a layer. When using Sequential models, prefer using an `Input(shape)` object as the first layer in the model instead.\n",
      "  super().__init__(activity_regularizer=activity_regularizer, **kwargs)\n"
     ]
    },
    {
     "name": "stdout",
     "output_type": "stream",
     "text": [
      "\u001b[1m11069/11069\u001b[0m \u001b[32m━━━━━━━━━━━━━━━━━━━━\u001b[0m\u001b[37m\u001b[0m \u001b[1m7s\u001b[0m 654us/step\n",
      "\u001b[1m11069/11069\u001b[0m \u001b[32m━━━━━━━━━━━━━━━━━━━━\u001b[0m\u001b[37m\u001b[0m \u001b[1m8s\u001b[0m 699us/step\n"
     ]
    },
    {
     "name": "stderr",
     "output_type": "stream",
     "text": [
      "WARNING:absl:You are saving your model as an HDF5 file via `model.save()` or `keras.saving.save_model(model)`. This file format is considered legacy. We recommend using instead the native Keras format, e.g. `model.save('my_model.keras')` or `keras.saving.save_model(model, 'my_model.keras')`. \n"
     ]
    },
    {
     "name": "stdout",
     "output_type": "stream",
     "text": [
      "Model completed: vol60\n",
      "Layers: 2 Nodes: 128 Dropout: False\n",
      "ANN Val MSE: 7.288694469258477e-06 MAPE: 0.6127097834376819\n",
      "ANN Test MSE: 3.9733805344029165e-06 MAPE: 0.5653854831627065\n",
      "Saving Model\n",
      "Model saved\n",
      "Execution time: 41.80939841270447\n"
     ]
    },
    {
     "name": "stderr",
     "output_type": "stream",
     "text": [
      "c:\\ProgramData\\anaconda3\\Lib\\site-packages\\keras\\src\\layers\\core\\dense.py:87: UserWarning: Do not pass an `input_shape`/`input_dim` argument to a layer. When using Sequential models, prefer using an `Input(shape)` object as the first layer in the model instead.\n",
      "  super().__init__(activity_regularizer=activity_regularizer, **kwargs)\n"
     ]
    },
    {
     "name": "stdout",
     "output_type": "stream",
     "text": [
      "\u001b[1m11069/11069\u001b[0m \u001b[32m━━━━━━━━━━━━━━━━━━━━\u001b[0m\u001b[37m\u001b[0m \u001b[1m7s\u001b[0m 648us/step\n",
      "\u001b[1m11069/11069\u001b[0m \u001b[32m━━━━━━━━━━━━━━━━━━━━\u001b[0m\u001b[37m\u001b[0m \u001b[1m8s\u001b[0m 676us/step\n"
     ]
    },
    {
     "name": "stderr",
     "output_type": "stream",
     "text": [
      "WARNING:absl:You are saving your model as an HDF5 file via `model.save()` or `keras.saving.save_model(model)`. This file format is considered legacy. We recommend using instead the native Keras format, e.g. `model.save('my_model.keras')` or `keras.saving.save_model(model, 'my_model.keras')`. \n"
     ]
    },
    {
     "name": "stdout",
     "output_type": "stream",
     "text": [
      "Model completed: vol60\n",
      "Layers: 3 Nodes: 32 Dropout: True\n",
      "ANN Val MSE: 2.7950233117747093e-05 MAPE: 4.048740945879709\n",
      "ANN Test MSE: 1.6013316602209273e-05 MAPE: 0.4692392511791739\n",
      "Saving Model\n",
      "Model saved\n",
      "Execution time: 46.27849221229553\n"
     ]
    },
    {
     "name": "stderr",
     "output_type": "stream",
     "text": [
      "c:\\ProgramData\\anaconda3\\Lib\\site-packages\\keras\\src\\layers\\core\\dense.py:87: UserWarning: Do not pass an `input_shape`/`input_dim` argument to a layer. When using Sequential models, prefer using an `Input(shape)` object as the first layer in the model instead.\n",
      "  super().__init__(activity_regularizer=activity_regularizer, **kwargs)\n"
     ]
    },
    {
     "name": "stdout",
     "output_type": "stream",
     "text": [
      "\u001b[1m11069/11069\u001b[0m \u001b[32m━━━━━━━━━━━━━━━━━━━━\u001b[0m\u001b[37m\u001b[0m \u001b[1m7s\u001b[0m 663us/step\n",
      "\u001b[1m11069/11069\u001b[0m \u001b[32m━━━━━━━━━━━━━━━━━━━━\u001b[0m\u001b[37m\u001b[0m \u001b[1m7s\u001b[0m 664us/step\n"
     ]
    },
    {
     "name": "stderr",
     "output_type": "stream",
     "text": [
      "WARNING:absl:You are saving your model as an HDF5 file via `model.save()` or `keras.saving.save_model(model)`. This file format is considered legacy. We recommend using instead the native Keras format, e.g. `model.save('my_model.keras')` or `keras.saving.save_model(model, 'my_model.keras')`. \n"
     ]
    },
    {
     "name": "stdout",
     "output_type": "stream",
     "text": [
      "Model completed: vol60\n",
      "Layers: 3 Nodes: 32 Dropout: False\n",
      "ANN Val MSE: 9.176743412193343e-06 MAPE: 0.9615638600622034\n",
      "ANN Test MSE: 4.4693060186495414e-06 MAPE: 0.8320716039352498\n",
      "Saving Model\n",
      "Model saved\n",
      "Execution time: 38.64985013008118\n"
     ]
    },
    {
     "name": "stderr",
     "output_type": "stream",
     "text": [
      "c:\\ProgramData\\anaconda3\\Lib\\site-packages\\keras\\src\\layers\\core\\dense.py:87: UserWarning: Do not pass an `input_shape`/`input_dim` argument to a layer. When using Sequential models, prefer using an `Input(shape)` object as the first layer in the model instead.\n",
      "  super().__init__(activity_regularizer=activity_regularizer, **kwargs)\n"
     ]
    },
    {
     "name": "stdout",
     "output_type": "stream",
     "text": [
      "\u001b[1m11069/11069\u001b[0m \u001b[32m━━━━━━━━━━━━━━━━━━━━\u001b[0m\u001b[37m\u001b[0m \u001b[1m7s\u001b[0m 666us/step\n",
      "\u001b[1m11069/11069\u001b[0m \u001b[32m━━━━━━━━━━━━━━━━━━━━\u001b[0m\u001b[37m\u001b[0m \u001b[1m7s\u001b[0m 663us/step\n"
     ]
    },
    {
     "name": "stderr",
     "output_type": "stream",
     "text": [
      "WARNING:absl:You are saving your model as an HDF5 file via `model.save()` or `keras.saving.save_model(model)`. This file format is considered legacy. We recommend using instead the native Keras format, e.g. `model.save('my_model.keras')` or `keras.saving.save_model(model, 'my_model.keras')`. \n"
     ]
    },
    {
     "name": "stdout",
     "output_type": "stream",
     "text": [
      "Model completed: vol60\n",
      "Layers: 3 Nodes: 64 Dropout: True\n",
      "ANN Val MSE: 2.1115067924441367e-05 MAPE: 4.682560678071114\n",
      "ANN Test MSE: 1.1156765733441345e-05 MAPE: 0.6740413189109585\n",
      "Saving Model\n",
      "Model saved\n",
      "Execution time: 53.92861866950989\n"
     ]
    },
    {
     "name": "stderr",
     "output_type": "stream",
     "text": [
      "c:\\ProgramData\\anaconda3\\Lib\\site-packages\\keras\\src\\layers\\core\\dense.py:87: UserWarning: Do not pass an `input_shape`/`input_dim` argument to a layer. When using Sequential models, prefer using an `Input(shape)` object as the first layer in the model instead.\n",
      "  super().__init__(activity_regularizer=activity_regularizer, **kwargs)\n"
     ]
    },
    {
     "name": "stdout",
     "output_type": "stream",
     "text": [
      "\u001b[1m11069/11069\u001b[0m \u001b[32m━━━━━━━━━━━━━━━━━━━━\u001b[0m\u001b[37m\u001b[0m \u001b[1m7s\u001b[0m 672us/step\n",
      "\u001b[1m11069/11069\u001b[0m \u001b[32m━━━━━━━━━━━━━━━━━━━━\u001b[0m\u001b[37m\u001b[0m \u001b[1m8s\u001b[0m 703us/step\n"
     ]
    },
    {
     "name": "stderr",
     "output_type": "stream",
     "text": [
      "WARNING:absl:You are saving your model as an HDF5 file via `model.save()` or `keras.saving.save_model(model)`. This file format is considered legacy. We recommend using instead the native Keras format, e.g. `model.save('my_model.keras')` or `keras.saving.save_model(model, 'my_model.keras')`. \n"
     ]
    },
    {
     "name": "stdout",
     "output_type": "stream",
     "text": [
      "Model completed: vol60\n",
      "Layers: 3 Nodes: 64 Dropout: False\n",
      "ANN Val MSE: 0.001717634787930611 MAPE: 41.27115298998022\n",
      "ANN Test MSE: 0.002124976411932744 MAPE: 50.939800043025016\n",
      "Saving Model\n",
      "Model saved\n",
      "Execution time: 42.36432909965515\n"
     ]
    },
    {
     "name": "stderr",
     "output_type": "stream",
     "text": [
      "c:\\ProgramData\\anaconda3\\Lib\\site-packages\\keras\\src\\layers\\core\\dense.py:87: UserWarning: Do not pass an `input_shape`/`input_dim` argument to a layer. When using Sequential models, prefer using an `Input(shape)` object as the first layer in the model instead.\n",
      "  super().__init__(activity_regularizer=activity_regularizer, **kwargs)\n"
     ]
    },
    {
     "name": "stdout",
     "output_type": "stream",
     "text": [
      "\u001b[1m11069/11069\u001b[0m \u001b[32m━━━━━━━━━━━━━━━━━━━━\u001b[0m\u001b[37m\u001b[0m \u001b[1m8s\u001b[0m 690us/step\n",
      "\u001b[1m11069/11069\u001b[0m \u001b[32m━━━━━━━━━━━━━━━━━━━━\u001b[0m\u001b[37m\u001b[0m \u001b[1m8s\u001b[0m 700us/step\n"
     ]
    },
    {
     "name": "stderr",
     "output_type": "stream",
     "text": [
      "WARNING:absl:You are saving your model as an HDF5 file via `model.save()` or `keras.saving.save_model(model)`. This file format is considered legacy. We recommend using instead the native Keras format, e.g. `model.save('my_model.keras')` or `keras.saving.save_model(model, 'my_model.keras')`. \n"
     ]
    },
    {
     "name": "stdout",
     "output_type": "stream",
     "text": [
      "Model completed: vol60\n",
      "Layers: 3 Nodes: 128 Dropout: True\n",
      "ANN Val MSE: 2.995847313031828e-05 MAPE: 3.0468506306874716\n",
      "ANN Test MSE: 9.443030578916451e-06 MAPE: 3.1030680611042407\n",
      "Saving Model\n",
      "Model saved\n",
      "Execution time: 63.74980139732361\n"
     ]
    },
    {
     "name": "stderr",
     "output_type": "stream",
     "text": [
      "c:\\ProgramData\\anaconda3\\Lib\\site-packages\\keras\\src\\layers\\core\\dense.py:87: UserWarning: Do not pass an `input_shape`/`input_dim` argument to a layer. When using Sequential models, prefer using an `Input(shape)` object as the first layer in the model instead.\n",
      "  super().__init__(activity_regularizer=activity_regularizer, **kwargs)\n"
     ]
    },
    {
     "name": "stdout",
     "output_type": "stream",
     "text": [
      "\u001b[1m11069/11069\u001b[0m \u001b[32m━━━━━━━━━━━━━━━━━━━━\u001b[0m\u001b[37m\u001b[0m \u001b[1m8s\u001b[0m 682us/step\n",
      "\u001b[1m11069/11069\u001b[0m \u001b[32m━━━━━━━━━━━━━━━━━━━━\u001b[0m\u001b[37m\u001b[0m \u001b[1m7s\u001b[0m 667us/step\n"
     ]
    },
    {
     "name": "stderr",
     "output_type": "stream",
     "text": [
      "WARNING:absl:You are saving your model as an HDF5 file via `model.save()` or `keras.saving.save_model(model)`. This file format is considered legacy. We recommend using instead the native Keras format, e.g. `model.save('my_model.keras')` or `keras.saving.save_model(model, 'my_model.keras')`. \n"
     ]
    },
    {
     "name": "stdout",
     "output_type": "stream",
     "text": [
      "Model completed: vol60\n",
      "Layers: 3 Nodes: 128 Dropout: False\n",
      "ANN Val MSE: 8.3059340763898e-06 MAPE: 0.9590066639836259\n",
      "ANN Test MSE: 4.7028998078906985e-06 MAPE: 0.8355426418016979\n",
      "Saving Model\n",
      "Model saved\n",
      "Execution time: 47.16132664680481\n"
     ]
    },
    {
     "name": "stderr",
     "output_type": "stream",
     "text": [
      "c:\\ProgramData\\anaconda3\\Lib\\site-packages\\keras\\src\\layers\\core\\dense.py:87: UserWarning: Do not pass an `input_shape`/`input_dim` argument to a layer. When using Sequential models, prefer using an `Input(shape)` object as the first layer in the model instead.\n",
      "  super().__init__(activity_regularizer=activity_regularizer, **kwargs)\n"
     ]
    },
    {
     "name": "stdout",
     "output_type": "stream",
     "text": [
      "\u001b[1m11069/11069\u001b[0m \u001b[32m━━━━━━━━━━━━━━━━━━━━\u001b[0m\u001b[37m\u001b[0m \u001b[1m7s\u001b[0m 626us/step\n",
      "\u001b[1m11069/11069\u001b[0m \u001b[32m━━━━━━━━━━━━━━━━━━━━\u001b[0m\u001b[37m\u001b[0m \u001b[1m7s\u001b[0m 654us/step\n"
     ]
    },
    {
     "name": "stderr",
     "output_type": "stream",
     "text": [
      "WARNING:absl:You are saving your model as an HDF5 file via `model.save()` or `keras.saving.save_model(model)`. This file format is considered legacy. We recommend using instead the native Keras format, e.g. `model.save('my_model.keras')` or `keras.saving.save_model(model, 'my_model.keras')`. \n"
     ]
    },
    {
     "name": "stdout",
     "output_type": "stream",
     "text": [
      "Model completed: GARCH\n",
      "Layers: 1 Nodes: 32 Dropout: True\n",
      "ANN Val MSE: 1.1403087998312627e-05 MAPE: 0.3839298728372206\n",
      "ANN Test MSE: 9.527504329261806e-06 MAPE: 0.37034041417925695\n",
      "Saving Model\n",
      "Model saved\n",
      "Execution time: 36.424890995025635\n"
     ]
    },
    {
     "name": "stderr",
     "output_type": "stream",
     "text": [
      "c:\\ProgramData\\anaconda3\\Lib\\site-packages\\keras\\src\\layers\\core\\dense.py:87: UserWarning: Do not pass an `input_shape`/`input_dim` argument to a layer. When using Sequential models, prefer using an `Input(shape)` object as the first layer in the model instead.\n",
      "  super().__init__(activity_regularizer=activity_regularizer, **kwargs)\n"
     ]
    },
    {
     "name": "stdout",
     "output_type": "stream",
     "text": [
      "\u001b[1m11069/11069\u001b[0m \u001b[32m━━━━━━━━━━━━━━━━━━━━\u001b[0m\u001b[37m\u001b[0m \u001b[1m7s\u001b[0m 623us/step\n",
      "\u001b[1m11069/11069\u001b[0m \u001b[32m━━━━━━━━━━━━━━━━━━━━\u001b[0m\u001b[37m\u001b[0m \u001b[1m7s\u001b[0m 616us/step\n"
     ]
    },
    {
     "name": "stderr",
     "output_type": "stream",
     "text": [
      "WARNING:absl:You are saving your model as an HDF5 file via `model.save()` or `keras.saving.save_model(model)`. This file format is considered legacy. We recommend using instead the native Keras format, e.g. `model.save('my_model.keras')` or `keras.saving.save_model(model, 'my_model.keras')`. \n"
     ]
    },
    {
     "name": "stdout",
     "output_type": "stream",
     "text": [
      "Model completed: GARCH\n",
      "Layers: 1 Nodes: 32 Dropout: False\n",
      "ANN Val MSE: 8.52952080374299e-06 MAPE: 0.3754216126066246\n",
      "ANN Test MSE: 4.439934538241021e-06 MAPE: 0.3030473147202839\n",
      "Saving Model\n",
      "Model saved\n",
      "Execution time: 33.87816548347473\n"
     ]
    },
    {
     "name": "stderr",
     "output_type": "stream",
     "text": [
      "c:\\ProgramData\\anaconda3\\Lib\\site-packages\\keras\\src\\layers\\core\\dense.py:87: UserWarning: Do not pass an `input_shape`/`input_dim` argument to a layer. When using Sequential models, prefer using an `Input(shape)` object as the first layer in the model instead.\n",
      "  super().__init__(activity_regularizer=activity_regularizer, **kwargs)\n"
     ]
    },
    {
     "name": "stdout",
     "output_type": "stream",
     "text": [
      "\u001b[1m11069/11069\u001b[0m \u001b[32m━━━━━━━━━━━━━━━━━━━━\u001b[0m\u001b[37m\u001b[0m \u001b[1m7s\u001b[0m 659us/step\n",
      "\u001b[1m11069/11069\u001b[0m \u001b[32m━━━━━━━━━━━━━━━━━━━━\u001b[0m\u001b[37m\u001b[0m \u001b[1m7s\u001b[0m 628us/step\n"
     ]
    },
    {
     "name": "stderr",
     "output_type": "stream",
     "text": [
      "WARNING:absl:You are saving your model as an HDF5 file via `model.save()` or `keras.saving.save_model(model)`. This file format is considered legacy. We recommend using instead the native Keras format, e.g. `model.save('my_model.keras')` or `keras.saving.save_model(model, 'my_model.keras')`. \n"
     ]
    },
    {
     "name": "stdout",
     "output_type": "stream",
     "text": [
      "Model completed: GARCH\n",
      "Layers: 1 Nodes: 64 Dropout: True\n",
      "ANN Val MSE: 8.058475924294145e-06 MAPE: 0.3837398385144225\n",
      "ANN Test MSE: 6.3316369472716815e-06 MAPE: 0.338461599052062\n",
      "Saving Model\n",
      "Model saved\n",
      "Execution time: 38.84506297111511\n"
     ]
    },
    {
     "name": "stderr",
     "output_type": "stream",
     "text": [
      "c:\\ProgramData\\anaconda3\\Lib\\site-packages\\keras\\src\\layers\\core\\dense.py:87: UserWarning: Do not pass an `input_shape`/`input_dim` argument to a layer. When using Sequential models, prefer using an `Input(shape)` object as the first layer in the model instead.\n",
      "  super().__init__(activity_regularizer=activity_regularizer, **kwargs)\n"
     ]
    },
    {
     "name": "stdout",
     "output_type": "stream",
     "text": [
      "\u001b[1m11069/11069\u001b[0m \u001b[32m━━━━━━━━━━━━━━━━━━━━\u001b[0m\u001b[37m\u001b[0m \u001b[1m7s\u001b[0m 610us/step\n",
      "\u001b[1m11069/11069\u001b[0m \u001b[32m━━━━━━━━━━━━━━━━━━━━\u001b[0m\u001b[37m\u001b[0m \u001b[1m7s\u001b[0m 634us/step\n"
     ]
    },
    {
     "name": "stderr",
     "output_type": "stream",
     "text": [
      "WARNING:absl:You are saving your model as an HDF5 file via `model.save()` or `keras.saving.save_model(model)`. This file format is considered legacy. We recommend using instead the native Keras format, e.g. `model.save('my_model.keras')` or `keras.saving.save_model(model, 'my_model.keras')`. \n"
     ]
    },
    {
     "name": "stdout",
     "output_type": "stream",
     "text": [
      "Model completed: GARCH\n",
      "Layers: 1 Nodes: 64 Dropout: False\n",
      "ANN Val MSE: 6.599672303097713e-06 MAPE: 0.3337757752750325\n",
      "ANN Test MSE: 4.66403424387546e-06 MAPE: 0.3767043192573736\n",
      "Saving Model\n",
      "Model saved\n",
      "Execution time: 34.57102584838867\n"
     ]
    },
    {
     "name": "stderr",
     "output_type": "stream",
     "text": [
      "c:\\ProgramData\\anaconda3\\Lib\\site-packages\\keras\\src\\layers\\core\\dense.py:87: UserWarning: Do not pass an `input_shape`/`input_dim` argument to a layer. When using Sequential models, prefer using an `Input(shape)` object as the first layer in the model instead.\n",
      "  super().__init__(activity_regularizer=activity_regularizer, **kwargs)\n"
     ]
    },
    {
     "name": "stdout",
     "output_type": "stream",
     "text": [
      "\u001b[1m11069/11069\u001b[0m \u001b[32m━━━━━━━━━━━━━━━━━━━━\u001b[0m\u001b[37m\u001b[0m \u001b[1m7s\u001b[0m 623us/step\n",
      "\u001b[1m11069/11069\u001b[0m \u001b[32m━━━━━━━━━━━━━━━━━━━━\u001b[0m\u001b[37m\u001b[0m \u001b[1m7s\u001b[0m 631us/step\n"
     ]
    },
    {
     "name": "stderr",
     "output_type": "stream",
     "text": [
      "WARNING:absl:You are saving your model as an HDF5 file via `model.save()` or `keras.saving.save_model(model)`. This file format is considered legacy. We recommend using instead the native Keras format, e.g. `model.save('my_model.keras')` or `keras.saving.save_model(model, 'my_model.keras')`. \n"
     ]
    },
    {
     "name": "stdout",
     "output_type": "stream",
     "text": [
      "Model completed: GARCH\n",
      "Layers: 1 Nodes: 128 Dropout: True\n",
      "ANN Val MSE: 7.969237189229765e-06 MAPE: 0.3234591901959217\n",
      "ANN Test MSE: 3.5105313332575354e-06 MAPE: 0.3001743774933886\n",
      "Saving Model\n",
      "Model saved\n",
      "Execution time: 40.94935870170593\n"
     ]
    },
    {
     "name": "stderr",
     "output_type": "stream",
     "text": [
      "c:\\ProgramData\\anaconda3\\Lib\\site-packages\\keras\\src\\layers\\core\\dense.py:87: UserWarning: Do not pass an `input_shape`/`input_dim` argument to a layer. When using Sequential models, prefer using an `Input(shape)` object as the first layer in the model instead.\n",
      "  super().__init__(activity_regularizer=activity_regularizer, **kwargs)\n"
     ]
    },
    {
     "name": "stdout",
     "output_type": "stream",
     "text": [
      "\u001b[1m11069/11069\u001b[0m \u001b[32m━━━━━━━━━━━━━━━━━━━━\u001b[0m\u001b[37m\u001b[0m \u001b[1m7s\u001b[0m 643us/step\n",
      "\u001b[1m11069/11069\u001b[0m \u001b[32m━━━━━━━━━━━━━━━━━━━━\u001b[0m\u001b[37m\u001b[0m \u001b[1m7s\u001b[0m 651us/step\n"
     ]
    },
    {
     "name": "stderr",
     "output_type": "stream",
     "text": [
      "WARNING:absl:You are saving your model as an HDF5 file via `model.save()` or `keras.saving.save_model(model)`. This file format is considered legacy. We recommend using instead the native Keras format, e.g. `model.save('my_model.keras')` or `keras.saving.save_model(model, 'my_model.keras')`. \n"
     ]
    },
    {
     "name": "stdout",
     "output_type": "stream",
     "text": [
      "Model completed: GARCH\n",
      "Layers: 1 Nodes: 128 Dropout: False\n",
      "ANN Val MSE: 0.0024797725505845843 MAPE: 0.9745008921824218\n",
      "ANN Test MSE: 0.0029165828069693226 MAPE: 0.9678430552423055\n",
      "Saving Model\n",
      "Model saved\n",
      "Execution time: 35.686732053756714\n"
     ]
    },
    {
     "name": "stderr",
     "output_type": "stream",
     "text": [
      "c:\\ProgramData\\anaconda3\\Lib\\site-packages\\keras\\src\\layers\\core\\dense.py:87: UserWarning: Do not pass an `input_shape`/`input_dim` argument to a layer. When using Sequential models, prefer using an `Input(shape)` object as the first layer in the model instead.\n",
      "  super().__init__(activity_regularizer=activity_regularizer, **kwargs)\n"
     ]
    },
    {
     "name": "stdout",
     "output_type": "stream",
     "text": [
      "\u001b[1m11069/11069\u001b[0m \u001b[32m━━━━━━━━━━━━━━━━━━━━\u001b[0m\u001b[37m\u001b[0m \u001b[1m8s\u001b[0m 675us/step\n",
      "\u001b[1m11069/11069\u001b[0m \u001b[32m━━━━━━━━━━━━━━━━━━━━\u001b[0m\u001b[37m\u001b[0m \u001b[1m7s\u001b[0m 638us/step\n"
     ]
    },
    {
     "name": "stderr",
     "output_type": "stream",
     "text": [
      "WARNING:absl:You are saving your model as an HDF5 file via `model.save()` or `keras.saving.save_model(model)`. This file format is considered legacy. We recommend using instead the native Keras format, e.g. `model.save('my_model.keras')` or `keras.saving.save_model(model, 'my_model.keras')`. \n"
     ]
    },
    {
     "name": "stdout",
     "output_type": "stream",
     "text": [
      "Model completed: GARCH\n",
      "Layers: 2 Nodes: 32 Dropout: True\n",
      "ANN Val MSE: 1.698326081101656e-05 MAPE: 0.4518832917100136\n",
      "ANN Test MSE: 9.153613656754154e-06 MAPE: 0.37494531208927906\n",
      "Saving Model\n",
      "Model saved\n",
      "Execution time: 41.28664708137512\n"
     ]
    },
    {
     "name": "stderr",
     "output_type": "stream",
     "text": [
      "c:\\ProgramData\\anaconda3\\Lib\\site-packages\\keras\\src\\layers\\core\\dense.py:87: UserWarning: Do not pass an `input_shape`/`input_dim` argument to a layer. When using Sequential models, prefer using an `Input(shape)` object as the first layer in the model instead.\n",
      "  super().__init__(activity_regularizer=activity_regularizer, **kwargs)\n"
     ]
    },
    {
     "name": "stdout",
     "output_type": "stream",
     "text": [
      "\u001b[1m11069/11069\u001b[0m \u001b[32m━━━━━━━━━━━━━━━━━━━━\u001b[0m\u001b[37m\u001b[0m \u001b[1m7s\u001b[0m 655us/step\n",
      "\u001b[1m11069/11069\u001b[0m \u001b[32m━━━━━━━━━━━━━━━━━━━━\u001b[0m\u001b[37m\u001b[0m \u001b[1m7s\u001b[0m 636us/step\n"
     ]
    },
    {
     "name": "stderr",
     "output_type": "stream",
     "text": [
      "WARNING:absl:You are saving your model as an HDF5 file via `model.save()` or `keras.saving.save_model(model)`. This file format is considered legacy. We recommend using instead the native Keras format, e.g. `model.save('my_model.keras')` or `keras.saving.save_model(model, 'my_model.keras')`. \n",
      "c:\\ProgramData\\anaconda3\\Lib\\site-packages\\keras\\src\\layers\\core\\dense.py:87: UserWarning: Do not pass an `input_shape`/`input_dim` argument to a layer. When using Sequential models, prefer using an `Input(shape)` object as the first layer in the model instead.\n",
      "  super().__init__(activity_regularizer=activity_regularizer, **kwargs)\n"
     ]
    },
    {
     "name": "stdout",
     "output_type": "stream",
     "text": [
      "Model completed: GARCH\n",
      "Layers: 2 Nodes: 32 Dropout: False\n",
      "ANN Val MSE: 1.0027854829644323e-05 MAPE: 0.9963597962464832\n",
      "ANN Test MSE: 3.5618223886797014e-06 MAPE: 0.5380049040971523\n",
      "Saving Model\n",
      "Model saved\n",
      "Execution time: 35.89098834991455\n",
      "\u001b[1m11069/11069\u001b[0m \u001b[32m━━━━━━━━━━━━━━━━━━━━\u001b[0m\u001b[37m\u001b[0m \u001b[1m8s\u001b[0m 690us/step\n",
      "\u001b[1m11069/11069\u001b[0m \u001b[32m━━━━━━━━━━━━━━━━━━━━\u001b[0m\u001b[37m\u001b[0m \u001b[1m7s\u001b[0m 672us/step\n"
     ]
    },
    {
     "name": "stderr",
     "output_type": "stream",
     "text": [
      "WARNING:absl:You are saving your model as an HDF5 file via `model.save()` or `keras.saving.save_model(model)`. This file format is considered legacy. We recommend using instead the native Keras format, e.g. `model.save('my_model.keras')` or `keras.saving.save_model(model, 'my_model.keras')`. \n"
     ]
    },
    {
     "name": "stdout",
     "output_type": "stream",
     "text": [
      "Model completed: GARCH\n",
      "Layers: 2 Nodes: 64 Dropout: True\n",
      "ANN Val MSE: 1.3848781945935724e-05 MAPE: 2.1471477612787497\n",
      "ANN Test MSE: 5.885762838030869e-06 MAPE: 0.6065946215459168\n",
      "Saving Model\n",
      "Model saved\n",
      "Execution time: 46.71073770523071\n"
     ]
    },
    {
     "name": "stderr",
     "output_type": "stream",
     "text": [
      "c:\\ProgramData\\anaconda3\\Lib\\site-packages\\keras\\src\\layers\\core\\dense.py:87: UserWarning: Do not pass an `input_shape`/`input_dim` argument to a layer. When using Sequential models, prefer using an `Input(shape)` object as the first layer in the model instead.\n",
      "  super().__init__(activity_regularizer=activity_regularizer, **kwargs)\n"
     ]
    },
    {
     "name": "stdout",
     "output_type": "stream",
     "text": [
      "\u001b[1m11069/11069\u001b[0m \u001b[32m━━━━━━━━━━━━━━━━━━━━\u001b[0m\u001b[37m\u001b[0m \u001b[1m7s\u001b[0m 645us/step\n",
      "\u001b[1m11069/11069\u001b[0m \u001b[32m━━━━━━━━━━━━━━━━━━━━\u001b[0m\u001b[37m\u001b[0m \u001b[1m7s\u001b[0m 666us/step\n"
     ]
    },
    {
     "name": "stderr",
     "output_type": "stream",
     "text": [
      "WARNING:absl:You are saving your model as an HDF5 file via `model.save()` or `keras.saving.save_model(model)`. This file format is considered legacy. We recommend using instead the native Keras format, e.g. `model.save('my_model.keras')` or `keras.saving.save_model(model, 'my_model.keras')`. \n"
     ]
    },
    {
     "name": "stdout",
     "output_type": "stream",
     "text": [
      "Model completed: GARCH\n",
      "Layers: 2 Nodes: 64 Dropout: False\n",
      "ANN Val MSE: 6.766739413918705e-06 MAPE: 0.5086202412505718\n",
      "ANN Test MSE: 3.512811896784703e-06 MAPE: 0.501400200513681\n",
      "Saving Model\n",
      "Model saved\n",
      "Execution time: 38.50571274757385\n"
     ]
    },
    {
     "name": "stderr",
     "output_type": "stream",
     "text": [
      "c:\\ProgramData\\anaconda3\\Lib\\site-packages\\keras\\src\\layers\\core\\dense.py:87: UserWarning: Do not pass an `input_shape`/`input_dim` argument to a layer. When using Sequential models, prefer using an `Input(shape)` object as the first layer in the model instead.\n",
      "  super().__init__(activity_regularizer=activity_regularizer, **kwargs)\n"
     ]
    },
    {
     "name": "stdout",
     "output_type": "stream",
     "text": [
      "\u001b[1m11069/11069\u001b[0m \u001b[32m━━━━━━━━━━━━━━━━━━━━\u001b[0m\u001b[37m\u001b[0m \u001b[1m7s\u001b[0m 668us/step\n",
      "\u001b[1m11069/11069\u001b[0m \u001b[32m━━━━━━━━━━━━━━━━━━━━\u001b[0m\u001b[37m\u001b[0m \u001b[1m8s\u001b[0m 677us/step\n"
     ]
    },
    {
     "name": "stderr",
     "output_type": "stream",
     "text": [
      "WARNING:absl:You are saving your model as an HDF5 file via `model.save()` or `keras.saving.save_model(model)`. This file format is considered legacy. We recommend using instead the native Keras format, e.g. `model.save('my_model.keras')` or `keras.saving.save_model(model, 'my_model.keras')`. \n"
     ]
    },
    {
     "name": "stdout",
     "output_type": "stream",
     "text": [
      "Model completed: GARCH\n",
      "Layers: 2 Nodes: 128 Dropout: True\n",
      "ANN Val MSE: 1.1747192557617234e-05 MAPE: 0.4234184535834812\n",
      "ANN Test MSE: 6.480086015696804e-06 MAPE: 0.37920715268603544\n",
      "Saving Model\n",
      "Model saved\n",
      "Execution time: 51.500653982162476\n"
     ]
    },
    {
     "name": "stderr",
     "output_type": "stream",
     "text": [
      "c:\\ProgramData\\anaconda3\\Lib\\site-packages\\keras\\src\\layers\\core\\dense.py:87: UserWarning: Do not pass an `input_shape`/`input_dim` argument to a layer. When using Sequential models, prefer using an `Input(shape)` object as the first layer in the model instead.\n",
      "  super().__init__(activity_regularizer=activity_regularizer, **kwargs)\n"
     ]
    },
    {
     "name": "stdout",
     "output_type": "stream",
     "text": [
      "\u001b[1m11069/11069\u001b[0m \u001b[32m━━━━━━━━━━━━━━━━━━━━\u001b[0m\u001b[37m\u001b[0m \u001b[1m7s\u001b[0m 657us/step\n",
      "\u001b[1m11069/11069\u001b[0m \u001b[32m━━━━━━━━━━━━━━━━━━━━\u001b[0m\u001b[37m\u001b[0m \u001b[1m7s\u001b[0m 652us/step\n"
     ]
    },
    {
     "name": "stderr",
     "output_type": "stream",
     "text": [
      "WARNING:absl:You are saving your model as an HDF5 file via `model.save()` or `keras.saving.save_model(model)`. This file format is considered legacy. We recommend using instead the native Keras format, e.g. `model.save('my_model.keras')` or `keras.saving.save_model(model, 'my_model.keras')`. \n"
     ]
    },
    {
     "name": "stdout",
     "output_type": "stream",
     "text": [
      "Model completed: GARCH\n",
      "Layers: 2 Nodes: 128 Dropout: False\n",
      "ANN Val MSE: 1.2890331249159931e-05 MAPE: 1.0963948128610204\n",
      "ANN Test MSE: 3.7407590998740357e-06 MAPE: 0.4196372993162228\n",
      "Saving Model\n",
      "Model saved\n",
      "Execution time: 41.44809365272522\n"
     ]
    },
    {
     "name": "stderr",
     "output_type": "stream",
     "text": [
      "c:\\ProgramData\\anaconda3\\Lib\\site-packages\\keras\\src\\layers\\core\\dense.py:87: UserWarning: Do not pass an `input_shape`/`input_dim` argument to a layer. When using Sequential models, prefer using an `Input(shape)` object as the first layer in the model instead.\n",
      "  super().__init__(activity_regularizer=activity_regularizer, **kwargs)\n"
     ]
    },
    {
     "name": "stdout",
     "output_type": "stream",
     "text": [
      "\u001b[1m11069/11069\u001b[0m \u001b[32m━━━━━━━━━━━━━━━━━━━━\u001b[0m\u001b[37m\u001b[0m \u001b[1m7s\u001b[0m 653us/step\n",
      "\u001b[1m11069/11069\u001b[0m \u001b[32m━━━━━━━━━━━━━━━━━━━━\u001b[0m\u001b[37m\u001b[0m \u001b[1m7s\u001b[0m 649us/step\n"
     ]
    },
    {
     "name": "stderr",
     "output_type": "stream",
     "text": [
      "WARNING:absl:You are saving your model as an HDF5 file via `model.save()` or `keras.saving.save_model(model)`. This file format is considered legacy. We recommend using instead the native Keras format, e.g. `model.save('my_model.keras')` or `keras.saving.save_model(model, 'my_model.keras')`. \n"
     ]
    },
    {
     "name": "stdout",
     "output_type": "stream",
     "text": [
      "Model completed: GARCH\n",
      "Layers: 3 Nodes: 32 Dropout: True\n",
      "ANN Val MSE: 1.7522802286612625e-05 MAPE: 1.348575178214397\n",
      "ANN Test MSE: 1.3027206411708305e-05 MAPE: 1.1929519053113438\n",
      "Saving Model\n",
      "Model saved\n",
      "Execution time: 45.61620306968689\n"
     ]
    },
    {
     "name": "stderr",
     "output_type": "stream",
     "text": [
      "c:\\ProgramData\\anaconda3\\Lib\\site-packages\\keras\\src\\layers\\core\\dense.py:87: UserWarning: Do not pass an `input_shape`/`input_dim` argument to a layer. When using Sequential models, prefer using an `Input(shape)` object as the first layer in the model instead.\n",
      "  super().__init__(activity_regularizer=activity_regularizer, **kwargs)\n"
     ]
    },
    {
     "name": "stdout",
     "output_type": "stream",
     "text": [
      "\u001b[1m11069/11069\u001b[0m \u001b[32m━━━━━━━━━━━━━━━━━━━━\u001b[0m\u001b[37m\u001b[0m \u001b[1m7s\u001b[0m 656us/step\n",
      "\u001b[1m11069/11069\u001b[0m \u001b[32m━━━━━━━━━━━━━━━━━━━━\u001b[0m\u001b[37m\u001b[0m \u001b[1m7s\u001b[0m 645us/step\n"
     ]
    },
    {
     "name": "stderr",
     "output_type": "stream",
     "text": [
      "WARNING:absl:You are saving your model as an HDF5 file via `model.save()` or `keras.saving.save_model(model)`. This file format is considered legacy. We recommend using instead the native Keras format, e.g. `model.save('my_model.keras')` or `keras.saving.save_model(model, 'my_model.keras')`. \n"
     ]
    },
    {
     "name": "stdout",
     "output_type": "stream",
     "text": [
      "Model completed: GARCH\n",
      "Layers: 3 Nodes: 32 Dropout: False\n",
      "ANN Val MSE: 1.0072180276332173e-05 MAPE: 0.9744501904078517\n",
      "ANN Test MSE: 7.124511406006042e-06 MAPE: 0.5242959098569522\n",
      "Saving Model\n",
      "Model saved\n",
      "Execution time: 37.863380670547485\n"
     ]
    },
    {
     "name": "stderr",
     "output_type": "stream",
     "text": [
      "c:\\ProgramData\\anaconda3\\Lib\\site-packages\\keras\\src\\layers\\core\\dense.py:87: UserWarning: Do not pass an `input_shape`/`input_dim` argument to a layer. When using Sequential models, prefer using an `Input(shape)` object as the first layer in the model instead.\n",
      "  super().__init__(activity_regularizer=activity_regularizer, **kwargs)\n"
     ]
    },
    {
     "name": "stdout",
     "output_type": "stream",
     "text": [
      "\u001b[1m11069/11069\u001b[0m \u001b[32m━━━━━━━━━━━━━━━━━━━━\u001b[0m\u001b[37m\u001b[0m \u001b[1m7s\u001b[0m 640us/step\n",
      "\u001b[1m11069/11069\u001b[0m \u001b[32m━━━━━━━━━━━━━━━━━━━━\u001b[0m\u001b[37m\u001b[0m \u001b[1m7s\u001b[0m 660us/step\n"
     ]
    },
    {
     "name": "stderr",
     "output_type": "stream",
     "text": [
      "WARNING:absl:You are saving your model as an HDF5 file via `model.save()` or `keras.saving.save_model(model)`. This file format is considered legacy. We recommend using instead the native Keras format, e.g. `model.save('my_model.keras')` or `keras.saving.save_model(model, 'my_model.keras')`. \n"
     ]
    },
    {
     "name": "stdout",
     "output_type": "stream",
     "text": [
      "Model completed: GARCH\n",
      "Layers: 3 Nodes: 64 Dropout: True\n",
      "ANN Val MSE: 2.1306413648621902e-05 MAPE: 5.25631346949527\n",
      "ANN Test MSE: 7.212338573632159e-06 MAPE: 3.170206550679283\n",
      "Saving Model\n",
      "Model saved\n",
      "Execution time: 52.45602774620056\n"
     ]
    },
    {
     "name": "stderr",
     "output_type": "stream",
     "text": [
      "c:\\ProgramData\\anaconda3\\Lib\\site-packages\\keras\\src\\layers\\core\\dense.py:87: UserWarning: Do not pass an `input_shape`/`input_dim` argument to a layer. When using Sequential models, prefer using an `Input(shape)` object as the first layer in the model instead.\n",
      "  super().__init__(activity_regularizer=activity_regularizer, **kwargs)\n"
     ]
    },
    {
     "name": "stdout",
     "output_type": "stream",
     "text": [
      "\u001b[1m11069/11069\u001b[0m \u001b[32m━━━━━━━━━━━━━━━━━━━━\u001b[0m\u001b[37m\u001b[0m \u001b[1m8s\u001b[0m 723us/step\n",
      "\u001b[1m11069/11069\u001b[0m \u001b[32m━━━━━━━━━━━━━━━━━━━━\u001b[0m\u001b[37m\u001b[0m \u001b[1m7s\u001b[0m 656us/step\n"
     ]
    },
    {
     "name": "stderr",
     "output_type": "stream",
     "text": [
      "WARNING:absl:You are saving your model as an HDF5 file via `model.save()` or `keras.saving.save_model(model)`. This file format is considered legacy. We recommend using instead the native Keras format, e.g. `model.save('my_model.keras')` or `keras.saving.save_model(model, 'my_model.keras')`. \n"
     ]
    },
    {
     "name": "stdout",
     "output_type": "stream",
     "text": [
      "Model completed: GARCH\n",
      "Layers: 3 Nodes: 64 Dropout: False\n",
      "ANN Val MSE: 9.410979638746376e-06 MAPE: 1.3812466789728624\n",
      "ANN Test MSE: 1.1016283092347503e-05 MAPE: 0.4048216107588037\n",
      "Saving Model\n",
      "Model saved\n",
      "Execution time: 41.94024133682251\n"
     ]
    },
    {
     "name": "stderr",
     "output_type": "stream",
     "text": [
      "c:\\ProgramData\\anaconda3\\Lib\\site-packages\\keras\\src\\layers\\core\\dense.py:87: UserWarning: Do not pass an `input_shape`/`input_dim` argument to a layer. When using Sequential models, prefer using an `Input(shape)` object as the first layer in the model instead.\n",
      "  super().__init__(activity_regularizer=activity_regularizer, **kwargs)\n"
     ]
    },
    {
     "name": "stdout",
     "output_type": "stream",
     "text": [
      "\u001b[1m11069/11069\u001b[0m \u001b[32m━━━━━━━━━━━━━━━━━━━━\u001b[0m\u001b[37m\u001b[0m \u001b[1m8s\u001b[0m 749us/step\n",
      "\u001b[1m11069/11069\u001b[0m \u001b[32m━━━━━━━━━━━━━━━━━━━━\u001b[0m\u001b[37m\u001b[0m \u001b[1m8s\u001b[0m 709us/step\n"
     ]
    },
    {
     "name": "stderr",
     "output_type": "stream",
     "text": [
      "WARNING:absl:You are saving your model as an HDF5 file via `model.save()` or `keras.saving.save_model(model)`. This file format is considered legacy. We recommend using instead the native Keras format, e.g. `model.save('my_model.keras')` or `keras.saving.save_model(model, 'my_model.keras')`. \n",
      "c:\\ProgramData\\anaconda3\\Lib\\site-packages\\keras\\src\\layers\\core\\dense.py:87: UserWarning: Do not pass an `input_shape`/`input_dim` argument to a layer. When using Sequential models, prefer using an `Input(shape)` object as the first layer in the model instead.\n",
      "  super().__init__(activity_regularizer=activity_regularizer, **kwargs)\n"
     ]
    },
    {
     "name": "stdout",
     "output_type": "stream",
     "text": [
      "Model completed: GARCH\n",
      "Layers: 3 Nodes: 128 Dropout: True\n",
      "ANN Val MSE: 1.2699970180597917e-05 MAPE: 3.1312061035965386\n",
      "ANN Test MSE: 5.331533962896926e-06 MAPE: 3.4600032473910436\n",
      "Saving Model\n",
      "Model saved\n",
      "Execution time: 64.26058959960938\n",
      "\u001b[1m11069/11069\u001b[0m \u001b[32m━━━━━━━━━━━━━━━━━━━━\u001b[0m\u001b[37m\u001b[0m \u001b[1m8s\u001b[0m 691us/step\n",
      "\u001b[1m11069/11069\u001b[0m \u001b[32m━━━━━━━━━━━━━━━━━━━━\u001b[0m\u001b[37m\u001b[0m \u001b[1m7s\u001b[0m 671us/step\n"
     ]
    },
    {
     "name": "stderr",
     "output_type": "stream",
     "text": [
      "WARNING:absl:You are saving your model as an HDF5 file via `model.save()` or `keras.saving.save_model(model)`. This file format is considered legacy. We recommend using instead the native Keras format, e.g. `model.save('my_model.keras')` or `keras.saving.save_model(model, 'my_model.keras')`. \n"
     ]
    },
    {
     "name": "stdout",
     "output_type": "stream",
     "text": [
      "Model completed: GARCH\n",
      "Layers: 3 Nodes: 128 Dropout: False\n",
      "ANN Val MSE: 0.0024797725505845843 MAPE: 0.9745008921824218\n",
      "ANN Test MSE: 0.0029165828069693226 MAPE: 0.9678430552423055\n",
      "Saving Model\n",
      "Model saved\n",
      "Execution time: 46.59135961532593\n"
     ]
    },
    {
     "name": "stderr",
     "output_type": "stream",
     "text": [
      "c:\\ProgramData\\anaconda3\\Lib\\site-packages\\keras\\src\\layers\\core\\dense.py:87: UserWarning: Do not pass an `input_shape`/`input_dim` argument to a layer. When using Sequential models, prefer using an `Input(shape)` object as the first layer in the model instead.\n",
      "  super().__init__(activity_regularizer=activity_regularizer, **kwargs)\n"
     ]
    },
    {
     "name": "stdout",
     "output_type": "stream",
     "text": [
      "\u001b[1m11069/11069\u001b[0m \u001b[32m━━━━━━━━━━━━━━━━━━━━\u001b[0m\u001b[37m\u001b[0m \u001b[1m7s\u001b[0m 625us/step\n",
      "\u001b[1m11069/11069\u001b[0m \u001b[32m━━━━━━━━━━━━━━━━━━━━\u001b[0m\u001b[37m\u001b[0m \u001b[1m7s\u001b[0m 648us/step\n"
     ]
    },
    {
     "name": "stderr",
     "output_type": "stream",
     "text": [
      "WARNING:absl:You are saving your model as an HDF5 file via `model.save()` or `keras.saving.save_model(model)`. This file format is considered legacy. We recommend using instead the native Keras format, e.g. `model.save('my_model.keras')` or `keras.saving.save_model(model, 'my_model.keras')`. \n"
     ]
    },
    {
     "name": "stdout",
     "output_type": "stream",
     "text": [
      "Model completed: VIX\n",
      "Layers: 1 Nodes: 32 Dropout: True\n",
      "ANN Val MSE: 1.2520482209805032e-05 MAPE: 0.36075355645925533\n",
      "ANN Test MSE: 7.256410990464962e-06 MAPE: 0.335247886129728\n",
      "Saving Model\n",
      "Model saved\n",
      "Execution time: 36.44115900993347\n"
     ]
    },
    {
     "name": "stderr",
     "output_type": "stream",
     "text": [
      "c:\\ProgramData\\anaconda3\\Lib\\site-packages\\keras\\src\\layers\\core\\dense.py:87: UserWarning: Do not pass an `input_shape`/`input_dim` argument to a layer. When using Sequential models, prefer using an `Input(shape)` object as the first layer in the model instead.\n",
      "  super().__init__(activity_regularizer=activity_regularizer, **kwargs)\n"
     ]
    },
    {
     "name": "stdout",
     "output_type": "stream",
     "text": [
      "\u001b[1m11069/11069\u001b[0m \u001b[32m━━━━━━━━━━━━━━━━━━━━\u001b[0m\u001b[37m\u001b[0m \u001b[1m7s\u001b[0m 619us/step\n",
      "\u001b[1m11069/11069\u001b[0m \u001b[32m━━━━━━━━━━━━━━━━━━━━\u001b[0m\u001b[37m\u001b[0m \u001b[1m7s\u001b[0m 620us/step\n"
     ]
    },
    {
     "name": "stderr",
     "output_type": "stream",
     "text": [
      "WARNING:absl:You are saving your model as an HDF5 file via `model.save()` or `keras.saving.save_model(model)`. This file format is considered legacy. We recommend using instead the native Keras format, e.g. `model.save('my_model.keras')` or `keras.saving.save_model(model, 'my_model.keras')`. \n"
     ]
    },
    {
     "name": "stdout",
     "output_type": "stream",
     "text": [
      "Model completed: VIX\n",
      "Layers: 1 Nodes: 32 Dropout: False\n",
      "ANN Val MSE: 1.5049925173055065e-05 MAPE: 0.4340258021912509\n",
      "ANN Test MSE: 4.353597431126091e-06 MAPE: 0.35663153895280353\n",
      "Saving Model\n",
      "Model saved\n",
      "Execution time: 33.98038101196289\n"
     ]
    },
    {
     "name": "stderr",
     "output_type": "stream",
     "text": [
      "c:\\ProgramData\\anaconda3\\Lib\\site-packages\\keras\\src\\layers\\core\\dense.py:87: UserWarning: Do not pass an `input_shape`/`input_dim` argument to a layer. When using Sequential models, prefer using an `Input(shape)` object as the first layer in the model instead.\n",
      "  super().__init__(activity_regularizer=activity_regularizer, **kwargs)\n"
     ]
    },
    {
     "name": "stdout",
     "output_type": "stream",
     "text": [
      "\u001b[1m11069/11069\u001b[0m \u001b[32m━━━━━━━━━━━━━━━━━━━━\u001b[0m\u001b[37m\u001b[0m \u001b[1m7s\u001b[0m 652us/step\n",
      "\u001b[1m11069/11069\u001b[0m \u001b[32m━━━━━━━━━━━━━━━━━━━━\u001b[0m\u001b[37m\u001b[0m \u001b[1m7s\u001b[0m 634us/step\n"
     ]
    },
    {
     "name": "stderr",
     "output_type": "stream",
     "text": [
      "WARNING:absl:You are saving your model as an HDF5 file via `model.save()` or `keras.saving.save_model(model)`. This file format is considered legacy. We recommend using instead the native Keras format, e.g. `model.save('my_model.keras')` or `keras.saving.save_model(model, 'my_model.keras')`. \n"
     ]
    },
    {
     "name": "stdout",
     "output_type": "stream",
     "text": [
      "Model completed: VIX\n",
      "Layers: 1 Nodes: 64 Dropout: True\n",
      "ANN Val MSE: 7.2249045636814285e-06 MAPE: 0.35505355874189143\n",
      "ANN Test MSE: 7.160542196273866e-06 MAPE: 0.39982367688082615\n",
      "Saving Model\n",
      "Model saved\n",
      "Execution time: 38.524099588394165\n"
     ]
    },
    {
     "name": "stderr",
     "output_type": "stream",
     "text": [
      "c:\\ProgramData\\anaconda3\\Lib\\site-packages\\keras\\src\\layers\\core\\dense.py:87: UserWarning: Do not pass an `input_shape`/`input_dim` argument to a layer. When using Sequential models, prefer using an `Input(shape)` object as the first layer in the model instead.\n",
      "  super().__init__(activity_regularizer=activity_regularizer, **kwargs)\n"
     ]
    },
    {
     "name": "stdout",
     "output_type": "stream",
     "text": [
      "\u001b[1m11069/11069\u001b[0m \u001b[32m━━━━━━━━━━━━━━━━━━━━\u001b[0m\u001b[37m\u001b[0m \u001b[1m7s\u001b[0m 650us/step\n",
      "\u001b[1m11069/11069\u001b[0m \u001b[32m━━━━━━━━━━━━━━━━━━━━\u001b[0m\u001b[37m\u001b[0m \u001b[1m7s\u001b[0m 663us/step\n"
     ]
    },
    {
     "name": "stderr",
     "output_type": "stream",
     "text": [
      "WARNING:absl:You are saving your model as an HDF5 file via `model.save()` or `keras.saving.save_model(model)`. This file format is considered legacy. We recommend using instead the native Keras format, e.g. `model.save('my_model.keras')` or `keras.saving.save_model(model, 'my_model.keras')`. \n"
     ]
    },
    {
     "name": "stdout",
     "output_type": "stream",
     "text": [
      "Model completed: VIX\n",
      "Layers: 1 Nodes: 64 Dropout: False\n",
      "ANN Val MSE: 0.0024797725505845843 MAPE: 0.9745008921824218\n",
      "ANN Test MSE: 0.0029165828069693226 MAPE: 0.9678430552423055\n",
      "Saving Model\n",
      "Model saved\n",
      "Execution time: 35.000431299209595\n"
     ]
    },
    {
     "name": "stderr",
     "output_type": "stream",
     "text": [
      "c:\\ProgramData\\anaconda3\\Lib\\site-packages\\keras\\src\\layers\\core\\dense.py:87: UserWarning: Do not pass an `input_shape`/`input_dim` argument to a layer. When using Sequential models, prefer using an `Input(shape)` object as the first layer in the model instead.\n",
      "  super().__init__(activity_regularizer=activity_regularizer, **kwargs)\n"
     ]
    },
    {
     "name": "stdout",
     "output_type": "stream",
     "text": [
      "\u001b[1m11069/11069\u001b[0m \u001b[32m━━━━━━━━━━━━━━━━━━━━\u001b[0m\u001b[37m\u001b[0m \u001b[1m7s\u001b[0m 633us/step\n",
      "\u001b[1m11069/11069\u001b[0m \u001b[32m━━━━━━━━━━━━━━━━━━━━\u001b[0m\u001b[37m\u001b[0m \u001b[1m7s\u001b[0m 651us/step\n"
     ]
    },
    {
     "name": "stderr",
     "output_type": "stream",
     "text": [
      "WARNING:absl:You are saving your model as an HDF5 file via `model.save()` or `keras.saving.save_model(model)`. This file format is considered legacy. We recommend using instead the native Keras format, e.g. `model.save('my_model.keras')` or `keras.saving.save_model(model, 'my_model.keras')`. \n"
     ]
    },
    {
     "name": "stdout",
     "output_type": "stream",
     "text": [
      "Model completed: VIX\n",
      "Layers: 1 Nodes: 128 Dropout: True\n",
      "ANN Val MSE: 9.8615946779138e-06 MAPE: 0.5243717599847918\n",
      "ANN Test MSE: 1.0079172122629461e-05 MAPE: 0.34849971049832185\n",
      "Saving Model\n",
      "Model saved\n",
      "Execution time: 40.59221434593201\n"
     ]
    },
    {
     "name": "stderr",
     "output_type": "stream",
     "text": [
      "c:\\ProgramData\\anaconda3\\Lib\\site-packages\\keras\\src\\layers\\core\\dense.py:87: UserWarning: Do not pass an `input_shape`/`input_dim` argument to a layer. When using Sequential models, prefer using an `Input(shape)` object as the first layer in the model instead.\n",
      "  super().__init__(activity_regularizer=activity_regularizer, **kwargs)\n"
     ]
    },
    {
     "name": "stdout",
     "output_type": "stream",
     "text": [
      "\u001b[1m11069/11069\u001b[0m \u001b[32m━━━━━━━━━━━━━━━━━━━━\u001b[0m\u001b[37m\u001b[0m \u001b[1m7s\u001b[0m 633us/step\n",
      "\u001b[1m11069/11069\u001b[0m \u001b[32m━━━━━━━━━━━━━━━━━━━━\u001b[0m\u001b[37m\u001b[0m \u001b[1m7s\u001b[0m 618us/step\n"
     ]
    },
    {
     "name": "stderr",
     "output_type": "stream",
     "text": [
      "WARNING:absl:You are saving your model as an HDF5 file via `model.save()` or `keras.saving.save_model(model)`. This file format is considered legacy. We recommend using instead the native Keras format, e.g. `model.save('my_model.keras')` or `keras.saving.save_model(model, 'my_model.keras')`. \n"
     ]
    },
    {
     "name": "stdout",
     "output_type": "stream",
     "text": [
      "Model completed: VIX\n",
      "Layers: 1 Nodes: 128 Dropout: False\n",
      "ANN Val MSE: 4.496860380367235e-06 MAPE: 0.3035055636602121\n",
      "ANN Test MSE: 3.1888006659539332e-06 MAPE: 0.2662770093227047\n",
      "Saving Model\n",
      "Model saved\n",
      "Execution time: 34.99102020263672\n"
     ]
    },
    {
     "name": "stderr",
     "output_type": "stream",
     "text": [
      "c:\\ProgramData\\anaconda3\\Lib\\site-packages\\keras\\src\\layers\\core\\dense.py:87: UserWarning: Do not pass an `input_shape`/`input_dim` argument to a layer. When using Sequential models, prefer using an `Input(shape)` object as the first layer in the model instead.\n",
      "  super().__init__(activity_regularizer=activity_regularizer, **kwargs)\n"
     ]
    },
    {
     "name": "stdout",
     "output_type": "stream",
     "text": [
      "\u001b[1m11069/11069\u001b[0m \u001b[32m━━━━━━━━━━━━━━━━━━━━\u001b[0m\u001b[37m\u001b[0m \u001b[1m8s\u001b[0m 692us/step\n",
      "\u001b[1m11069/11069\u001b[0m \u001b[32m━━━━━━━━━━━━━━━━━━━━\u001b[0m\u001b[37m\u001b[0m \u001b[1m7s\u001b[0m 629us/step\n"
     ]
    },
    {
     "name": "stderr",
     "output_type": "stream",
     "text": [
      "WARNING:absl:You are saving your model as an HDF5 file via `model.save()` or `keras.saving.save_model(model)`. This file format is considered legacy. We recommend using instead the native Keras format, e.g. `model.save('my_model.keras')` or `keras.saving.save_model(model, 'my_model.keras')`. \n"
     ]
    },
    {
     "name": "stdout",
     "output_type": "stream",
     "text": [
      "Model completed: VIX\n",
      "Layers: 2 Nodes: 32 Dropout: True\n",
      "ANN Val MSE: 1.1684894144318421e-05 MAPE: 0.40330335017676766\n",
      "ANN Test MSE: 1.5582766512570502e-05 MAPE: 0.45566213105386383\n",
      "Saving Model\n",
      "Model saved\n",
      "Execution time: 41.017815828323364\n"
     ]
    },
    {
     "name": "stderr",
     "output_type": "stream",
     "text": [
      "c:\\ProgramData\\anaconda3\\Lib\\site-packages\\keras\\src\\layers\\core\\dense.py:87: UserWarning: Do not pass an `input_shape`/`input_dim` argument to a layer. When using Sequential models, prefer using an `Input(shape)` object as the first layer in the model instead.\n",
      "  super().__init__(activity_regularizer=activity_regularizer, **kwargs)\n"
     ]
    },
    {
     "name": "stdout",
     "output_type": "stream",
     "text": [
      "\u001b[1m11069/11069\u001b[0m \u001b[32m━━━━━━━━━━━━━━━━━━━━\u001b[0m\u001b[37m\u001b[0m \u001b[1m7s\u001b[0m 637us/step\n",
      "\u001b[1m11069/11069\u001b[0m \u001b[32m━━━━━━━━━━━━━━━━━━━━\u001b[0m\u001b[37m\u001b[0m \u001b[1m7s\u001b[0m 640us/step\n"
     ]
    },
    {
     "name": "stderr",
     "output_type": "stream",
     "text": [
      "WARNING:absl:You are saving your model as an HDF5 file via `model.save()` or `keras.saving.save_model(model)`. This file format is considered legacy. We recommend using instead the native Keras format, e.g. `model.save('my_model.keras')` or `keras.saving.save_model(model, 'my_model.keras')`. \n"
     ]
    },
    {
     "name": "stdout",
     "output_type": "stream",
     "text": [
      "Model completed: VIX\n",
      "Layers: 2 Nodes: 32 Dropout: False\n",
      "ANN Val MSE: 5.917049822206829e-06 MAPE: 0.6678869754185818\n",
      "ANN Test MSE: 5.419610098369496e-06 MAPE: 0.36029318991642556\n",
      "Saving Model\n",
      "Model saved\n",
      "Execution time: 35.614760637283325\n"
     ]
    },
    {
     "name": "stderr",
     "output_type": "stream",
     "text": [
      "c:\\ProgramData\\anaconda3\\Lib\\site-packages\\keras\\src\\layers\\core\\dense.py:87: UserWarning: Do not pass an `input_shape`/`input_dim` argument to a layer. When using Sequential models, prefer using an `Input(shape)` object as the first layer in the model instead.\n",
      "  super().__init__(activity_regularizer=activity_regularizer, **kwargs)\n"
     ]
    },
    {
     "name": "stdout",
     "output_type": "stream",
     "text": [
      "\u001b[1m11069/11069\u001b[0m \u001b[32m━━━━━━━━━━━━━━━━━━━━\u001b[0m\u001b[37m\u001b[0m \u001b[1m7s\u001b[0m 638us/step\n",
      "\u001b[1m11069/11069\u001b[0m \u001b[32m━━━━━━━━━━━━━━━━━━━━\u001b[0m\u001b[37m\u001b[0m \u001b[1m7s\u001b[0m 640us/step\n"
     ]
    },
    {
     "name": "stderr",
     "output_type": "stream",
     "text": [
      "WARNING:absl:You are saving your model as an HDF5 file via `model.save()` or `keras.saving.save_model(model)`. This file format is considered legacy. We recommend using instead the native Keras format, e.g. `model.save('my_model.keras')` or `keras.saving.save_model(model, 'my_model.keras')`. \n"
     ]
    },
    {
     "name": "stdout",
     "output_type": "stream",
     "text": [
      "Model completed: VIX\n",
      "Layers: 2 Nodes: 64 Dropout: True\n",
      "ANN Val MSE: 1.54527703006377e-05 MAPE: 2.564079933469103\n",
      "ANN Test MSE: 7.036698952981477e-06 MAPE: 0.5048424354746773\n",
      "Saving Model\n",
      "Model saved\n",
      "Execution time: 45.40923833847046\n"
     ]
    },
    {
     "name": "stderr",
     "output_type": "stream",
     "text": [
      "c:\\ProgramData\\anaconda3\\Lib\\site-packages\\keras\\src\\layers\\core\\dense.py:87: UserWarning: Do not pass an `input_shape`/`input_dim` argument to a layer. When using Sequential models, prefer using an `Input(shape)` object as the first layer in the model instead.\n",
      "  super().__init__(activity_regularizer=activity_regularizer, **kwargs)\n"
     ]
    },
    {
     "name": "stdout",
     "output_type": "stream",
     "text": [
      "\u001b[1m11069/11069\u001b[0m \u001b[32m━━━━━━━━━━━━━━━━━━━━\u001b[0m\u001b[37m\u001b[0m \u001b[1m7s\u001b[0m 665us/step\n",
      "\u001b[1m11069/11069\u001b[0m \u001b[32m━━━━━━━━━━━━━━━━━━━━\u001b[0m\u001b[37m\u001b[0m \u001b[1m7s\u001b[0m 645us/step\n"
     ]
    },
    {
     "name": "stderr",
     "output_type": "stream",
     "text": [
      "WARNING:absl:You are saving your model as an HDF5 file via `model.save()` or `keras.saving.save_model(model)`. This file format is considered legacy. We recommend using instead the native Keras format, e.g. `model.save('my_model.keras')` or `keras.saving.save_model(model, 'my_model.keras')`. \n"
     ]
    },
    {
     "name": "stdout",
     "output_type": "stream",
     "text": [
      "Model completed: VIX\n",
      "Layers: 2 Nodes: 64 Dropout: False\n",
      "ANN Val MSE: 5.030369087365327e-06 MAPE: 0.46210752571496055\n",
      "ANN Test MSE: 3.4842642165929824e-06 MAPE: 0.37650069431607047\n",
      "Saving Model\n",
      "Model saved\n",
      "Execution time: 38.15974736213684\n"
     ]
    },
    {
     "name": "stderr",
     "output_type": "stream",
     "text": [
      "c:\\ProgramData\\anaconda3\\Lib\\site-packages\\keras\\src\\layers\\core\\dense.py:87: UserWarning: Do not pass an `input_shape`/`input_dim` argument to a layer. When using Sequential models, prefer using an `Input(shape)` object as the first layer in the model instead.\n",
      "  super().__init__(activity_regularizer=activity_regularizer, **kwargs)\n"
     ]
    },
    {
     "name": "stdout",
     "output_type": "stream",
     "text": [
      "\u001b[1m11069/11069\u001b[0m \u001b[32m━━━━━━━━━━━━━━━━━━━━\u001b[0m\u001b[37m\u001b[0m \u001b[1m7s\u001b[0m 637us/step\n",
      "\u001b[1m11069/11069\u001b[0m \u001b[32m━━━━━━━━━━━━━━━━━━━━\u001b[0m\u001b[37m\u001b[0m \u001b[1m7s\u001b[0m 650us/step\n"
     ]
    },
    {
     "name": "stderr",
     "output_type": "stream",
     "text": [
      "WARNING:absl:You are saving your model as an HDF5 file via `model.save()` or `keras.saving.save_model(model)`. This file format is considered legacy. We recommend using instead the native Keras format, e.g. `model.save('my_model.keras')` or `keras.saving.save_model(model, 'my_model.keras')`. \n"
     ]
    },
    {
     "name": "stdout",
     "output_type": "stream",
     "text": [
      "Model completed: VIX\n",
      "Layers: 2 Nodes: 128 Dropout: True\n",
      "ANN Val MSE: 1.2946567898146382e-05 MAPE: 1.4460007387087408\n",
      "ANN Test MSE: 2.9988883773628705e-06 MAPE: 0.8985331375097592\n",
      "Saving Model\n",
      "Model saved\n",
      "Execution time: 51.417754888534546\n"
     ]
    },
    {
     "name": "stderr",
     "output_type": "stream",
     "text": [
      "c:\\ProgramData\\anaconda3\\Lib\\site-packages\\keras\\src\\layers\\core\\dense.py:87: UserWarning: Do not pass an `input_shape`/`input_dim` argument to a layer. When using Sequential models, prefer using an `Input(shape)` object as the first layer in the model instead.\n",
      "  super().__init__(activity_regularizer=activity_regularizer, **kwargs)\n"
     ]
    },
    {
     "name": "stdout",
     "output_type": "stream",
     "text": [
      "\u001b[1m11069/11069\u001b[0m \u001b[32m━━━━━━━━━━━━━━━━━━━━\u001b[0m\u001b[37m\u001b[0m \u001b[1m8s\u001b[0m 694us/step\n",
      "\u001b[1m11069/11069\u001b[0m \u001b[32m━━━━━━━━━━━━━━━━━━━━\u001b[0m\u001b[37m\u001b[0m \u001b[1m7s\u001b[0m 651us/step\n"
     ]
    },
    {
     "name": "stderr",
     "output_type": "stream",
     "text": [
      "WARNING:absl:You are saving your model as an HDF5 file via `model.save()` or `keras.saving.save_model(model)`. This file format is considered legacy. We recommend using instead the native Keras format, e.g. `model.save('my_model.keras')` or `keras.saving.save_model(model, 'my_model.keras')`. \n"
     ]
    },
    {
     "name": "stdout",
     "output_type": "stream",
     "text": [
      "Model completed: VIX\n",
      "Layers: 2 Nodes: 128 Dropout: False\n",
      "ANN Val MSE: 5.014140314029649e-06 MAPE: 0.6265890529288795\n",
      "ANN Test MSE: 3.12474929090821e-06 MAPE: 0.5964386210186733\n",
      "Saving Model\n",
      "Model saved\n",
      "Execution time: 41.24096179008484\n"
     ]
    },
    {
     "name": "stderr",
     "output_type": "stream",
     "text": [
      "c:\\ProgramData\\anaconda3\\Lib\\site-packages\\keras\\src\\layers\\core\\dense.py:87: UserWarning: Do not pass an `input_shape`/`input_dim` argument to a layer. When using Sequential models, prefer using an `Input(shape)` object as the first layer in the model instead.\n",
      "  super().__init__(activity_regularizer=activity_regularizer, **kwargs)\n"
     ]
    },
    {
     "name": "stdout",
     "output_type": "stream",
     "text": [
      "\u001b[1m11069/11069\u001b[0m \u001b[32m━━━━━━━━━━━━━━━━━━━━\u001b[0m\u001b[37m\u001b[0m \u001b[1m7s\u001b[0m 650us/step\n",
      "\u001b[1m11069/11069\u001b[0m \u001b[32m━━━━━━━━━━━━━━━━━━━━\u001b[0m\u001b[37m\u001b[0m \u001b[1m7s\u001b[0m 657us/step\n"
     ]
    },
    {
     "name": "stderr",
     "output_type": "stream",
     "text": [
      "WARNING:absl:You are saving your model as an HDF5 file via `model.save()` or `keras.saving.save_model(model)`. This file format is considered legacy. We recommend using instead the native Keras format, e.g. `model.save('my_model.keras')` or `keras.saving.save_model(model, 'my_model.keras')`. \n"
     ]
    },
    {
     "name": "stdout",
     "output_type": "stream",
     "text": [
      "Model completed: VIX\n",
      "Layers: 3 Nodes: 32 Dropout: True\n",
      "ANN Val MSE: 2.275353289497098e-05 MAPE: 1.9650517755665338\n",
      "ANN Test MSE: 2.0320564586396716e-05 MAPE: 0.4784022815266109\n",
      "Saving Model\n",
      "Model saved\n",
      "Execution time: 45.72196888923645\n"
     ]
    },
    {
     "name": "stderr",
     "output_type": "stream",
     "text": [
      "c:\\ProgramData\\anaconda3\\Lib\\site-packages\\keras\\src\\layers\\core\\dense.py:87: UserWarning: Do not pass an `input_shape`/`input_dim` argument to a layer. When using Sequential models, prefer using an `Input(shape)` object as the first layer in the model instead.\n",
      "  super().__init__(activity_regularizer=activity_regularizer, **kwargs)\n"
     ]
    },
    {
     "name": "stdout",
     "output_type": "stream",
     "text": [
      "\u001b[1m11069/11069\u001b[0m \u001b[32m━━━━━━━━━━━━━━━━━━━━\u001b[0m\u001b[37m\u001b[0m \u001b[1m8s\u001b[0m 719us/step\n",
      "\u001b[1m11069/11069\u001b[0m \u001b[32m━━━━━━━━━━━━━━━━━━━━\u001b[0m\u001b[37m\u001b[0m \u001b[1m8s\u001b[0m 685us/step\n"
     ]
    },
    {
     "name": "stderr",
     "output_type": "stream",
     "text": [
      "WARNING:absl:You are saving your model as an HDF5 file via `model.save()` or `keras.saving.save_model(model)`. This file format is considered legacy. We recommend using instead the native Keras format, e.g. `model.save('my_model.keras')` or `keras.saving.save_model(model, 'my_model.keras')`. \n"
     ]
    },
    {
     "name": "stdout",
     "output_type": "stream",
     "text": [
      "Model completed: VIX\n",
      "Layers: 3 Nodes: 32 Dropout: False\n",
      "ANN Val MSE: 0.0024797725505845843 MAPE: 0.9745008921824218\n",
      "ANN Test MSE: 0.0029165828069693226 MAPE: 0.9678430552423055\n",
      "Saving Model\n",
      "Model saved\n",
      "Execution time: 39.154337644577026\n"
     ]
    },
    {
     "name": "stderr",
     "output_type": "stream",
     "text": [
      "c:\\ProgramData\\anaconda3\\Lib\\site-packages\\keras\\src\\layers\\core\\dense.py:87: UserWarning: Do not pass an `input_shape`/`input_dim` argument to a layer. When using Sequential models, prefer using an `Input(shape)` object as the first layer in the model instead.\n",
      "  super().__init__(activity_regularizer=activity_regularizer, **kwargs)\n"
     ]
    },
    {
     "name": "stdout",
     "output_type": "stream",
     "text": [
      "\u001b[1m11069/11069\u001b[0m \u001b[32m━━━━━━━━━━━━━━━━━━━━\u001b[0m\u001b[37m\u001b[0m \u001b[1m8s\u001b[0m 692us/step\n",
      "\u001b[1m11069/11069\u001b[0m \u001b[32m━━━━━━━━━━━━━━━━━━━━\u001b[0m\u001b[37m\u001b[0m \u001b[1m7s\u001b[0m 672us/step\n"
     ]
    },
    {
     "name": "stderr",
     "output_type": "stream",
     "text": [
      "WARNING:absl:You are saving your model as an HDF5 file via `model.save()` or `keras.saving.save_model(model)`. This file format is considered legacy. We recommend using instead the native Keras format, e.g. `model.save('my_model.keras')` or `keras.saving.save_model(model, 'my_model.keras')`. \n"
     ]
    },
    {
     "name": "stdout",
     "output_type": "stream",
     "text": [
      "Model completed: VIX\n",
      "Layers: 3 Nodes: 64 Dropout: True\n",
      "ANN Val MSE: 1.2673864652171202e-05 MAPE: 3.226141357749001\n",
      "ANN Test MSE: 9.361496378914442e-06 MAPE: 3.6449300723241964\n",
      "Saving Model\n",
      "Model saved\n",
      "Execution time: 53.76995515823364\n"
     ]
    },
    {
     "name": "stderr",
     "output_type": "stream",
     "text": [
      "c:\\ProgramData\\anaconda3\\Lib\\site-packages\\keras\\src\\layers\\core\\dense.py:87: UserWarning: Do not pass an `input_shape`/`input_dim` argument to a layer. When using Sequential models, prefer using an `Input(shape)` object as the first layer in the model instead.\n",
      "  super().__init__(activity_regularizer=activity_regularizer, **kwargs)\n"
     ]
    },
    {
     "name": "stdout",
     "output_type": "stream",
     "text": [
      "\u001b[1m11069/11069\u001b[0m \u001b[32m━━━━━━━━━━━━━━━━━━━━\u001b[0m\u001b[37m\u001b[0m \u001b[1m8s\u001b[0m 727us/step\n",
      "\u001b[1m11069/11069\u001b[0m \u001b[32m━━━━━━━━━━━━━━━━━━━━\u001b[0m\u001b[37m\u001b[0m \u001b[1m7s\u001b[0m 670us/step\n"
     ]
    },
    {
     "name": "stderr",
     "output_type": "stream",
     "text": [
      "WARNING:absl:You are saving your model as an HDF5 file via `model.save()` or `keras.saving.save_model(model)`. This file format is considered legacy. We recommend using instead the native Keras format, e.g. `model.save('my_model.keras')` or `keras.saving.save_model(model, 'my_model.keras')`. \n"
     ]
    },
    {
     "name": "stdout",
     "output_type": "stream",
     "text": [
      "Model completed: VIX\n",
      "Layers: 3 Nodes: 64 Dropout: False\n",
      "ANN Val MSE: 7.490152671907021e-06 MAPE: 1.0414627737733226\n",
      "ANN Test MSE: 2.6312090981886923e-06 MAPE: 0.6363962520233202\n",
      "Saving Model\n",
      "Model saved\n",
      "Execution time: 42.161311626434326\n"
     ]
    },
    {
     "name": "stderr",
     "output_type": "stream",
     "text": [
      "c:\\ProgramData\\anaconda3\\Lib\\site-packages\\keras\\src\\layers\\core\\dense.py:87: UserWarning: Do not pass an `input_shape`/`input_dim` argument to a layer. When using Sequential models, prefer using an `Input(shape)` object as the first layer in the model instead.\n",
      "  super().__init__(activity_regularizer=activity_regularizer, **kwargs)\n"
     ]
    },
    {
     "name": "stdout",
     "output_type": "stream",
     "text": [
      "\u001b[1m11069/11069\u001b[0m \u001b[32m━━━━━━━━━━━━━━━━━━━━\u001b[0m\u001b[37m\u001b[0m \u001b[1m8s\u001b[0m 680us/step\n",
      "\u001b[1m11069/11069\u001b[0m \u001b[32m━━━━━━━━━━━━━━━━━━━━\u001b[0m\u001b[37m\u001b[0m \u001b[1m8s\u001b[0m 696us/step\n"
     ]
    },
    {
     "name": "stderr",
     "output_type": "stream",
     "text": [
      "WARNING:absl:You are saving your model as an HDF5 file via `model.save()` or `keras.saving.save_model(model)`. This file format is considered legacy. We recommend using instead the native Keras format, e.g. `model.save('my_model.keras')` or `keras.saving.save_model(model, 'my_model.keras')`. \n"
     ]
    },
    {
     "name": "stdout",
     "output_type": "stream",
     "text": [
      "Model completed: VIX\n",
      "Layers: 3 Nodes: 128 Dropout: True\n",
      "ANN Val MSE: 1.8686559209415262e-05 MAPE: 1.983854891565909\n",
      "ANN Test MSE: 7.473331336194535e-06 MAPE: 1.1424278852352412\n",
      "Saving Model\n",
      "Model saved\n",
      "Execution time: 63.140581369400024\n"
     ]
    },
    {
     "name": "stderr",
     "output_type": "stream",
     "text": [
      "c:\\ProgramData\\anaconda3\\Lib\\site-packages\\keras\\src\\layers\\core\\dense.py:87: UserWarning: Do not pass an `input_shape`/`input_dim` argument to a layer. When using Sequential models, prefer using an `Input(shape)` object as the first layer in the model instead.\n",
      "  super().__init__(activity_regularizer=activity_regularizer, **kwargs)\n"
     ]
    },
    {
     "name": "stdout",
     "output_type": "stream",
     "text": [
      "\u001b[1m11069/11069\u001b[0m \u001b[32m━━━━━━━━━━━━━━━━━━━━\u001b[0m\u001b[37m\u001b[0m \u001b[1m8s\u001b[0m 688us/step\n",
      "\u001b[1m11069/11069\u001b[0m \u001b[32m━━━━━━━━━━━━━━━━━━━━\u001b[0m\u001b[37m\u001b[0m \u001b[1m8s\u001b[0m 716us/step\n"
     ]
    },
    {
     "name": "stderr",
     "output_type": "stream",
     "text": [
      "WARNING:absl:You are saving your model as an HDF5 file via `model.save()` or `keras.saving.save_model(model)`. This file format is considered legacy. We recommend using instead the native Keras format, e.g. `model.save('my_model.keras')` or `keras.saving.save_model(model, 'my_model.keras')`. \n"
     ]
    },
    {
     "name": "stdout",
     "output_type": "stream",
     "text": [
      "Model completed: VIX\n",
      "Layers: 3 Nodes: 128 Dropout: False\n",
      "ANN Val MSE: 0.0024797725505845843 MAPE: 0.9745008921824218\n",
      "ANN Test MSE: 0.0029165828069693226 MAPE: 0.9678430552423055\n",
      "Saving Model\n",
      "Model saved\n",
      "Execution time: 47.17839765548706\n"
     ]
    }
   ],
   "source": [
    "\n",
    "volatility_model_list = ['vol10', 'vol30', 'vol60', 'GARCH', 'VIX']\n",
    "errorList_csv = ['diff_train.csv', 'diff_val.csv']\n",
    "\n",
    "# build the model for the hyperparameter grid and a specific volatility model\n",
    "\n",
    "y_train = y_train.flatten()\n",
    "y_val = y_val.flatten()\n",
    "y_test = y_test.flatten()\n",
    "\n",
    "for volatility in range(len(volatility_model_list)):\n",
    "    for layers in param_grid['n_hidden']:\n",
    "        for nodes in param_grid['n_neurons']:\n",
    "            for dropout in param_grid['use_dropout']:\n",
    "                start_time = time.time()\n",
    "\n",
    "                initial_learning_rate = 0.001\n",
    "                lr_schedule = tf.keras.optimizers.schedules.ExponentialDecay(\n",
    "                    initial_learning_rate=initial_learning_rate,\n",
    "                    decay_steps=4000,   # Adjust this to suit your data size\n",
    "                    decay_rate=0.96,     # The rate at which the learning rate decays\n",
    "                    staircase=True       # If True, the learning rate decays in discrete steps\n",
    "                )\n",
    "\n",
    "                # Build model (assuming `create_model` is your model creation function)\n",
    "                model = create_model(num_layers=layers, nodes=nodes, dropout_rate=dropout, learning_rate_schedule=lr_schedule)\n",
    "\n",
    "                # Prepare training and validation data without using `tf.data`\n",
    "                #X_train_sc = np.append(X_train_scaled, np.resize(vol_train_scaled[:, volatility], (len(vol_train_scaled), 1)), axis=1)\n",
    "                X_val_sc = np.append(X_val_scaled, np.resize(vol_val_scaled[:, volatility], (len(vol_val_scaled), 1)), axis=1)\n",
    "                X_test_sc = np.append(X_test_scaled, np.resize(vol_test_scaled[:, volatility], (len(vol_test_scaled), 1)), axis=1)\n",
    "                #X_train_val_sc = np.append(X_train_val_scaled, np.resize(vol_train_val_scaled[:, volatility], (len(vol_train_val_scaled), 1)), axis=1)\n",
    "                \n",
    "                \n",
    "                model.fit(X_val_sc, y_val_scaled, epochs=20, batch_size=1024, verbose=0)\n",
    "\n",
    "                # After training, validate by predicting on the validation set\n",
    "                # y_train_pred = scaler_y.inverse_transform(np.float64(model.predict(X_train_sc))).flatten()\n",
    "                y_val_pred = scaler_y.inverse_transform(np.float64(model.predict(X_val_sc))).flatten()\n",
    "\n",
    "                # fit the model again where the train and validation set is combined and the model is tested on the test set\n",
    "\n",
    "                model.fit(X_test_sc, y_test_scaled, epochs=20, batch_size=1024, verbose=0)\n",
    "\n",
    "                y_test_pred = scaler_y.inverse_transform(np.float64(model.predict(X_test_sc))).flatten()\n",
    "\n",
    "                # ANN Evaluation Metrics\n",
    "                #diff_train = y_train - y_train_pred\n",
    "                #mse_train = np.mean(diff_train**2)\n",
    "                #mape_train = np.mean(np.abs(diff_train / y_train))\n",
    "                diff_val = y_val - y_val_pred\n",
    "                mse_val = np.mean(diff_val**2)\n",
    "                mape_val = np.mean(np.abs(diff_val / y_val))\n",
    "                diff_test = y_test - y_test_pred\n",
    "                mse_test = np.mean(diff_test**2)\n",
    "                mape_test = np.mean(np.abs(diff_test / y_test))\n",
    "\n",
    "                # BSM Evaluation Metrics\n",
    "                #diff_BSM_train = y_train - BSM_train[:, volatility]\n",
    "                #mse_BSM_train = np.mean(diff_BSM_train**2)\n",
    "                #mape_BSM_train = np.mean(np.abs(diff_BSM_train / y_train))\n",
    "                # diff_BSM_val = y_val - BSM_val[:, volatility]\n",
    "                # mse_BSM_val = np.mean(diff_BSM_val**2)\n",
    "                # mape_BSM_val = np.mean(np.abs(diff_BSM_val / y_val))\n",
    "\n",
    "                # Print the results\n",
    "                print('Model completed:', volatility_model_list[volatility])\n",
    "                print('Layers:', layers, 'Nodes:', nodes, 'Dropout:', dropout)\n",
    "                # print('ANN Train MSE:', mse_train, 'MAPE:', mape_train)\n",
    "                print('ANN Val MSE:', mse_val, 'MAPE:', mape_val)\n",
    "                print('ANN Test MSE:', mse_test, 'MAPE:', mape_test)\n",
    "                # print('BSM Train MSE:', mse_BSM_train, 'MAPE:', mape_BSM_train)\n",
    "                # print('BSM Val MSE:', mse_BSM_val, 'MAPE:', mape_BSM_val)\n",
    "\n",
    "                # Save the model\n",
    "                print('Saving Model')\n",
    "                model.save('C:/Users/User/Desktop/Data speciale/NeuralNetModels/Saved models/V2/' +\n",
    "                           f'model_{volatility_model_list[volatility]}_layers{layers}_nodes{nodes}_dropout{dropout}.h5')\n",
    "\n",
    "                # Save ANN Evaluation Metrics to CSV\n",
    "                df = pd.DataFrame({\n",
    "                    'Model': ['ANN']*2,\n",
    "                    'Volatility Model': [volatility_model_list[volatility]]*2,\n",
    "                    'Layers': [layers]*2,\n",
    "                    'Nodes': [nodes]*2,\n",
    "                    'Dropout': [dropout]*2,\n",
    "                    'MSE': [mse_val, mse_test],\n",
    "                    'MAPE': [mape_val, mape_test],\n",
    "                    'Val/Test': ['Val', 'Test']\n",
    "                })\n",
    "                df.to_csv('C:/Users/User/Desktop/Data speciale/NeuralNetModels/Results/ANN_results_newMethod_v3.csv',\n",
    "                          mode='a', header=False, index=False)\n",
    "\n",
    "                # Save residuals\n",
    "                #print('Saving Residuals')\n",
    "                #errorList = [diff_train, diff_val]\n",
    "                #for j in range(len(errorList)):\n",
    "                #    df = pd.DataFrame(errorList[j])\n",
    "                #    df.to_csv(f'C:/Users/User/Desktop/Data speciale/NeuralNetModels/Residuals/'\n",
    "                #              f'model_{volatility_model_list[volatility]}_layers{layers}_nodes{nodes}_dropout{dropout}_{errorList_csv[j]}.csv',\n",
    "                #              index=False)\n",
    "\n",
    "                print('Model saved')\n",
    "                end_time = time.time()\n",
    "                execution_time = end_time - start_time\n",
    "                print('Execution time:', execution_time)\n",
    "                    \n",
    "                \n",
    "                \n",
    "                        \n",
    "\n",
    "\n",
    "    \n",
    "\n"
   ]
  },
  {
   "cell_type": "markdown",
   "metadata": {},
   "source": [
    "# Final model prediction on test data"
   ]
  },
  {
   "cell_type": "code",
   "execution_count": 4,
   "metadata": {},
   "outputs": [
    {
     "name": "stderr",
     "output_type": "stream",
     "text": [
      "WARNING:absl:Compiled the loaded model, but the compiled metrics have yet to be built. `model.compile_metrics` will be empty until you train or evaluate the model.\n",
      "WARNING:absl:Compiled the loaded model, but the compiled metrics have yet to be built. `model.compile_metrics` will be empty until you train or evaluate the model.\n",
      "WARNING:absl:Compiled the loaded model, but the compiled metrics have yet to be built. `model.compile_metrics` will be empty until you train or evaluate the model.\n",
      "WARNING:absl:Compiled the loaded model, but the compiled metrics have yet to be built. `model.compile_metrics` will be empty until you train or evaluate the model.\n",
      "WARNING:absl:Compiled the loaded model, but the compiled metrics have yet to be built. `model.compile_metrics` will be empty until you train or evaluate the model.\n"
     ]
    }
   ],
   "source": [
    "\n",
    "\n",
    "ANN_results = pd.read_csv('C:/Users/User/Desktop/Data speciale/NeuralNetModels/Results/ANN_Results.csv')\n",
    "\n",
    "# load the best model\n",
    "model_VIX = tf.keras.models.load_model('C:/Users/User/Desktop/Data speciale/NeuralNetModels/Saved models/V2/model_VIX_layers3_nodes64_dropoutFalse.h5')\n",
    "\n",
    "model_GARCH = tf.keras.models.load_model('C:/Users/User/Desktop/Data speciale/NeuralNetModels/Saved models/V2/model_GARCH_layers1_nodes128_dropoutTrue.h5')\n",
    "\n",
    "model_vol60 = tf.keras.models.load_model('C:/Users/User/Desktop/Data speciale/NeuralNetModels/Saved models/V2/model_vol60_layers1_nodes128_dropoutFalse.h5')\n",
    "\n",
    "model_vol30 = tf.keras.models.load_model('C:/Users/User/Desktop/Data speciale/NeuralNetModels/Saved models/V2/model_vol30_layers1_nodes32_dropoutFalse.h5')\n",
    "\n",
    "model_vol10 = tf.keras.models.load_model('C:/Users/User/Desktop/Data speciale/NeuralNetModels/Saved models/V2/model_vol10_layers1_nodes32_dropoutFalse.h5')\n"
   ]
  },
  {
   "cell_type": "code",
   "execution_count": 5,
   "metadata": {},
   "outputs": [],
   "source": [
    "df = df.sort_index()\n",
    "df.dropna(inplace=True)\n",
    "\n",
    "# Define the sizes for each split\n",
    "train_size = int(0.80 * len(df))\n",
    "val_size = int(0.10 * len(df))\n",
    "test_size = len(df) - train_size - val_size  # Remaining data for testing\n",
    "\n",
    "# Split the data based on the calculated sizes\n",
    "train_df = df.iloc[:train_size]\n",
    "val_df = df.iloc[train_size:train_size + val_size]\n",
    "test_df = df.iloc[train_size + val_size:]\n",
    "\n",
    "# Selecting features and targets for each dataset\n",
    "features = ['Moneyness (M)', 'Time to maturity (T)', 'Risk free rate (r)', \n",
    "            'BS (vol10)', 'BS (vol30)', 'BS (vol60)', 'BS GARCH', 'BS VIX',\n",
    "            'vol10', 'vol30', 'vol60', 'GARCH', 'VIX', 'Year', 'Strike (K)']\n",
    "target = ['Option Price (C)']\n",
    "\n",
    "# Separate X and y for each split\n",
    "X_train = train_df[features].values\n",
    "X_val = val_df[features].values\n",
    "X_test = test_df[features].values\n",
    "\n",
    "y_train = train_df[target].values\n",
    "y_val = val_df[target].values\n",
    "y_test = test_df[target].values\n",
    "\n",
    "# Extract specific columns for additional variables as required\n",
    "strike_train, strike_val, strike_test = X_train[:, -1], X_val[:, -1], X_test[:, -1]\n",
    "year_train, year_val, year_test = X_train[:, -2], X_val[:, -2], X_test[:, -2]\n",
    "BSM_train, BSM_val, BSM_test = X_train[:, 3:8], X_val[:, 3:8], X_test[:, 3:8]\n",
    "vol_train, vol_val, vol_test = X_train[:, 8:13], X_val[:, 8:13], X_test[:, 8:13]\n",
    "\n",
    "# Narrow down to the first three columns for X_train, X_val, and X_test as desired\n",
    "X_train = X_train[:, :3]\n",
    "X_val = X_val[:, :3]\n",
    "X_test = X_test[:, :3]\n",
    "\n",
    "# (Optional) Combine train and validation data for full training/validation set\n",
    "X_train_val = np.concatenate((X_train, X_val), axis=0)\n",
    "y_train_val = np.concatenate((y_train, y_val), axis=0)\n",
    "vol_train_val = np.concatenate((vol_train, vol_val), axis=0)\n",
    "\n",
    "\n",
    "# Scale the data\n",
    "scaler = MinMaxScaler()\n",
    "X_train_scaled = scaler.fit_transform(X_train)\n",
    "X_val_scaled = scaler.transform(X_val)\n",
    "X_test_scaled = scaler.transform(X_test)\n",
    "X_train_val_scaled = scaler.transform(X_train_val)\n",
    "\n",
    "scaler_y = MinMaxScaler()\n",
    "y_train_scaled = scaler_y.fit_transform(y_train)\n",
    "y_val_scaled = scaler_y.transform(y_val)\n",
    "y_test_scaled = scaler_y.transform(y_test)\n",
    "y_train_val_scaled = scaler_y.transform(y_train_val)\n",
    "\n",
    "scaler_vol = MinMaxScaler()\n",
    "vol_train_scaled = scaler_vol.fit_transform(vol_train)\n",
    "vol_val_scaled = scaler_vol.transform(vol_val)\n",
    "vol_test_scaled = scaler_vol.transform(vol_test)\n",
    "vol_train_val_scaled = scaler_vol.transform(vol_train_val)\n"
   ]
  },
  {
   "cell_type": "code",
   "execution_count": 7,
   "metadata": {},
   "outputs": [
    {
     "name": "stdout",
     "output_type": "stream",
     "text": [
      "\u001b[1m11069/11069\u001b[0m \u001b[32m━━━━━━━━━━━━━━━━━━━━\u001b[0m\u001b[37m\u001b[0m \u001b[1m8s\u001b[0m 724us/step\n",
      "\u001b[1m11069/11069\u001b[0m \u001b[32m━━━━━━━━━━━━━━━━━━━━\u001b[0m\u001b[37m\u001b[0m \u001b[1m8s\u001b[0m 677us/step\n",
      "\u001b[1m11069/11069\u001b[0m \u001b[32m━━━━━━━━━━━━━━━━━━━━\u001b[0m\u001b[37m\u001b[0m \u001b[1m7s\u001b[0m 648us/step\n",
      "\u001b[1m11069/11069\u001b[0m \u001b[32m━━━━━━━━━━━━━━━━━━━━\u001b[0m\u001b[37m\u001b[0m \u001b[1m7s\u001b[0m 640us/step\n",
      "\u001b[1m11069/11069\u001b[0m \u001b[32m━━━━━━━━━━━━━━━━━━━━\u001b[0m\u001b[37m\u001b[0m \u001b[1m7s\u001b[0m 648us/step\n"
     ]
    }
   ],
   "source": [
    "# predict the option prices for the test set for each model\n",
    "\n",
    "X_train_sc = np.append(X_train_scaled, np.resize(vol_train_scaled[:,4], (len(vol_train_scaled),1)), axis=1)\n",
    "X_test_sc = np.append(X_test_scaled, np.resize(vol_test_scaled[:,4], (len(vol_test_scaled),1)), axis=1)\n",
    "#model_VIX = create_model(num_layers=2, nodes=128, dropout_rate=True, learning_rate=0.001)\n",
    "#model_VIX.fit(X_train_sc, y_train_scaled, epochs=30, batch_size=4096, verbose=0)\n",
    "y_pred_VIX = scaler_y.inverse_transform(np.float64(model_VIX.predict(X_test_sc))).flatten()\n",
    "\n",
    "X_train_sc = np.append(X_train_scaled, np.resize(vol_train_scaled[:,3], (len(vol_train_scaled),1)), axis=1)\n",
    "X_test_sc = np.append(X_test_scaled, np.resize(vol_test_scaled[:,3], (len(vol_test_scaled),1)), axis=1)\n",
    "#model_GARCH = create_model(num_layers=2, nodes=64, dropout_rate=True, learning_rate=0.001)\n",
    "#model_GARCH.fit(X_train_sc, y_train_scaled, epochs=30, batch_size=4096, verbose=0)\n",
    "y_pred_GARCH = scaler_y.inverse_transform(np.float64(model_GARCH.predict(X_test_sc))).flatten()\n",
    "\n",
    "X_train_sc = np.append(X_train_scaled, np.resize(vol_train_scaled[:,2], (len(vol_train_scaled),1)), axis=1)\n",
    "X_test_sc = np.append(X_test_scaled, np.resize(vol_test_scaled[:,2], (len(vol_test_scaled),1)), axis=1)\n",
    "#model_vol60 = create_model(num_layers=2, nodes=128, dropout_rate=True, learning_rate=0.001)\n",
    "#model_vol60.fit(X_train_sc, y_train_scaled, epochs=30, batch_size=4096, verbose=0)\n",
    "y_pred_vol60 = scaler_y.inverse_transform(np.float64(model_vol60.predict(X_test_sc))).flatten()\n",
    "\n",
    "X_train_sc = np.append(X_train_scaled, np.resize(vol_train_scaled[:,1], (len(vol_train_scaled),1)), axis=1)\n",
    "X_test_sc = np.append(X_test_scaled, np.resize(vol_test_scaled[:,1], (len(vol_test_scaled),1)), axis=1)\n",
    "#model_vol30 = create_model(num_layers=2, nodes=32, dropout_rate=True, learning_rate=0.001)\n",
    "#model_vol30.fit(X_train_sc, y_train_scaled, epochs=30, batch_size=4096, verbose=0)\n",
    "y_pred_vol30 = scaler_y.inverse_transform(np.float64(model_vol30.predict(X_test_sc))).flatten()\n",
    "\n",
    "X_train_sc = np.append(X_train_scaled, np.resize(vol_train_scaled[:,0], (len(vol_train_scaled),1)), axis=1)\n",
    "X_test_sc = np.append(X_test_scaled, np.resize(vol_test_scaled[:,0], (len(vol_test_scaled),1)), axis=1)\n",
    "#model_vol10 = create_model(num_layers=2, nodes=32, dropout_rate=False, learning_rate=0.001)\n",
    "#model_vol10.fit(X_train_sc, y_train_scaled, epochs=30, batch_size=4096, verbose=0)\n",
    "y_pred_vol10 = scaler_y.inverse_transform(np.float64(model_vol10.predict(X_test_sc))).flatten()\n",
    "\n",
    "\n",
    "\n",
    "\n"
   ]
  },
  {
   "cell_type": "code",
   "execution_count": null,
   "metadata": {},
   "outputs": [],
   "source": [
    "# predict the option prices for the train set for each model\n",
    "\n",
    "X_train_sc = np.append(X_train_scaled, np.resize(vol_train_scaled[:,4], (len(vol_train_scaled),1)), axis=1)\n",
    "y_pred_VIX_train = scaler_y.inverse_transform(np.float64(model_VIX.predict(X_train_sc))).flatten()\n",
    "X_train_sc = np.append(X_train_scaled, np.resize(vol_train_scaled[:,3], (len(vol_train_scaled),1)), axis=1)\n",
    "y_pred_GARCH_train = scaler_y.inverse_transform(np.float64(model_GARCH.predict(X_train_sc))).flatten()\n",
    "X_train_sc = np.append(X_train_scaled, np.resize(vol_train_scaled[:,2], (len(vol_train_scaled),1)), axis=1)\n",
    "y_pred_vol60_train = scaler_y.inverse_transform(np.float64(model_vol60.predict(X_train_sc))).flatten()\n",
    "X_train_sc = np.append(X_train_scaled, np.resize(vol_train_scaled[:,1], (len(vol_train_scaled),1)), axis=1)\n",
    "y_pred_vol30_train = scaler_y.inverse_transform(np.float64(model_vol30.predict(X_train_sc))).flatten()\n",
    "X_train_sc = np.append(X_train_scaled, np.resize(vol_train_scaled[:,0], (len(vol_train_scaled),1)), axis=1)\n",
    "y_pred_vol10_train = scaler_y.inverse_transform(np.float64(model_vol10.predict(X_train_sc))).flatten()\n",
    "\n",
    "\n"
   ]
  },
  {
   "cell_type": "code",
   "execution_count": 8,
   "metadata": {},
   "outputs": [
    {
     "name": "stdout",
     "output_type": "stream",
     "text": [
      "ANN\n",
      "VIX\n",
      "Root Mean Squared Error:    0.0016221002121289217\n",
      "Mean Absolute Percentage Error:    0.6363962520233202\n",
      "Mean Squared Error:    2.6312090981886923e-06\n",
      "GARCH\n",
      "Root Mean Squared Error:    0.0018736411965094959\n",
      "Mean Absolute Percentage Error:    0.3001743774933886\n",
      "Mean Squared Error:    3.5105313332575354e-06\n",
      "vol60\n",
      "Root Mean Squared Error:    0.0018594357017327856\n",
      "Mean Absolute Percentage Error:    0.27069761754356575\n",
      "Mean Squared Error:    3.4575011288784966e-06\n",
      "vol30\n",
      "Root Mean Squared Error:    0.0018186994860515308\n",
      "Mean Absolute Percentage Error:    0.2870734829497763\n",
      "Mean Squared Error:    3.3076678205641026e-06\n",
      "vol10\n",
      "Root Mean Squared Error:    0.0018894169593269901\n",
      "Mean Absolute Percentage Error:    0.3338496914656722\n",
      "Mean Squared Error:    3.5698964461924488e-06\n",
      "BSM\n",
      "VIX\n",
      "Root Mean Squared Error:    0.004762270925748168\n",
      "Mean Absolute Percentage Error:    1.309242390269863\n",
      "Mean Squared Error:    2.267922437022631e-05\n",
      "GARCH\n",
      "Root Mean Squared Error:    0.008066832745909032\n",
      "Mean Absolute Percentage Error:    0.46692784506981283\n",
      "Mean Squared Error:    6.507379055047027e-05\n",
      "vol60\n",
      "Root Mean Squared Error:    0.0032351791815322917\n",
      "Mean Absolute Percentage Error:    0.46726007128790625\n",
      "Mean Squared Error:    1.0466384336619948e-05\n",
      "vol30\n",
      "Root Mean Squared Error:    0.003708178395274726\n",
      "Mean Absolute Percentage Error:    0.3413141898589058\n",
      "Mean Squared Error:    1.3750587011182242e-05\n",
      "vol10\n",
      "Root Mean Squared Error:    0.004702821022747084\n",
      "Mean Absolute Percentage Error:    0.4197199459767246\n",
      "Mean Squared Error:    2.2116525571991933e-05\n"
     ]
    }
   ],
   "source": [
    "\n",
    "\n",
    "\n",
    "\n",
    "# calculate the accuracy for each model\n",
    "print('ANN')\n",
    "print('VIX')\n",
    "stats_VIX = CheckAccuracy(y_test.flatten(), y_pred_VIX)\n",
    "print('GARCH')\n",
    "stats_GARCH = CheckAccuracy(y_test.flatten(), y_pred_GARCH)\n",
    "print('vol60')\n",
    "stats_vol60 = CheckAccuracy(y_test.flatten(), y_pred_vol60)\n",
    "print('vol30')\n",
    "stats_vol30 = CheckAccuracy(y_test.flatten(), y_pred_vol30)\n",
    "print('vol10')\n",
    "stats_vol10 = CheckAccuracy(y_test.flatten(), y_pred_vol10)\n",
    "\n",
    "# calculate the accuracy for the BS model \n",
    "print('BSM')\n",
    "print('VIX')\n",
    "stats_BSM_VIX = CheckAccuracy(y_test.flatten(), BSM_test[:,4].flatten())\n",
    "print('GARCH')\n",
    "stats_BSM_GARCH = CheckAccuracy(y_test.flatten(), BSM_test[:,3].flatten())\n",
    "print('vol60')\n",
    "stats_BSM_vol60 = CheckAccuracy(y_test.flatten(), BSM_test[:,2].flatten())\n",
    "print('vol30')\n",
    "stats_BSM_vol30 = CheckAccuracy(y_test.flatten(), BSM_test[:,1].flatten())\n",
    "print('vol10')\n",
    "stats_BSM_vol10 = CheckAccuracy(y_test.flatten(), BSM_test[:,0].flatten())"
   ]
  },
  {
   "cell_type": "code",
   "execution_count": 11,
   "metadata": {},
   "outputs": [
    {
     "name": "stderr",
     "output_type": "stream",
     "text": [
      "C:\\Users\\User\\AppData\\Local\\Temp\\ipykernel_60700\\2398540651.py:32: SettingWithCopyWarning: \n",
      "A value is trying to be set on a copy of a slice from a DataFrame.\n",
      "Try using .loc[row_indexer,col_indexer] = value instead\n",
      "\n",
      "See the caveats in the documentation: https://pandas.pydata.org/pandas-docs/stable/user_guide/indexing.html#returning-a-view-versus-a-copy\n",
      "  test_df['ANN VIX'] = y_pred_VIX\n",
      "C:\\Users\\User\\AppData\\Local\\Temp\\ipykernel_60700\\2398540651.py:33: SettingWithCopyWarning: \n",
      "A value is trying to be set on a copy of a slice from a DataFrame.\n",
      "Try using .loc[row_indexer,col_indexer] = value instead\n",
      "\n",
      "See the caveats in the documentation: https://pandas.pydata.org/pandas-docs/stable/user_guide/indexing.html#returning-a-view-versus-a-copy\n",
      "  test_df['ANN GARCH'] = y_pred_GARCH\n",
      "C:\\Users\\User\\AppData\\Local\\Temp\\ipykernel_60700\\2398540651.py:34: SettingWithCopyWarning: \n",
      "A value is trying to be set on a copy of a slice from a DataFrame.\n",
      "Try using .loc[row_indexer,col_indexer] = value instead\n",
      "\n",
      "See the caveats in the documentation: https://pandas.pydata.org/pandas-docs/stable/user_guide/indexing.html#returning-a-view-versus-a-copy\n",
      "  test_df['ANN vol60'] = y_pred_vol60\n",
      "C:\\Users\\User\\AppData\\Local\\Temp\\ipykernel_60700\\2398540651.py:35: SettingWithCopyWarning: \n",
      "A value is trying to be set on a copy of a slice from a DataFrame.\n",
      "Try using .loc[row_indexer,col_indexer] = value instead\n",
      "\n",
      "See the caveats in the documentation: https://pandas.pydata.org/pandas-docs/stable/user_guide/indexing.html#returning-a-view-versus-a-copy\n",
      "  test_df['ANN vol30'] = y_pred_vol30\n",
      "C:\\Users\\User\\AppData\\Local\\Temp\\ipykernel_60700\\2398540651.py:36: SettingWithCopyWarning: \n",
      "A value is trying to be set on a copy of a slice from a DataFrame.\n",
      "Try using .loc[row_indexer,col_indexer] = value instead\n",
      "\n",
      "See the caveats in the documentation: https://pandas.pydata.org/pandas-docs/stable/user_guide/indexing.html#returning-a-view-versus-a-copy\n",
      "  test_df['ANN vol10'] = y_pred_vol10\n"
     ]
    }
   ],
   "source": [
    "# join the results in on dataframe with X_test and y_test and the predictions and attach it to the original dataframe\n",
    "\n",
    "#df_val = df.loc[val_dates, ['Moneyness (M)', 'Time to maturity (T)', 'Risk free rate (r)',\n",
    "#                            'BS (vol10)', 'BS (vol30)', 'BS (vol60)', 'BS GARCH', 'BS VIX',\n",
    "#                            'vol10', 'vol30', 'vol60', 'GARCH', 'VIX', 'Year', 'Strike (K)', 'Option Price (C)', 'Stock (S)']]\n",
    "#df_val['ANN VIX'] = y_pred_VIX\n",
    "#df_val['ANN GARCH'] = y_pred_GARCH\n",
    "#df_val['ANN vol60'] = y_pred_vol60\n",
    "#df_val['ANN vol30'] = y_pred_vol30\n",
    "#df_val['ANN vol10'] = y_pred_vol10\n",
    "\n",
    "\n",
    "\n",
    "\n",
    "# do the same for train set \n",
    "\n",
    "#df_train = df.loc[train_dates, ['Moneyness (M)', 'Time to maturity (T)', 'Risk free rate (r)',\n",
    "#                            'BS (vol10)', 'BS (vol30)', 'BS (vol60)', 'BS GARCH', 'BS VIX',\n",
    "#                            'vol10', 'vol30', 'vol60', 'GARCH', 'VIX', 'Year', 'Strike (K)', 'Option Price (C)', 'Stock (S)']]\n",
    "#df_train['ANN VIX'] = y_pred_VIX_train\n",
    "#df_train['ANN GARCH'] = y_pred_GARCH_train\n",
    "#df_train['ANN vol60'] = y_pred_vol60_train\n",
    "#df_train['ANN vol30'] = y_pred_vol30_train\n",
    "#df_train['ANN vol10'] = y_pred_vol10_train\n",
    "\n",
    "\n",
    "\n",
    "# save the results to a csv file\n",
    "#df_val.to_csv('C:/Users/User/Desktop/Data speciale/NeuralNetModels/Results/NN_results_test.csv')\n",
    "#df_train.to_csv('C:/Users/User/Desktop/Data speciale/NeuralNetModels/Results/NN_results_train.csv')\n",
    "\n",
    "test_df['ANN VIX'] = y_pred_VIX\n",
    "test_df['ANN GARCH'] = y_pred_GARCH\n",
    "test_df['ANN vol60'] = y_pred_vol60\n",
    "test_df['ANN vol30'] = y_pred_vol30\n",
    "test_df['ANN vol10'] = y_pred_vol10\n",
    "\n",
    "\n",
    "test_df.to_csv('C:/Users/User/Desktop/Data speciale/NeuralNetModels/Results/NN_results_test_v2.csv')\n",
    "\n",
    "\n"
   ]
  },
  {
   "cell_type": "markdown",
   "metadata": {},
   "source": [
    "# Test performance metrics\n",
    "\n"
   ]
  },
  {
   "cell_type": "code",
   "execution_count": null,
   "metadata": {},
   "outputs": [],
   "source": [
    "\n",
    "# import every model in directory on the computer and predict the option prices for the test set then store the results in a csv file\n",
    "import os\n",
    "\n",
    "model_dir = 'C:/Users/User/Desktop/Data speciale/NeuralNetModels'\n",
    "model_list = os.listdir(model_dir)\n",
    "\n",
    "y_test = y_test.flatten()\n",
    "\n",
    "for model_name in model_list:\n",
    "    model = tf.keras.models.load_model(model_dir + '/' + model_name)\n",
    "    \n",
    "    # if model name contains 'vol10' then use the vol10 volatility model\n",
    "    if 'vol10' in model_name:\n",
    "        X_test_sc = np.append(X_test_scaled, np.resize(vol_test_scaled[:,0], (len(vol_test_scaled),1)), axis=1)\n",
    "    elif 'vol30' in model_name:\n",
    "        X_test_sc = np.append(X_test_scaled, np.resize(vol_test_scaled[:,1], (len(vol_test_scaled),1)), axis=1)\n",
    "    elif 'vol60' in model_name:\n",
    "        X_test_sc = np.append(X_test_scaled, np.resize(vol_test_scaled[:,2], (len(vol_test_scaled),1)), axis=1)\n",
    "    elif 'GARCH' in model_name:\n",
    "        X_test_sc = np.append(X_test_scaled, np.resize(vol_test_scaled[:,3], (len(vol_test_scaled),1)), axis=1)\n",
    "    elif 'VIX' in model_name:\n",
    "        X_test_sc = np.append(X_test_scaled, np.resize(vol_test_scaled[:,4], (len(vol_test_scaled),1)), axis=1)\n",
    "\n",
    "    y_pred = scaler_y.inverse_transform(np.float64(model.predict(X_test_sc))).flatten()\n",
    "    stats = CheckAccuracy(y_test, y_pred)\n",
    "    df = pd.DataFrame({\n",
    "        'Model': [model_name]*2,\n",
    "        'MSE': [stats['mse']]*2,\n",
    "        'MAPE': [stats['mape']]*2,\n",
    "        'Train/Test': ['Train', 'Test']\n",
    "    })\n",
    "    df.to_csv('C:/Users/User/Desktop/Data speciale/NeuralNetModels/Results/ANN_results_v3_test.csv',\n",
    "              mode='a', header=False, index=False)\n",
    "    print(model_name, 'completed')\n"
   ]
  },
  {
   "cell_type": "code",
   "execution_count": null,
   "metadata": {},
   "outputs": [],
   "source": [
    "# Build model (assuming `create_model` is your model creation function)\n",
    "\n",
    "model = create_model(num_layers=3, nodes=128, dropout_rate=False, learning_rate=0.001)\n",
    "\n",
    "# Prepare training and validation data without using `tf.data`\n",
    "X_train_sc = np.append(X_train_scaled, np.resize(vol_train_scaled[:, 4], (len(vol_train_scaled), 1)), axis=1)\n",
    "X_val_sc = np.append(X_test_scaled, np.resize(vol_test_scaled[:, 4], (len(vol_test_scaled), 1)), axis=1)\n",
    "\n",
    "# Train the model on GPU (if available) without validation in fit\n",
    "                \n",
    "model.fit(X_train_sc, y_train_scaled, epochs=30, batch_size=1024, verbose=1)\n",
    "\n",
    "# After training, validate by predicting on the validation set\n",
    "y_train_pred = scaler_y.inverse_transform(np.float64(model.predict(X_train_sc))).flatten()\n",
    "y_val_pred = scaler_y.inverse_transform(np.float64(model.predict(X_val_sc))).flatten()\n",
    "\n"
   ]
  },
  {
   "cell_type": "code",
   "execution_count": null,
   "metadata": {},
   "outputs": [],
   "source": [
    "# ANN Evaluation Metrics\n",
    "diff_train = y_train.flatten() - y_train_pred.flatten()\n",
    "mse_train = np.mean(diff_train**2)\n",
    "mape_train = np.mean(np.abs(diff_train / y_train))\n",
    "diff_val = y_val - y_val_pred\n",
    "mse_val = np.mean(diff_val**2)\n",
    "mape_val = np.mean(np.abs(diff_val / y_val))\n",
    "\n",
    "# BSM Evaluation Metrics\n",
    "diff_BSM_train = y_train - BSM_train[:, 0]\n",
    "mse_BSM_train = np.mean(diff_BSM_train**2)\n",
    "mape_BSM_train = np.mean(np.abs(diff_BSM_train / y_train))\n",
    "diff_BSM_test = y_val - BSM_test[:, 0]\n",
    "mse_BSM_test = np.mean(diff_BSM_val**2)\n",
    "mape_BSM_test = np.mean(np.abs(diff_BSM_val / y_val))\n",
    "# Print the results\n",
    "\n",
    "print('ANN Train MSE:', mse_train, 'MAPE:', mape_train)\n",
    "print('ANN Test MSE:', mse_val, 'MAPE:', mape_val)\n",
    "print('BSM Train MSE:', mse_BSM_train, 'MAPE:', mape_BSM_train)\n",
    "print('BSM Test MSE:', mse_BSM_val, 'MAPE:', mape_BSM_val)"
   ]
  }
 ],
 "metadata": {
  "kernelspec": {
   "display_name": "Python 3 (ipykernel)",
   "language": "python",
   "name": "python3"
  },
  "language_info": {
   "codemirror_mode": {
    "name": "ipython",
    "version": 3
   },
   "file_extension": ".py",
   "mimetype": "text/x-python",
   "name": "python",
   "nbconvert_exporter": "python",
   "pygments_lexer": "ipython3",
   "version": "3.11.4"
  }
 },
 "nbformat": 4,
 "nbformat_minor": 4
}
