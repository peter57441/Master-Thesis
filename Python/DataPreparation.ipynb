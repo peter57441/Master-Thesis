{
 "cells": [
  {
   "cell_type": "code",
   "execution_count": null,
   "metadata": {},
   "outputs": [],
   "source": [
    "import numpy as np\n",
    "import matplotlib.pyplot as plt\n",
    "import pandas as pd\n",
    "from scipy.stats import norm\n",
    "\n"
   ]
  },
  {
   "cell_type": "code",
   "execution_count": null,
   "metadata": {},
   "outputs": [],
   "source": [
    "\n",
    "\n",
    "# Import data\n",
    "\n",
    "options = pd.read_csv('C:/Users/User/Desktop/Data speciale/SPX_options_data.csv')\n",
    "\n",
    "\n"
   ]
  },
  {
   "cell_type": "code",
   "execution_count": null,
   "metadata": {},
   "outputs": [],
   "source": [
    "\n",
    "options.head()"
   ]
  },
  {
   "cell_type": "code",
   "execution_count": null,
   "metadata": {},
   "outputs": [],
   "source": [
    "# 3M US Treasury Bill rate (r)\n",
    "interst_rates = pd.read_csv('C:/Users/User/Desktop/Data speciale/3M_US_yield_data.csv', parse_dates=True, index_col='DATE', na_values='.')\n",
    "interst_rates = pd.DataFrame(interst_rates['DTB3'])    \n",
    "interst_rates.dropna(inplace=True)\n",
    "interst_rates['rate'] = interst_rates['DTB3']/100\n",
    "del(interst_rates['DTB3'])\n",
    "\n"
   ]
  },
  {
   "cell_type": "code",
   "execution_count": null,
   "metadata": {},
   "outputs": [],
   "source": [
    "# Underlying asset price (S)\n",
    "\n",
    "stock_price = pd.read_csv('C:/Users/User/Desktop/Data speciale/SPX_indicies_data.csv', parse_dates=True, index_col='date')\n",
    "stock_price = pd.DataFrame(stock_price['close'])"
   ]
  },
  {
   "cell_type": "code",
   "execution_count": null,
   "metadata": {},
   "outputs": [],
   "source": [
    "# Volatility (sigma)\n",
    "\n",
    "vol = pd.read_csv('C:/Users/User/Desktop/Data speciale/SPX_volatility.csv', parse_dates=True, index_col='date')\n"
   ]
  },
  {
   "cell_type": "code",
   "execution_count": null,
   "metadata": {},
   "outputs": [],
   "source": [
    "# select only the columns we need \n",
    "\n",
    "options = options[options['volume'] > 0]\n",
    "\n",
    "data = options[['date','exdate','strike_price','best_bid','best_offer','optionid']]\n",
    "\n",
    "# Data cleaning\n",
    "\n",
    "data['strike_price'] = data['strike_price']/1000\n",
    "data = data[data['best_bid'] > 0]\n",
    "data['price'] = (data['best_bid'] + data['best_offer'])/2\n",
    "data['date'] = pd.to_datetime(data['date'], format = '%Y-%m-%d') \n",
    "data['exdate'] = pd.to_datetime(data['exdate'], format = '%Y-%m-%d')\n",
    "data['time_to_maturity'] = (data['exdate'] - data['date']).dt.days/365\n",
    "data = data.set_index('date')\n",
    "data = data[(data['time_to_maturity'] <= 2)]\n",
    "data = data[(data['time_to_maturity'] > 1/365)]\n",
    "data = data[(data['price'] >= 0.1)]\n",
    "data['Year'] = data.index.year\n",
    "data = data.merge(stock_price, left_index = True, right_index = True, how='left')\n",
    "data = data.merge(interst_rates, left_index= True, right_index = True, how='left')\n",
    "data = data.merge(vol, left_index = True, right_index = True, how='left')\n",
    "data['moneyness'] = data['close']/data['strike_price']\n",
    "data = data[(data['moneyness'] <= 1.5)]\n",
    "data = data[(data['moneyness'] >= 0.8)]\n",
    "#data = data[data['price'] >= (data['close'] - data['strike_price'] * np.exp(-data['rate']*data['time_to_maturity']))] # arbitrage condition\n",
    "data.dropna(inplace=True)\n"
   ]
  },
  {
   "cell_type": "code",
   "execution_count": null,
   "metadata": {},
   "outputs": [],
   "source": [
    "# calculating the black scholes price for the options\n",
    "\n",
    "def black_scholes_call(S, K, T, r, sigma):\n",
    "    d1 = (np.log(S / K) + (r + 0.5 * sigma**2) * T) / (sigma * np.sqrt(T))\n",
    "    d2 = d1 - sigma * np.sqrt(T)\n",
    "    price = S * norm.cdf(d1) - K * np.exp(-r * T) * norm.cdf(d2)\n",
    "    return price\n",
    "\n",
    "\n",
    "data['BS (vol10)'] = black_scholes_call(data['close'], data['strike_price'], data['time_to_maturity'], data['rate'], data['HistVol10'])\n",
    "data['BS (vol30)'] = black_scholes_call(data['close'], data['strike_price'], data['time_to_maturity'], data['rate'], data['HistVol30'])\n",
    "data['BS (vol60)'] = black_scholes_call(data['close'], data['strike_price'], data['time_to_maturity'], data['rate'], data['HistVol60'])\n",
    "data['BS GARCH'] = black_scholes_call(data['close'], data['strike_price'], data['time_to_maturity'], data['rate'], data['GARCH'])\n",
    "data['BS VIX'] = black_scholes_call(data['close'], data['strike_price'], data['time_to_maturity'], data['rate'], data['VIX'])"
   ]
  },
  {
   "cell_type": "code",
   "execution_count": null,
   "metadata": {},
   "outputs": [],
   "source": [
    "\n",
    "# data export\n",
    "\n",
    "df = pd.DataFrame()\n",
    "\n",
    "df['Stock (S)'], df['Strike (K)'], df['Moneyness (M)'], df['Time to maturity (T)'], df['Risk free rate (r)'] = data['close'], data['strike_price'], data['moneyness'], data['time_to_maturity'], data['rate']\n",
    "df['BS (vol10)'] = data['BS (vol10)']/df['Strike (K)']\n",
    "df['BS (vol30)'] = data['BS (vol30)']/df['Strike (K)']\n",
    "df['BS (vol60)'] = data['BS (vol60)']/df['Strike (K)']\n",
    "df['BS GARCH'] = data['BS GARCH']/df['Strike (K)']\n",
    "df['BS VIX'] = data['BS VIX']/df['Strike (K)']\n",
    "df['vol10'], df['vol30'], df['vol60'], df['GARCH'], df['VIX'] = data['HistVol10'], data['HistVol30'], data['HistVol60'], data['GARCH'], data['VIX']\n",
    "df['Option Price (C)'] = data['price']/df['Strike (K)']\n",
    "df['ID'] = data['optionid']\n",
    "df['Year'] = data['Year']\n",
    "\n",
    "\n"
   ]
  },
  {
   "cell_type": "code",
   "execution_count": null,
   "metadata": {},
   "outputs": [],
   "source": [
    "\n",
    "\n",
    "# Load the dataset\n",
    "goyal = pd.read_csv('C:/Users/User/Desktop/Data speciale/Goyal_macrovariables.csv', parse_dates=True, index_col='date')\n",
    "\n",
    "# Ensure the index is in datetime format (assuming date format is 'YYYYMM')\n",
    "goyal.index = pd.to_datetime(goyal.index, format='%Y%m')\n",
    "\n",
    "# Set the index to the last day of the month\n",
    "goyal.index = goyal.index + pd.offsets.MonthEnd(0)\n",
    "\n",
    "# Create a new daily date range covering the full period of the dataset\n",
    "daily_index = pd.date_range(start=goyal.index.min(), end=goyal.index.max(), freq='D')\n",
    "\n",
    "# Reindex the dataset to the new daily frequency\n",
    "goyal_daily = goyal.reindex(daily_index)\n",
    "\n",
    "# Linearly interpolate the 'tchi' and 'shtint' columns to fill in the daily data\n",
    "goyal_daily['tchi'] = goyal_daily['tchi'].interpolate(method='linear')\n",
    "goyal_daily['shtint'] = goyal_daily['shtint'].interpolate(method='linear')\n",
    "\n",
    "# For 'gdpce', fill each daily value with the corresponding end-of-month value for that month\n",
    "goyal_daily['gdpce'] = goyal_daily['gdpce'].fillna(method='bfill')\n",
    "\n",
    "# merge goyal data with the options data\n",
    "\n",
    "df = df.merge(goyal_daily, left_index = True, right_index = True, how='left')\n",
    "\n",
    "\n"
   ]
  },
  {
   "cell_type": "code",
   "execution_count": null,
   "metadata": {},
   "outputs": [],
   "source": [
    "df.to_csv('C:/Users/User/Desktop/Data speciale/NeuralNet_data_v2.csv')"
   ]
  }
 ],
 "metadata": {
  "kernelspec": {
   "display_name": "base",
   "language": "python",
   "name": "python3"
  },
  "language_info": {
   "codemirror_mode": {
    "name": "ipython",
    "version": 3
   },
   "file_extension": ".py",
   "mimetype": "text/x-python",
   "name": "python",
   "nbconvert_exporter": "python",
   "pygments_lexer": "ipython3",
   "version": "3.11.4"
  }
 },
 "nbformat": 4,
 "nbformat_minor": 2
}
